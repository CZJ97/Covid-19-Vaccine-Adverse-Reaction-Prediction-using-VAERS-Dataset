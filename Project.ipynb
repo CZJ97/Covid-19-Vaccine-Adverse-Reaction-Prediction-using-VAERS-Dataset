{
 "cells": [
  {
   "cell_type": "markdown",
   "id": "60deb7bf",
   "metadata": {},
   "source": [
    "# Covid-19 Vaccine Adverse Reaction Prediction using VAERS Dataset"
   ]
  },
  {
   "cell_type": "markdown",
   "id": "a09e1bfa",
   "metadata": {},
   "source": [
    "## Background\n",
    "Start from 2020, Covid-19 is begin to spread around the world, with more than 220 million confirmed cases and 4.5 million deaths across almost 200 countries.Luckily nowadays, have few vaccine for the covid-19 have been released. But based on the research, most of the vaccine have adverse reaction, even have threat recipient life. \n",
    "\n"
   ]
  },
  {
   "cell_type": "markdown",
   "id": "d49cb3c2",
   "metadata": {},
   "source": [
    "## Objective\n",
    "To predict whether recipient will died or not using machine learning algorithms. The algorithms used are Logistic Regression, K-NearestNeighbor, Decision Tree, Gaussian Naive Bayes, Support Vector Machine, Artificial Neural Network and Random Forest."
   ]
  },
  {
   "cell_type": "markdown",
   "id": "2d19b7cb",
   "metadata": {},
   "source": [
    "### Abstract\n",
    "The dataset used is vaers_jan_aug_2021.csv file and it includes various kind of variables, but only some of the vairables will be use on this project. The dataset used is from Kaggle. https://www.kaggle.com/landfallmotto/covid19-vaccine-adverse-reactions-vaers-dataset"
   ]
  },
  {
   "cell_type": "markdown",
   "id": "1832e21f",
   "metadata": {},
   "source": [
    "# Data Understanding\n",
    "## Describe data\n",
    "There are 53 columns inside the dataset, and the datatype are integer, float and object type. Since this data set is collect through the VAERS form, this form have 1 and 2, and form 1 and form 2 have slightly different(form 1 have some field than form 2 is not include), and only 365 is collected from form 1, then will drop all the form 1 observation and drop the column only form 1 included like RPT_DATE, ER_VISIT and etc.\n",
    "\n",
    "Also drop some useless informaiton like CAGE_TR, CAGE_MO, VAX_DATE, and etc.\n",
    "You can review from https://vaers.hhs.gov/docs/VAERSDataUseGuide_November2020.pdf to get more for this data set column's defination.\n",
    "\n",
    "\n"
   ]
  },
  {
   "cell_type": "code",
   "execution_count": 1,
   "id": "e809b576",
   "metadata": {},
   "outputs": [],
   "source": [
    "#import library\n",
    "import pandas as pd\n",
    "import numpy as np"
   ]
  },
  {
   "cell_type": "code",
   "execution_count": 2,
   "id": "30882df6",
   "metadata": {},
   "outputs": [
    {
     "name": "stderr",
     "output_type": "stream",
     "text": [
      "C:\\Users\\user\\anaconda3\\lib\\site-packages\\IPython\\core\\interactiveshell.py:3165: DtypeWarning: Columns (24,29,32,40) have mixed types.Specify dtype option on import or set low_memory=False.\n",
      "  has_raised = await self.run_ast_nodes(code_ast.body, cell_name,\n"
     ]
    }
   ],
   "source": [
    "#read the data file\n",
    "df=pd.read_csv('vaers_jan_aug_2021.csv')"
   ]
  },
  {
   "cell_type": "code",
   "execution_count": 3,
   "id": "1b8a59bd",
   "metadata": {},
   "outputs": [
    {
     "name": "stdout",
     "output_type": "stream",
     "text": [
      "<class 'pandas.core.frame.DataFrame'>\n",
      "RangeIndex: 603462 entries, 0 to 603461\n",
      "Data columns (total 52 columns):\n",
      " #   Column           Non-Null Count   Dtype  \n",
      "---  ------           --------------   -----  \n",
      " 0   VAERS_ID         603462 non-null  int64  \n",
      " 1   SYMPTOM1         603462 non-null  object \n",
      " 2   SYMPTOMVERSION1  603462 non-null  float64\n",
      " 3   SYMPTOM2         479853 non-null  object \n",
      " 4   SYMPTOMVERSION2  479853 non-null  float64\n",
      " 5   SYMPTOM3         375217 non-null  object \n",
      " 6   SYMPTOMVERSION3  375217 non-null  float64\n",
      " 7   SYMPTOM4         285679 non-null  object \n",
      " 8   SYMPTOMVERSION4  285679 non-null  float64\n",
      " 9   SYMPTOM5         212253 non-null  object \n",
      " 10  SYMPTOMVERSION5  212253 non-null  float64\n",
      " 11  VAX_TYPE         603462 non-null  object \n",
      " 12  VAX_MANU         603462 non-null  object \n",
      " 13  VAX_LOT          428527 non-null  object \n",
      " 14  VAX_DOSE_SERIES  600377 non-null  object \n",
      " 15  VAX_ROUTE        471843 non-null  object \n",
      " 16  VAX_SITE         485734 non-null  object \n",
      " 17  VAX_NAME         603462 non-null  object \n",
      " 18  RECVDATE         603462 non-null  object \n",
      " 19  STATE            546040 non-null  object \n",
      " 20  AGE_YRS          569688 non-null  float64\n",
      " 21  CAGE_YR          519222 non-null  float64\n",
      " 22  CAGE_MO          949 non-null     float64\n",
      " 23  SEX              603462 non-null  object \n",
      " 24  RPT_DATE         315 non-null     object \n",
      " 25  SYMPTOM_TEXT     603358 non-null  object \n",
      " 26  DIED             9674 non-null    object \n",
      " 27  DATEDIED         9050 non-null    object \n",
      " 28  L_THREAT         16627 non-null   object \n",
      " 29  ER_VISIT         50 non-null      object \n",
      " 30  HOSPITAL         55492 non-null   object \n",
      " 31  HOSPDAYS         40981 non-null   float64\n",
      " 32  X_STAY           426 non-null     object \n",
      " 33  DISABLE          13931 non-null   object \n",
      " 34  RECOVD           552449 non-null  object \n",
      " 35  VAX_DATE         576123 non-null  object \n",
      " 36  ONSET_DATE       582241 non-null  object \n",
      " 37  NUMDAYS          559488 non-null  float64\n",
      " 38  LAB_DATA         299639 non-null  object \n",
      " 39  V_ADMINBY        603462 non-null  object \n",
      " 40  V_FUNDBY         365 non-null     object \n",
      " 41  OTHER_MEDS       414969 non-null  object \n",
      " 42  CUR_ILL          334261 non-null  object \n",
      " 43  HISTORY          430575 non-null  object \n",
      " 44  PRIOR_VAX        36714 non-null   object \n",
      " 45  SPLTTYPE         102656 non-null  object \n",
      " 46  FORM_VERS        603462 non-null  int64  \n",
      " 47  TODAYS_DATE      600356 non-null  object \n",
      " 48  BIRTH_DEFECT     429 non-null     object \n",
      " 49  OFC_VISIT        140758 non-null  object \n",
      " 50  ER_ED_VISIT      105623 non-null  object \n",
      " 51  ALLERGIES        387630 non-null  object \n",
      "dtypes: float64(10), int64(2), object(40)\n",
      "memory usage: 239.4+ MB\n"
     ]
    }
   ],
   "source": [
    "df.info()"
   ]
  },
  {
   "cell_type": "code",
   "execution_count": 4,
   "id": "2d09fa7e",
   "metadata": {},
   "outputs": [
    {
     "data": {
      "text/plain": [
       "2    603097\n",
       "1       365\n",
       "Name: FORM_VERS, dtype: int64"
      ]
     },
     "execution_count": 4,
     "metadata": {},
     "output_type": "execute_result"
    }
   ],
   "source": [
    "df['FORM_VERS'].value_counts()"
   ]
  },
  {
   "cell_type": "code",
   "execution_count": 5,
   "id": "e8ae7f5d",
   "metadata": {},
   "outputs": [],
   "source": [
    "df.drop(df.loc[df['FORM_VERS']==1].index, inplace=True)"
   ]
  },
  {
   "cell_type": "code",
   "execution_count": 6,
   "id": "cda88ae6",
   "metadata": {},
   "outputs": [],
   "source": [
    "df=df.drop(['FORM_VERS','VAX_DOSE_SERIES','VAX_NAME','VAX_ROUTE','VAX_SITE','VAX_LOT','SYMPTOMVERSION1','SYMPTOMVERSION2',\n",
    "                'SYMPTOMVERSION3','SYMPTOMVERSION4','SYMPTOMVERSION5','VAX_TYPE','RECVDATE','STATE','CAGE_YR','CAGE_MO',\n",
    "                'RPT_DATE','ER_VISIT','V_ADMINBY','V_FUNDBY','TODAYS_DATE','SPLTTYPE','SYMPTOM_TEXT','DATEDIED','HOSPDAYS','LAB_DATA','PRIOR_VAX',\n",
    "                'NUMDAYS','VAX_DATE','HISTORY','OTHER_MEDS','ALLERGIES','ONSET_DATE','VAERS_ID','L_THREAT','HOSPITAL','X_STAY','OFC_VISIT','ER_ED_VISIT'],axis='columns')"
   ]
  },
  {
   "cell_type": "code",
   "execution_count": 7,
   "id": "a8a815b5",
   "metadata": {},
   "outputs": [
    {
     "name": "stdout",
     "output_type": "stream",
     "text": [
      "<class 'pandas.core.frame.DataFrame'>\n",
      "Int64Index: 603097 entries, 0 to 603461\n",
      "Data columns (total 13 columns):\n",
      " #   Column        Non-Null Count   Dtype  \n",
      "---  ------        --------------   -----  \n",
      " 0   SYMPTOM1      603097 non-null  object \n",
      " 1   SYMPTOM2      479599 non-null  object \n",
      " 2   SYMPTOM3      375040 non-null  object \n",
      " 3   SYMPTOM4      285556 non-null  object \n",
      " 4   SYMPTOM5      212179 non-null  object \n",
      " 5   VAX_MANU      603097 non-null  object \n",
      " 6   AGE_YRS       569364 non-null  float64\n",
      " 7   SEX           603097 non-null  object \n",
      " 8   DIED          9634 non-null    object \n",
      " 9   DISABLE       13928 non-null   object \n",
      " 10  RECOVD        552246 non-null  object \n",
      " 11  CUR_ILL       334139 non-null  object \n",
      " 12  BIRTH_DEFECT  429 non-null     object \n",
      "dtypes: float64(1), object(12)\n",
      "memory usage: 64.4+ MB\n"
     ]
    }
   ],
   "source": [
    "df.info()"
   ]
  },
  {
   "cell_type": "markdown",
   "id": "643dff38",
   "metadata": {},
   "source": [
    "# Check missing value\n",
    "Only SYMpTOM1, VAX_MANU, and SEX is not missing value.\n",
    "\n",
    "## Handle missing value\n",
    "For SYMPTOM2 to 5, have missing value is normal, since not all the recipient have more than 1 symptom.\n",
    "\n",
    "For column AGE_YRS, will drop the missing value.\n",
    "\n",
    "For column DIED until BIRTH_DEFECT, will assign 'n' to missing value, since this data is collected from VAERS form, the empty mean none like column DIED, missing value means the recipient not died."
   ]
  },
  {
   "cell_type": "code",
   "execution_count": 8,
   "id": "5e580199",
   "metadata": {},
   "outputs": [
    {
     "name": "stdout",
     "output_type": "stream",
     "text": [
      "Missing values per column:\n",
      "SYMPTOM1             0\n",
      "SYMPTOM2        123498\n",
      "SYMPTOM3        228057\n",
      "SYMPTOM4        317541\n",
      "SYMPTOM5        390918\n",
      "VAX_MANU             0\n",
      "AGE_YRS          33733\n",
      "SEX                  0\n",
      "DIED            593463\n",
      "DISABLE         589169\n",
      "RECOVD           50851\n",
      "CUR_ILL         268958\n",
      "BIRTH_DEFECT    602668\n",
      "dtype: int64\n"
     ]
    }
   ],
   "source": [
    "#Create a new function:\n",
    "def num_missing(x):\n",
    "  return sum(x.isnull())\n",
    "\n",
    "#Applying per column:\n",
    "print (\"Missing values per column:\")\n",
    "print (df.apply(num_missing, axis=0)) #axis=0 defines that function is to be applied on each column"
   ]
  },
  {
   "cell_type": "code",
   "execution_count": 9,
   "id": "a137d80e",
   "metadata": {},
   "outputs": [],
   "source": [
    "df['AGE_YRS'].fillna('unknow',inplace=True)\n",
    "df.drop(df.loc[df['AGE_YRS']=='unknow'].index, inplace=True)\n"
   ]
  },
  {
   "cell_type": "code",
   "execution_count": 10,
   "id": "84083910",
   "metadata": {},
   "outputs": [],
   "source": [
    "#replace Nan value to N, assume missing value is no in these column.\n",
    "df['DIED'].fillna('N',inplace=True)\n",
    "df['DISABLE'].fillna('N',inplace=True)\n",
    "df['CUR_ILL'].fillna('N',inplace=True)\n",
    "df['BIRTH_DEFECT'].fillna('N',inplace=True)\n",
    "df['RECOVD'].fillna('U',inplace=True)"
   ]
  },
  {
   "cell_type": "code",
   "execution_count": 11,
   "id": "1a5eaacc",
   "metadata": {},
   "outputs": [
    {
     "name": "stdout",
     "output_type": "stream",
     "text": [
      "Missing values per column:\n",
      "SYMPTOM1             0\n",
      "SYMPTOM2        112698\n",
      "SYMPTOM3        210127\n",
      "SYMPTOM4        293893\n",
      "SYMPTOM5        364158\n",
      "VAX_MANU             0\n",
      "AGE_YRS              0\n",
      "SEX                  0\n",
      "DIED                 0\n",
      "DISABLE              0\n",
      "RECOVD               0\n",
      "CUR_ILL              0\n",
      "BIRTH_DEFECT         0\n",
      "dtype: int64\n"
     ]
    }
   ],
   "source": [
    "# After drop and replace the missing value, only left SYMPTOM 2 to 5 have missing value.\n",
    "def num_missing(x):\n",
    "  return sum(x.isnull())\n",
    "\n",
    "#Applying per column:\n",
    "print (\"Missing values per column:\")\n",
    "print (df.apply(num_missing, axis=0))"
   ]
  },
  {
   "cell_type": "markdown",
   "id": "17967cf7",
   "metadata": {},
   "source": [
    "# Check the columns unique\n",
    "\n",
    "Have 4 vaccine manufacture, which are Jassen, Moderna, Pfizer and unknow manufacture. So will drop the unknow manufacture.\n",
    "Have 3 value in SEX column, so drop the recipient who are unknow sex."
   ]
  },
  {
   "cell_type": "code",
   "execution_count": 12,
   "id": "e8d2e52e",
   "metadata": {},
   "outputs": [
    {
     "data": {
      "text/plain": [
       "SYMPTOM1         5885\n",
       "SYMPTOM2         5656\n",
       "SYMPTOM3         5230\n",
       "SYMPTOM4         4737\n",
       "SYMPTOM5         4384\n",
       "VAX_MANU            4\n",
       "AGE_YRS           139\n",
       "SEX                 3\n",
       "DIED                2\n",
       "DISABLE             2\n",
       "RECOVD              3\n",
       "CUR_ILL         39075\n",
       "BIRTH_DEFECT        2\n",
       "dtype: int64"
      ]
     },
     "execution_count": 12,
     "metadata": {},
     "output_type": "execute_result"
    }
   ],
   "source": [
    "df.nunique()"
   ]
  },
  {
   "cell_type": "code",
   "execution_count": 13,
   "id": "0c0e6564",
   "metadata": {},
   "outputs": [
    {
     "data": {
      "text/plain": [
       "MODERNA                 259656\n",
       "PFIZER\\BIONTECH         253366\n",
       "JANSSEN                  55139\n",
       "UNKNOWN MANUFACTURER      1203\n",
       "Name: VAX_MANU, dtype: int64"
      ]
     },
     "execution_count": 13,
     "metadata": {},
     "output_type": "execute_result"
    }
   ],
   "source": [
    "df['VAX_MANU'].value_counts()"
   ]
  },
  {
   "cell_type": "code",
   "execution_count": 14,
   "id": "7c73eb75",
   "metadata": {},
   "outputs": [
    {
     "data": {
      "text/plain": [
       "F    409465\n",
       "M    157023\n",
       "U      2876\n",
       "Name: SEX, dtype: int64"
      ]
     },
     "execution_count": 14,
     "metadata": {},
     "output_type": "execute_result"
    }
   ],
   "source": [
    "df['SEX'].value_counts()"
   ]
  },
  {
   "cell_type": "code",
   "execution_count": 15,
   "id": "13e426c3",
   "metadata": {},
   "outputs": [],
   "source": [
    "df.drop(df.loc[df['VAX_MANU']=='UNKNOWN MANUFACTURER'].index, inplace=True)\n",
    "\n",
    "df.drop(df.loc[df['SEX']=='U'].index, inplace=True)"
   ]
  },
  {
   "cell_type": "markdown",
   "id": "904f9ced",
   "metadata": {},
   "source": [
    "# Data cleaning\n",
    "\n",
    "## Check the value of the SYMPTOM and CUR_ILL\n",
    "Replace the similar definition to one, like high blood pressure replace to hypentension."
   ]
  },
  {
   "cell_type": "code",
   "execution_count": 16,
   "id": "a4518742",
   "metadata": {},
   "outputs": [],
   "source": [
    "#replace value to lowercase\n",
    "df[\"CUR_ILL\"] = df[\"CUR_ILL\"].str.lower()\n",
    "df[\"SYMPTOM1\"] = df[\"SYMPTOM1\"].str.lower()\n",
    "df[\"SYMPTOM2\"] = df[\"SYMPTOM2\"].str.lower()\n",
    "df[\"SYMPTOM3\"] = df[\"SYMPTOM3\"].str.lower()\n",
    "df[\"SYMPTOM4\"] = df[\"SYMPTOM4\"].str.lower()\n",
    "df[\"SYMPTOM5\"] = df[\"SYMPTOM5\"].str.lower()"
   ]
  },
  {
   "cell_type": "code",
   "execution_count": 17,
   "id": "bbffca9b",
   "metadata": {},
   "outputs": [
    {
     "data": {
      "text/plain": [
       "n                                      236052\n",
       "none                                   193972\n",
       "no                                      20953\n",
       "unknown                                  9437\n",
       "none.                                    5599\n",
       "none known                               2789\n",
       "none reported                            2654\n",
       "n/a                                      2073\n",
       "na                                       1299\n",
       "seasonal allergies                       1055\n",
       "asthma                                    788\n",
       "denies                                    727\n",
       "sinus infection                           572\n",
       "no.                                       540\n",
       "uti                                       504\n",
       "hypertension                              460\n",
       "no illnesses                              451\n",
       "none noted                                418\n",
       "diabetes                                  390\n",
       "0                                         376\n",
       "nothing                                   368\n",
       "non                                       334\n",
       "allergies                                 293\n",
       "not known                                 281\n",
       "no known                                  268\n",
       "high blood pressure                       267\n",
       "unk                                       260\n",
       "none listed                               259\n",
       "migraine                                  255\n",
       "covid-19                                  254\n",
       "migraines                                 249\n",
       "abstains from alcohol; non-smoker         246\n",
       "anxiety                                   227\n",
       "no illness                                218\n",
       "rheumatoid arthritis                      197\n",
       "hypothyroidism                            188\n",
       "no acute illness                          186\n",
       "cold                                      171\n",
       "no known illnesses                        171\n",
       "no acute illnesses                        165\n",
       "copd                                      163\n",
       "covid                                     157\n",
       "none known.                               155\n",
       "i did not have any other illnesses.       147\n",
       "none stated                               146\n",
       "urinary tract infection                   138\n",
       "diabetic                                  136\n",
       "denied                                    131\n",
       "unknown.                                  131\n",
       "gerd                                      130\n",
       "fibromyalgia                              127\n",
       "anemia                                    127\n",
       "no other illnesses                        126\n",
       "not applicable                            118\n",
       "blood pressure high                       118\n",
       "not reported                              118\n",
       "no other illnesses.                       116\n",
       "none reported.                            116\n",
       "multiple sclerosis                        110\n",
       "arthritis                                 107\n",
       "Name: CUR_ILL, dtype: int64"
      ]
     },
     "execution_count": 17,
     "metadata": {},
     "output_type": "execute_result"
    }
   ],
   "source": [
    "# check the top 60 value for CUR_ILL column\n",
    "df['CUR_ILL'].value_counts().head(60)\n",
    "\n",
    "# Can observe that s many is represent no illness when vaccine, \n",
    "#but the recipient write different word to represent. So need clean it."
   ]
  },
  {
   "cell_type": "code",
   "execution_count": 18,
   "id": "cdce643a",
   "metadata": {},
   "outputs": [],
   "source": [
    "df=df.replace(to_replace =[\"none reported.\",\"no other illnesses.\",\"not applicable\",\"not reported\",\"none\",\"no\",\"unknown\"\n",
    "                            ,\"none.\",\"none known\",\"none reported\",\"n/a\",\"na\",\"no.\",\"no illnesses\",\"none noted\",\"0\",\"none per patient\",\n",
    "                            \"nothing\",\"non\",\"not known\",\"unk\",\"no known\",\"none listed\",\"no illness\",\"no acute illness\",\n",
    "                            \"no known illnesses\",\"no acute illnesses\",\"none known.\",\"i did not have any other illnesses.\",\"denies\"\n",
    "                            ,\"none stated\",\"unknown.\",\"denied\",\"no other illnesses\",\"-\",\"nka\",\"no e\",\"unkown\",\"nil\",\"none documented\"\n",
    "                            ,\"no illnesses at the time of vaccination.\",\"nonr\",\"zero\",\"none disclosed\",\"no illnesses.\",\"?\"\n",
    "                            ,\"none that i am aware of\",\"nome\"],value=\"n\")"
   ]
  },
  {
   "cell_type": "code",
   "execution_count": 19,
   "id": "563c58c8",
   "metadata": {},
   "outputs": [
    {
     "data": {
      "text/plain": [
       "n                                    482224\n",
       "seasonal allergies                     1055\n",
       "asthma                                  788\n",
       "sinus infection                         572\n",
       "uti                                     504\n",
       "hypertension                            460\n",
       "diabetes                                390\n",
       "allergies                               293\n",
       "high blood pressure                     267\n",
       "migraine                                255\n",
       "covid-19                                254\n",
       "migraines                               249\n",
       "abstains from alcohol; non-smoker       246\n",
       "anxiety                                 227\n",
       "rheumatoid arthritis                    197\n",
       "hypothyroidism                          188\n",
       "cold                                    171\n",
       "copd                                    163\n",
       "covid                                   157\n",
       "urinary tract infection                 138\n",
       "diabetic                                136\n",
       "gerd                                    130\n",
       "anemia                                  127\n",
       "fibromyalgia                            127\n",
       "blood pressure high                     118\n",
       "multiple sclerosis                      110\n",
       "arthritis                               107\n",
       "depression                              106\n",
       "bronchitis                              106\n",
       "sinusitis                               103\n",
       "ear infection                            99\n",
       "covid 19                                 96\n",
       "nine                                     95\n",
       "common cold                              93\n",
       "htn                                      90\n",
       "pneumonia                                89\n",
       "high cholesterol                         86\n",
       "penicillin allergy                       86\n",
       "seasonal allergy                         85\n",
       "breast cancer                            84\n",
       "lupus                                    84\n",
       "psoriasis                                83\n",
       "acid reflux                              83\n",
       "vertigo                                  82\n",
       "cancer                                   81\n",
       "diverticulitis                           80\n",
       "ibs                                      78\n",
       "original on file at facility             78\n",
       "shingles                                 78\n",
       "headache                                 76\n",
       "epilepsy                                 75\n",
       "seasonal allergies.                      73\n",
       "ms                                       71\n",
       "osteoarthritis                           69\n",
       "back pain                                66\n",
       "sore throat                              65\n",
       "ulcerative colitis                       61\n",
       "gout                                     57\n",
       "psoriatic arthritis                      57\n",
       "strep throat                             57\n",
       "Name: CUR_ILL, dtype: int64"
      ]
     },
     "execution_count": 19,
     "metadata": {},
     "output_type": "execute_result"
    }
   ],
   "source": [
    "# Check the top 60 column for symptom1\n",
    "df['CUR_ILL'].value_counts().head(60)"
   ]
  },
  {
   "cell_type": "code",
   "execution_count": 20,
   "id": "e4be5dc3",
   "metadata": {},
   "outputs": [],
   "source": [
    "# Can observe that have some illness and symptom have same definition but different word, like high blood pressure is hypertension,\n",
    "# So, will replace the value.\n",
    "df=df.replace(to_replace=[\"seasonal allergy\",\"seasonal allergies\",\"seasonal allergies.\",\"penicillin allergy\",\"\"],value=\"allergies\")\n",
    "\n",
    "df=df.replace(to_replace=[\"high blood pressure\",\"blood pressure high\",\"htn\"],value=\"hypertension\")\n",
    "\n",
    "df=df.replace(to_replace=[\"urinary tract infection\"],value=\"uti\")\n",
    "\n",
    "df=df.replace(to_replace=[\"covid 19\",\"covid\"],value=\"covid-19\")\n",
    "\n",
    "df=df.replace(to_replace=[\"sinus congestion\",\"strep throat\",\"sore throat\"],value=\"sinus infection\")\n",
    "\n",
    "df=df.replace(to_replace=[\"injection site erythema\",\"injection site swelling\",\"injection site pruritus\",\"injection site pain\"\n",
    "                           ,\"injection site warmth\",\"injection site rash\",\"vaccination site pain\"\n",
    "                           ,\"injection site induration\"],value=\"injection side\")\n",
    "\n",
    "df=df.replace(to_replace=[\"myalgia\",\"pain in extremity\",\"arthralgia\",\"neck pain\"],value=\"pain\")\n",
    "\n",
    "df=df.replace(to_replace=[\"paraesthesia\",\"malaise\",\"feeling abnormal\"],value=\"uncomfortable\")\n",
    "\n",
    "df=df.replace(to_replace=[\"dyspnoea\",\"chest discomfort\",\"chest pain\"],value=\"breathing problem\")\n",
    "\n",
    "df=df.replace(to_replace=[\"migraine\",\"migraines\"],value=\"headache\")\n",
    "\n",
    "df=df.replace(to_replace=[\"feeling cold\"],value=\"chills\")\n",
    "\n",
    "df=df.replace(to_replace=[\"feeling hot\",\"body temperature increased\",\"body temperature\"],value=\"pyrexia\")\n",
    "\n",
    "df=df.replace(to_replace=[\"heart rate increased\"],value=\"tremor\")\n",
    "\n",
    "df=df.replace(to_replace=[\"syncope\"],value=\"dizziness\")\n",
    "\n",
    "df=df.replace(to_replace=[\"sars-cov-2 test positive\",\"covid-19 pneumonia\"],value=\"covid-19\")"
   ]
  },
  {
   "cell_type": "code",
   "execution_count": 21,
   "id": "d6654a0e",
   "metadata": {},
   "outputs": [],
   "source": [
    "# Replace AGE_YRS to 5 group\n",
    "def age_transfor(df) :\n",
    "    \n",
    "    if df[\"AGE_YRS\"] < 18 :\n",
    "        return \"Child\"\n",
    "    elif (df[\"AGE_YRS\"] >= 18) & (df[\"AGE_YRS\"] < 45 ):\n",
    "        return \"Young Adult\"\n",
    "    elif (df[\"AGE_YRS\"] >= 45) & (df[\"AGE_YRS\"] < 60) :\n",
    "        return \"Senior Adult\"\n",
    "    elif (df[\"AGE_YRS\"] >= 60) & (df[\"AGE_YRS\"] < 80) :\n",
    "        return \"Senior Citizen\"\n",
    "    elif df[\"AGE_YRS\"] >= 80 :\n",
    "        return \"Very Senior Citizen\"\n",
    "    \n",
    "df[\"age_group\"] = df.apply(lambda df:age_transfor(df),\n",
    "                                      axis = 1)\n"
   ]
  },
  {
   "cell_type": "code",
   "execution_count": 22,
   "id": "53745ea0",
   "metadata": {},
   "outputs": [],
   "source": [
    "# drop duplicates\n",
    "df=df.drop_duplicates()"
   ]
  },
  {
   "cell_type": "code",
   "execution_count": 23,
   "id": "8e40ffd3",
   "metadata": {},
   "outputs": [
    {
     "name": "stdout",
     "output_type": "stream",
     "text": [
      "Empty DataFrame\n",
      "Columns: [SYMPTOM1, SYMPTOM2, SYMPTOM3, SYMPTOM4, SYMPTOM5, VAX_MANU, AGE_YRS, SEX, DIED, DISABLE, RECOVD, CUR_ILL, BIRTH_DEFECT, age_group]\n",
      "Index: []\n"
     ]
    }
   ],
   "source": [
    "# Check duplicate\n",
    "duplicateRowsDF = df[df.duplicated()]\n",
    "print(duplicateRowsDF)"
   ]
  },
  {
   "cell_type": "markdown",
   "id": "dd1c83ac",
   "metadata": {},
   "source": [
    "# Data visualization"
   ]
  },
  {
   "cell_type": "code",
   "execution_count": 24,
   "id": "3dd8bd34",
   "metadata": {},
   "outputs": [
    {
     "data": {
      "text/plain": [
       "<AxesSubplot:ylabel='None'>"
      ]
     },
     "execution_count": 24,
     "metadata": {},
     "output_type": "execute_result"
    },
    {
     "data": {
      "image/png": "[encoded data removed]",
      "text/plain": [
       "<Figure size 432x288 with 1 Axes>"
      ]
     },
     "metadata": {},
     "output_type": "display_data"
    }
   ],
   "source": [
    "# Check proportion DEID column\n",
    "df.groupby('DIED').size().plot(kind='pie', autopct='%.2f')"
   ]
  },
  {
   "cell_type": "code",
   "execution_count": 25,
   "id": "451ed498",
   "metadata": {},
   "outputs": [
    {
     "data": {
      "text/plain": [
       "<AxesSubplot:ylabel='None'>"
      ]
     },
     "execution_count": 25,
     "metadata": {},
     "output_type": "execute_result"
    },
    {
     "data": {
      "image/png": "[encoded data removed]",
      "text/plain": [
       "<Figure size 432x288 with 1 Axes>"
      ]
     },
     "metadata": {},
     "output_type": "display_data"
    }
   ],
   "source": [
    "# Check proportion VAX_MANU column\n",
    "df.groupby('VAX_MANU').size().plot(kind='pie', autopct='%.2f')"
   ]
  },
  {
   "cell_type": "code",
   "execution_count": 26,
   "id": "923f516d",
   "metadata": {},
   "outputs": [],
   "source": [
    "#Seperating the data for visuaization use\n",
    "ndf=df"
   ]
  },
  {
   "cell_type": "markdown",
   "id": "79e1202f",
   "metadata": {},
   "source": [
    "## Sepearte binary and multi category column.\n",
    "binary category column: SEX, DISABLE, BIRTH_DEFECT\n",
    "\n",
    "multi category column: VAX_MANU, age_group, RECOVD"
   ]
  },
  {
   "cell_type": "code",
   "execution_count": 27,
   "id": "f026bbfb",
   "metadata": {},
   "outputs": [],
   "source": [
    "#Separating DIED and non DIED customers\n",
    "died     = ndf[ndf[\"DIED\"] == \"Y\"]\n",
    "not_died = ndf[ndf[\"DIED\"] == \"N\"]\n",
    "\n",
    "\n",
    "target_col = [\"DIED\"]\n",
    "\n",
    "bi_cat_cols   = ndf.nunique()[ndf.nunique() == 2].keys().tolist()\n",
    "bi_cat_cols   = [x for x in bi_cat_cols if x not in target_col]\n",
    "\n",
    "cat_cols=ndf.nunique()[ndf.nunique() <6].keys().tolist()\n",
    "cat_cols   = [x for x in cat_cols if x not in target_col+bi_cat_cols]\n"
   ]
  },
  {
   "cell_type": "code",
   "execution_count": 28,
   "id": "ded4830d",
   "metadata": {},
   "outputs": [
    {
     "data": {
      "text/html": [
       "        <script type=\"text/javascript\">\n",
       "        window.PlotlyConfig = {MathJaxConfig: 'local'};\n",
       "        if (window.MathJax) {MathJax.Hub.Config({SVG: {font: \"STIX-Web\"}});}\n",
       "        if (typeof require !== 'undefined') {\n",
       "        require.undef(\"plotly\");\n",
       "        requirejs.config({\n",
       "            paths: {\n",
       "                'plotly': ['https://cdn.plot.ly/plotly-2.2.0.min']\n",
       "            }\n",
       "        });\n",
       "        require(['plotly'], function(Plotly) {\n",
       "            window._Plotly = Plotly;\n",
       "        });\n",
       "        }\n",
       "        </script>\n",
       "        "
      ]
     },
     "metadata": {},
     "output_type": "display_data"
    }
   ],
   "source": [
    "import plotly.graph_objs as go#visualization\n",
    "import plotly.offline as py\n",
    "py.init_notebook_mode(connected=True)#visualization\n",
    "import plotly.tools as tls#visualization\n",
    "import plotly.figure_factory as ff#visualization\n",
    "import matplotlib.pyplot as plt#visualization\n",
    "from PIL import Image\n",
    "%matplotlib inline\n",
    "import seaborn as sns #visualization\n",
    "from plotly.offline import init_notebook_mode, plot_mpl\n",
    "def plot_pie(column) :\n",
    "    \n",
    "    trace1 = go.Pie(values  = died[column].value_counts().values.tolist(),\n",
    "                    labels  = died[column].value_counts().keys().tolist(),\n",
    "                    hoverinfo = \"label+percent+name\",\n",
    "                    domain  = dict(x = [0,.48]),\n",
    "                    name    = \"Died\",\n",
    "                    marker  = dict(line = dict(width = 2,\n",
    "                                               color = \"rgb(243,243,243)\")\n",
    "                                  ),\n",
    "                    hole    = .6\n",
    "                   )\n",
    "    trace2 = go.Pie(values  = not_died[column].value_counts().values.tolist(),\n",
    "                    labels  = not_died[column].value_counts().keys().tolist(),\n",
    "                    hoverinfo = \"label+percent+name\",\n",
    "                    marker  = dict(line = dict(width = 2,\n",
    "                                               color = \"rgb(243,243,243)\")\n",
    "                                  ),\n",
    "                    domain  = dict(x = [.52,1]),\n",
    "                    hole    = .6,\n",
    "                    name    = \"Non died\" \n",
    "                   )\n",
    "\n",
    "\n",
    "    layout = go.Layout(dict(title = column + \" VS DIED \",\n",
    "                            plot_bgcolor  = \"rgb(243,243,243)\",\n",
    "                            paper_bgcolor = \"rgb(243,243,243)\",\n",
    "                            \n",
    "                            annotations = [dict(text = \"After vaccination died\",\n",
    "                                                font = dict(size = 13),\n",
    "                                                showarrow = False,\n",
    "                                                x = .15, y = .5),\n",
    "                                           dict(text = \"After vaccination not died\",\n",
    "                                                font = dict(size = 13),\n",
    "                                                showarrow = False,\n",
    "                                                x = .88,y = .5\n",
    "                                               )\n",
    "                                          ]\n",
    "                           )\n",
    "                      )\n",
    "    data = [trace1,trace2]\n",
    "    fig  = go.Figure(data = data,layout = layout)\n",
    "  \n",
    "    py.iplot(fig)\n"
   ]
  },
  {
   "cell_type": "code",
   "execution_count": 29,
   "id": "c6b16386",
   "metadata": {},
   "outputs": [
    {
     "data": {
      "application/vnd.plotly.v1+json": {
       "config": {
        "linkText": "Export to plot.ly",
        "plotlyServerURL": "https://plot.ly",
        "showLink": false
       },
       "data": [
        {
         "domain": {
          "x": [
           0,
           0.48
          ]
         },
         "hole": 0.6,
         "hoverinfo": "label+percent+name",
         "labels": [
          "M",
          "F"
         ],
         "marker": {
          "line": {
           "color": "rgb(243,243,243)",
           "width": 2
          }
         },
         "name": "Died",
         "type": "pie",
         "values": [
          4138,
          3427
         ]
        },
        {
         "domain": {
          "x": [
           0.52,
           1
          ]
         },
         "hole": 0.6,
         "hoverinfo": "label+percent+name",
         "labels": [
          "F",
          "M"
         ],
         "marker": {
          "line": {
           "color": "rgb(243,243,243)",
           "width": 2
          }
         },
         "name": "Non died",
         "type": "pie",
         "values": [
          335677,
          127162
         ]
        }
       ],
       "layout": {
        "annotations": [
         {
          "font": {
           "size": 13
          },
          "showarrow": false,
          "text": "After vaccination died",
          "x": 0.15,
          "y": 0.5
         },
         {
          "font": {
           "size": 13
          },
          "showarrow": false,
          "text": "After vaccination not died",
          "x": 0.88,
          "y": 0.5
         }
        ],
        "paper_bgcolor": "rgb(243,243,243)",
        "plot_bgcolor": "rgb(243,243,243)",
        "template": {
         "data": {
          "bar": [
           {
            "error_x": {
             "color": "#2a3f5f"
            },
            "error_y": {
             "color": "#2a3f5f"
            },
            "marker": {
             "line": {
              "color": "#E5ECF6",
              "width": 0.5
             },
             "pattern": {
              "fillmode": "overlay",
              "size": 10,
              "solidity": 0.2
             }
            },
            "type": "bar"
           }
          ],
          "barpolar": [
           {
            "marker": {
             "line": {
              "color": "#E5ECF6",
              "width": 0.5
             },
             "pattern": {
              "fillmode": "overlay",
              "size": 10,
              "solidity": 0.2
             }
            },
            "type": "barpolar"
           }
          ],
          "carpet": [
           {
            "aaxis": {
             "endlinecolor": "#2a3f5f",
             "gridcolor": "white",
             "linecolor": "white",
             "minorgridcolor": "white",
             "startlinecolor": "#2a3f5f"
            },
            "baxis": {
             "endlinecolor": "#2a3f5f",
             "gridcolor": "white",
             "linecolor": "white",
             "minorgridcolor": "white",
             "startlinecolor": "#2a3f5f"
            },
            "type": "carpet"
           }
          ],
          "choropleth": [
           {
            "colorbar": {
             "outlinewidth": 0,
             "ticks": ""
            },
            "type": "choropleth"
           }
          ],
          "contour": [
           {
            "colorbar": {
             "outlinewidth": 0,
             "ticks": ""
            },
            "colorscale": [
             [
              0,
              "#0d0887"
             ],
             [
              0.1111111111111111,
              "#46039f"
             ],
             [
              0.2222222222222222,
              "#7201a8"
             ],
             [
              0.3333333333333333,
              "#9c179e"
             ],
             [
              0.4444444444444444,
              "#bd3786"
             ],
             [
              0.5555555555555556,
              "#d8576b"
             ],
             [
              0.6666666666666666,
              "#ed7953"
             ],
             [
              0.7777777777777778,
              "#fb9f3a"
             ],
             [
              0.8888888888888888,
              "#fdca26"
             ],
             [
              1,
              "#f0f921"
             ]
            ],
            "type": "contour"
           }
          ],
          "contourcarpet": [
           {
            "colorbar": {
             "outlinewidth": 0,
             "ticks": ""
            },
            "type": "contourcarpet"
           }
          ],
          "heatmap": [
           {
            "colorbar": {
             "outlinewidth": 0,
             "ticks": ""
            },
            "colorscale": [
             [
              0,
              "#0d0887"
             ],
             [
              0.1111111111111111,
              "#46039f"
             ],
             [
              0.2222222222222222,
              "#7201a8"
             ],
             [
              0.3333333333333333,
              "#9c179e"
             ],
             [
              0.4444444444444444,
              "#bd3786"
             ],
             [
              0.5555555555555556,
              "#d8576b"
             ],
             [
              0.6666666666666666,
              "#ed7953"
             ],
             [
              0.7777777777777778,
              "#fb9f3a"
             ],
             [
              0.8888888888888888,
              "#fdca26"
             ],
             [
              1,
              "#f0f921"
             ]
            ],
            "type": "heatmap"
           }
          ],
          "heatmapgl": [
           {
            "colorbar": {
             "outlinewidth": 0,
             "ticks": ""
            },
            "colorscale": [
             [
              0,
              "#0d0887"
             ],
             [
              0.1111111111111111,
              "#46039f"
             ],
             [
              0.2222222222222222,
              "#7201a8"
             ],
             [
              0.3333333333333333,
              "#9c179e"
             ],
             [
              0.4444444444444444,
              "#bd3786"
             ],
             [
              0.5555555555555556,
              "#d8576b"
             ],
             [
              0.6666666666666666,
              "#ed7953"
             ],
             [
              0.7777777777777778,
              "#fb9f3a"
             ],
             [
              0.8888888888888888,
              "#fdca26"
             ],
             [
              1,
              "#f0f921"
             ]
            ],
            "type": "heatmapgl"
           }
          ],
          "histogram": [
           {
            "marker": {
             "pattern": {
              "fillmode": "overlay",
              "size": 10,
              "solidity": 0.2
             }
            },
            "type": "histogram"
           }
          ],
          "histogram2d": [
           {
            "colorbar": {
             "outlinewidth": 0,
             "ticks": ""
            },
            "colorscale": [
             [
              0,
              "#0d0887"
             ],
             [
              0.1111111111111111,
              "#46039f"
             ],
             [
              0.2222222222222222,
              "#7201a8"
             ],
             [
              0.3333333333333333,
              "#9c179e"
             ],
             [
              0.4444444444444444,
              "#bd3786"
             ],
             [
              0.5555555555555556,
              "#d8576b"
             ],
             [
              0.6666666666666666,
              "#ed7953"
             ],
             [
              0.7777777777777778,
              "#fb9f3a"
             ],
             [
              0.8888888888888888,
              "#fdca26"
             ],
             [
              1,
              "#f0f921"
             ]
            ],
            "type": "histogram2d"
           }
          ],
          "histogram2dcontour": [
           {
            "colorbar": {
             "outlinewidth": 0,
             "ticks": ""
            },
            "colorscale": [
             [
              0,
              "#0d0887"
             ],
             [
              0.1111111111111111,
              "#46039f"
             ],
             [
              0.2222222222222222,
              "#7201a8"
             ],
             [
              0.3333333333333333,
              "#9c179e"
             ],
             [
              0.4444444444444444,
              "#bd3786"
             ],
             [
              0.5555555555555556,
              "#d8576b"
             ],
             [
              0.6666666666666666,
              "#ed7953"
             ],
             [
              0.7777777777777778,
              "#fb9f3a"
             ],
             [
              0.8888888888888888,
              "#fdca26"
             ],
             [
              1,
              "#f0f921"
             ]
            ],
            "type": "histogram2dcontour"
           }
          ],
          "mesh3d": [
           {
            "colorbar": {
             "outlinewidth": 0,
             "ticks": ""
            },
            "type": "mesh3d"
           }
          ],
          "parcoords": [
           {
            "line": {
             "colorbar": {
              "outlinewidth": 0,
              "ticks": ""
             }
            },
            "type": "parcoords"
           }
          ],
          "pie": [
           {
            "automargin": true,
            "type": "pie"
           }
          ],
          "scatter": [
           {
            "marker": {
             "colorbar": {
              "outlinewidth": 0,
              "ticks": ""
             }
            },
            "type": "scatter"
           }
          ],
          "scatter3d": [
           {
            "line": {
             "colorbar": {
              "outlinewidth": 0,
              "ticks": ""
             }
            },
            "marker": {
             "colorbar": {
              "outlinewidth": 0,
              "ticks": ""
             }
            },
            "type": "scatter3d"
           }
          ],
          "scattercarpet": [
           {
            "marker": {
             "colorbar": {
              "outlinewidth": 0,
              "ticks": ""
             }
            },
            "type": "scattercarpet"
           }
          ],
          "scattergeo": [
           {
            "marker": {
             "colorbar": {
              "outlinewidth": 0,
              "ticks": ""
             }
            },
            "type": "scattergeo"
           }
          ],
          "scattergl": [
           {
            "marker": {
             "colorbar": {
              "outlinewidth": 0,
              "ticks": ""
             }
            },
            "type": "scattergl"
           }
          ],
          "scattermapbox": [
           {
            "marker": {
             "colorbar": {
              "outlinewidth": 0,
              "ticks": ""
             }
            },
            "type": "scattermapbox"
           }
          ],
          "scatterpolar": [
           {
            "marker": {
             "colorbar": {
              "outlinewidth": 0,
              "ticks": ""
             }
            },
            "type": "scatterpolar"
           }
          ],
          "scatterpolargl": [
           {
            "marker": {
             "colorbar": {
              "outlinewidth": 0,
              "ticks": ""
             }
            },
            "type": "scatterpolargl"
           }
          ],
          "scatterternary": [
           {
            "marker": {
             "colorbar": {
              "outlinewidth": 0,
              "ticks": ""
             }
            },
            "type": "scatterternary"
           }
          ],
          "surface": [
           {
            "colorbar": {
             "outlinewidth": 0,
             "ticks": ""
            },
            "colorscale": [
             [
              0,
              "#0d0887"
             ],
             [
              0.1111111111111111,
              "#46039f"
             ],
             [
              0.2222222222222222,
              "#7201a8"
             ],
             [
              0.3333333333333333,
              "#9c179e"
             ],
             [
              0.4444444444444444,
              "#bd3786"
             ],
             [
              0.5555555555555556,
              "#d8576b"
             ],
             [
              0.6666666666666666,
              "#ed7953"
             ],
             [
              0.7777777777777778,
              "#fb9f3a"
             ],
             [
              0.8888888888888888,
              "#fdca26"
             ],
             [
              1,
              "#f0f921"
             ]
            ],
            "type": "surface"
           }
          ],
          "table": [
           {
            "cells": {
             "fill": {
              "color": "#EBF0F8"
             },
             "line": {
              "color": "white"
             }
            },
            "header": {
             "fill": {
              "color": "#C8D4E3"
             },
             "line": {
              "color": "white"
             }
            },
            "type": "table"
           }
          ]
         },
         "layout": {
          "annotationdefaults": {
           "arrowcolor": "#2a3f5f",
           "arrowhead": 0,
           "arrowwidth": 1
          },
          "autotypenumbers": "strict",
          "coloraxis": {
           "colorbar": {
            "outlinewidth": 0,
            "ticks": ""
           }
          },
          "colorscale": {
           "diverging": [
            [
             0,
             "#8e0152"
            ],
            [
             0.1,
             "#c51b7d"
            ],
            [
             0.2,
             "#de77ae"
            ],
            [
             0.3,
             "#f1b6da"
            ],
            [
             0.4,
             "#fde0ef"
            ],
            [
             0.5,
             "#f7f7f7"
            ],
            [
             0.6,
             "#e6f5d0"
            ],
            [
             0.7,
             "#b8e186"
            ],
            [
             0.8,
             "#7fbc41"
            ],
            [
             0.9,
             "#4d9221"
            ],
            [
             1,
             "#276419"
            ]
           ],
           "sequential": [
            [
             0,
             "#0d0887"
            ],
            [
             0.1111111111111111,
             "#46039f"
            ],
            [
             0.2222222222222222,
             "#7201a8"
            ],
            [
             0.3333333333333333,
             "#9c179e"
            ],
            [
             0.4444444444444444,
             "#bd3786"
            ],
            [
             0.5555555555555556,
             "#d8576b"
            ],
            [
             0.6666666666666666,
             "#ed7953"
            ],
            [
             0.7777777777777778,
             "#fb9f3a"
            ],
            [
             0.8888888888888888,
             "#fdca26"
            ],
            [
             1,
             "#f0f921"
            ]
           ],
           "sequentialminus": [
            [
             0,
             "#0d0887"
            ],
            [
             0.1111111111111111,
             "#46039f"
            ],
            [
             0.2222222222222222,
             "#7201a8"
            ],
            [
             0.3333333333333333,
             "#9c179e"
            ],
            [
             0.4444444444444444,
             "#bd3786"
            ],
            [
             0.5555555555555556,
             "#d8576b"
            ],
            [
             0.6666666666666666,
             "#ed7953"
            ],
            [
             0.7777777777777778,
             "#fb9f3a"
            ],
            [
             0.8888888888888888,
             "#fdca26"
            ],
            [
             1,
             "#f0f921"
            ]
           ]
          },
          "colorway": [
           "#636efa",
           "#EF553B",
           "#00cc96",
           "#ab63fa",
           "#FFA15A",
           "#19d3f3",
           "#FF6692",
           "#B6E880",
           "#FF97FF",
           "#FECB52"
          ],
          "font": {
           "color": "#2a3f5f"
          },
          "geo": {
           "bgcolor": "white",
           "lakecolor": "white",
           "landcolor": "#E5ECF6",
           "showlakes": true,
           "showland": true,
           "subunitcolor": "white"
          },
          "hoverlabel": {
           "align": "left"
          },
          "hovermode": "closest",
          "mapbox": {
           "style": "light"
          },
          "paper_bgcolor": "white",
          "plot_bgcolor": "#E5ECF6",
          "polar": {
           "angularaxis": {
            "gridcolor": "white",
            "linecolor": "white",
            "ticks": ""
           },
           "bgcolor": "#E5ECF6",
           "radialaxis": {
            "gridcolor": "white",
            "linecolor": "white",
            "ticks": ""
           }
          },
          "scene": {
           "xaxis": {
            "backgroundcolor": "#E5ECF6",
            "gridcolor": "white",
            "gridwidth": 2,
            "linecolor": "white",
            "showbackground": true,
            "ticks": "",
            "zerolinecolor": "white"
           },
           "yaxis": {
            "backgroundcolor": "#E5ECF6",
            "gridcolor": "white",
            "gridwidth": 2,
            "linecolor": "white",
            "showbackground": true,
            "ticks": "",
            "zerolinecolor": "white"
           },
           "zaxis": {
            "backgroundcolor": "#E5ECF6",
            "gridcolor": "white",
            "gridwidth": 2,
            "linecolor": "white",
            "showbackground": true,
            "ticks": "",
            "zerolinecolor": "white"
           }
          },
          "shapedefaults": {
           "line": {
            "color": "#2a3f5f"
           }
          },
          "ternary": {
           "aaxis": {
            "gridcolor": "white",
            "linecolor": "white",
            "ticks": ""
           },
           "baxis": {
            "gridcolor": "white",
            "linecolor": "white",
            "ticks": ""
           },
           "bgcolor": "#E5ECF6",
           "caxis": {
            "gridcolor": "white",
            "linecolor": "white",
            "ticks": ""
           }
          },
          "title": {
           "x": 0.05
          },
          "xaxis": {
           "automargin": true,
           "gridcolor": "white",
           "linecolor": "white",
           "ticks": "",
           "title": {
            "standoff": 15
           },
           "zerolinecolor": "white",
           "zerolinewidth": 2
          },
          "yaxis": {
           "automargin": true,
           "gridcolor": "white",
           "linecolor": "white",
           "ticks": "",
           "title": {
            "standoff": 15
           },
           "zerolinecolor": "white",
           "zerolinewidth": 2
          }
         }
        },
        "title": {
         "text": "SEX VS DIED "
        }
       }
      },
      "text/html": [
       "<div>                            <div id=\"45252a22-ddff-4b1b-80be-0fd81f873e8a\" class=\"plotly-graph-div\" style=\"height:525px; width:100%;\"></div>            <script type=\"text/javascript\">                require([\"plotly\"], function(Plotly) {                    window.PLOTLYENV=window.PLOTLYENV || {};                                    if (document.getElementById(\"45252a22-ddff-4b1b-80be-0fd81f873e8a\")) {                    Plotly.newPlot(                        \"45252a22-ddff-4b1b-80be-0fd81f873e8a\",                        [{\"domain\":{\"x\":[0,0.48]},\"hole\":0.6,\"hoverinfo\":\"label+percent+name\",\"labels\":[\"M\",\"F\"],\"marker\":{\"line\":{\"color\":\"rgb(243,243,243)\",\"width\":2}},\"name\":\"Died\",\"type\":\"pie\",\"values\":[4138,3427]},{\"domain\":{\"x\":[0.52,1]},\"hole\":0.6,\"hoverinfo\":\"label+percent+name\",\"labels\":[\"F\",\"M\"],\"marker\":{\"line\":{\"color\":\"rgb(243,243,243)\",\"width\":2}},\"name\":\"Non died\",\"type\":\"pie\",\"values\":[335677,127162]}],                        {\"annotations\":[{\"font\":{\"size\":13},\"showarrow\":false,\"text\":\"After vaccination died\",\"x\":0.15,\"y\":0.5},{\"font\":{\"size\":13},\"showarrow\":false,\"text\":\"After vaccination not died\",\"x\":0.88,\"y\":0.5}],\"paper_bgcolor\":\"rgb(243,243,243)\",\"plot_bgcolor\":\"rgb(243,243,243)\",\"template\":{\"data\":{\"bar\":[{\"error_x\":{\"color\":\"#2a3f5f\"},\"error_y\":{\"color\":\"#2a3f5f\"},\"marker\":{\"line\":{\"color\":\"#E5ECF6\",\"width\":0.5},\"pattern\":{\"fillmode\":\"overlay\",\"size\":10,\"solidity\":0.2}},\"type\":\"bar\"}],\"barpolar\":[{\"marker\":{\"line\":{\"color\":\"#E5ECF6\",\"width\":0.5},\"pattern\":{\"fillmode\":\"overlay\",\"size\":10,\"solidity\":0.2}},\"type\":\"barpolar\"}],\"carpet\":[{\"aaxis\":{\"endlinecolor\":\"#2a3f5f\",\"gridcolor\":\"white\",\"linecolor\":\"white\",\"minorgridcolor\":\"white\",\"startlinecolor\":\"#2a3f5f\"},\"baxis\":{\"endlinecolor\":\"#2a3f5f\",\"gridcolor\":\"white\",\"linecolor\":\"white\",\"minorgridcolor\":\"white\",\"startlinecolor\":\"#2a3f5f\"},\"type\":\"carpet\"}],\"choropleth\":[{\"colorbar\":{\"outlinewidth\":0,\"ticks\":\"\"},\"type\":\"choropleth\"}],\"contour\":[{\"colorbar\":{\"outlinewidth\":0,\"ticks\":\"\"},\"colorscale\":[[0.0,\"#0d0887\"],[0.1111111111111111,\"#46039f\"],[0.2222222222222222,\"#7201a8\"],[0.3333333333333333,\"#9c179e\"],[0.4444444444444444,\"#bd3786\"],[0.5555555555555556,\"#d8576b\"],[0.6666666666666666,\"#ed7953\"],[0.7777777777777778,\"#fb9f3a\"],[0.8888888888888888,\"#fdca26\"],[1.0,\"#f0f921\"]],\"type\":\"contour\"}],\"contourcarpet\":[{\"colorbar\":{\"outlinewidth\":0,\"ticks\":\"\"},\"type\":\"contourcarpet\"}],\"heatmap\":[{\"colorbar\":{\"outlinewidth\":0,\"ticks\":\"\"},\"colorscale\":[[0.0,\"#0d0887\"],[0.1111111111111111,\"#46039f\"],[0.2222222222222222,\"#7201a8\"],[0.3333333333333333,\"#9c179e\"],[0.4444444444444444,\"#bd3786\"],[0.5555555555555556,\"#d8576b\"],[0.6666666666666666,\"#ed7953\"],[0.7777777777777778,\"#fb9f3a\"],[0.8888888888888888,\"#fdca26\"],[1.0,\"#f0f921\"]],\"type\":\"heatmap\"}],\"heatmapgl\":[{\"colorbar\":{\"outlinewidth\":0,\"ticks\":\"\"},\"colorscale\":[[0.0,\"#0d0887\"],[0.1111111111111111,\"#46039f\"],[0.2222222222222222,\"#7201a8\"],[0.3333333333333333,\"#9c179e\"],[0.4444444444444444,\"#bd3786\"],[0.5555555555555556,\"#d8576b\"],[0.6666666666666666,\"#ed7953\"],[0.7777777777777778,\"#fb9f3a\"],[0.8888888888888888,\"#fdca26\"],[1.0,\"#f0f921\"]],\"type\":\"heatmapgl\"}],\"histogram\":[{\"marker\":{\"pattern\":{\"fillmode\":\"overlay\",\"size\":10,\"solidity\":0.2}},\"type\":\"histogram\"}],\"histogram2d\":[{\"colorbar\":{\"outlinewidth\":0,\"ticks\":\"\"},\"colorscale\":[[0.0,\"#0d0887\"],[0.1111111111111111,\"#46039f\"],[0.2222222222222222,\"#7201a8\"],[0.3333333333333333,\"#9c179e\"],[0.4444444444444444,\"#bd3786\"],[0.5555555555555556,\"#d8576b\"],[0.6666666666666666,\"#ed7953\"],[0.7777777777777778,\"#fb9f3a\"],[0.8888888888888888,\"#fdca26\"],[1.0,\"#f0f921\"]],\"type\":\"histogram2d\"}],\"histogram2dcontour\":[{\"colorbar\":{\"outlinewidth\":0,\"ticks\":\"\"},\"colorscale\":[[0.0,\"#0d0887\"],[0.1111111111111111,\"#46039f\"],[0.2222222222222222,\"#7201a8\"],[0.3333333333333333,\"#9c179e\"],[0.4444444444444444,\"#bd3786\"],[0.5555555555555556,\"#d8576b\"],[0.6666666666666666,\"#ed7953\"],[0.7777777777777778,\"#fb9f3a\"],[0.8888888888888888,\"#fdca26\"],[1.0,\"#f0f921\"]],\"type\":\"histogram2dcontour\"}],\"mesh3d\":[{\"colorbar\":{\"outlinewidth\":0,\"ticks\":\"\"},\"type\":\"mesh3d\"}],\"parcoords\":[{\"line\":{\"colorbar\":{\"outlinewidth\":0,\"ticks\":\"\"}},\"type\":\"parcoords\"}],\"pie\":[{\"automargin\":true,\"type\":\"pie\"}],\"scatter\":[{\"marker\":{\"colorbar\":{\"outlinewidth\":0,\"ticks\":\"\"}},\"type\":\"scatter\"}],\"scatter3d\":[{\"line\":{\"colorbar\":{\"outlinewidth\":0,\"ticks\":\"\"}},\"marker\":{\"colorbar\":{\"outlinewidth\":0,\"ticks\":\"\"}},\"type\":\"scatter3d\"}],\"scattercarpet\":[{\"marker\":{\"colorbar\":{\"outlinewidth\":0,\"ticks\":\"\"}},\"type\":\"scattercarpet\"}],\"scattergeo\":[{\"marker\":{\"colorbar\":{\"outlinewidth\":0,\"ticks\":\"\"}},\"type\":\"scattergeo\"}],\"scattergl\":[{\"marker\":{\"colorbar\":{\"outlinewidth\":0,\"ticks\":\"\"}},\"type\":\"scattergl\"}],\"scattermapbox\":[{\"marker\":{\"colorbar\":{\"outlinewidth\":0,\"ticks\":\"\"}},\"type\":\"scattermapbox\"}],\"scatterpolar\":[{\"marker\":{\"colorbar\":{\"outlinewidth\":0,\"ticks\":\"\"}},\"type\":\"scatterpolar\"}],\"scatterpolargl\":[{\"marker\":{\"colorbar\":{\"outlinewidth\":0,\"ticks\":\"\"}},\"type\":\"scatterpolargl\"}],\"scatterternary\":[{\"marker\":{\"colorbar\":{\"outlinewidth\":0,\"ticks\":\"\"}},\"type\":\"scatterternary\"}],\"surface\":[{\"colorbar\":{\"outlinewidth\":0,\"ticks\":\"\"},\"colorscale\":[[0.0,\"#0d0887\"],[0.1111111111111111,\"#46039f\"],[0.2222222222222222,\"#7201a8\"],[0.3333333333333333,\"#9c179e\"],[0.4444444444444444,\"#bd3786\"],[0.5555555555555556,\"#d8576b\"],[0.6666666666666666,\"#ed7953\"],[0.7777777777777778,\"#fb9f3a\"],[0.8888888888888888,\"#fdca26\"],[1.0,\"#f0f921\"]],\"type\":\"surface\"}],\"table\":[{\"cells\":{\"fill\":{\"color\":\"#EBF0F8\"},\"line\":{\"color\":\"white\"}},\"header\":{\"fill\":{\"color\":\"#C8D4E3\"},\"line\":{\"color\":\"white\"}},\"type\":\"table\"}]},\"layout\":{\"annotationdefaults\":{\"arrowcolor\":\"#2a3f5f\",\"arrowhead\":0,\"arrowwidth\":1},\"autotypenumbers\":\"strict\",\"coloraxis\":{\"colorbar\":{\"outlinewidth\":0,\"ticks\":\"\"}},\"colorscale\":{\"diverging\":[[0,\"#8e0152\"],[0.1,\"#c51b7d\"],[0.2,\"#de77ae\"],[0.3,\"#f1b6da\"],[0.4,\"#fde0ef\"],[0.5,\"#f7f7f7\"],[0.6,\"#e6f5d0\"],[0.7,\"#b8e186\"],[0.8,\"#7fbc41\"],[0.9,\"#4d9221\"],[1,\"#276419\"]],\"sequential\":[[0.0,\"#0d0887\"],[0.1111111111111111,\"#46039f\"],[0.2222222222222222,\"#7201a8\"],[0.3333333333333333,\"#9c179e\"],[0.4444444444444444,\"#bd3786\"],[0.5555555555555556,\"#d8576b\"],[0.6666666666666666,\"#ed7953\"],[0.7777777777777778,\"#fb9f3a\"],[0.8888888888888888,\"#fdca26\"],[1.0,\"#f0f921\"]],\"sequentialminus\":[[0.0,\"#0d0887\"],[0.1111111111111111,\"#46039f\"],[0.2222222222222222,\"#7201a8\"],[0.3333333333333333,\"#9c179e\"],[0.4444444444444444,\"#bd3786\"],[0.5555555555555556,\"#d8576b\"],[0.6666666666666666,\"#ed7953\"],[0.7777777777777778,\"#fb9f3a\"],[0.8888888888888888,\"#fdca26\"],[1.0,\"#f0f921\"]]},\"colorway\":[\"#636efa\",\"#EF553B\",\"#00cc96\",\"#ab63fa\",\"#FFA15A\",\"#19d3f3\",\"#FF6692\",\"#B6E880\",\"#FF97FF\",\"#FECB52\"],\"font\":{\"color\":\"#2a3f5f\"},\"geo\":{\"bgcolor\":\"white\",\"lakecolor\":\"white\",\"landcolor\":\"#E5ECF6\",\"showlakes\":true,\"showland\":true,\"subunitcolor\":\"white\"},\"hoverlabel\":{\"align\":\"left\"},\"hovermode\":\"closest\",\"mapbox\":{\"style\":\"light\"},\"paper_bgcolor\":\"white\",\"plot_bgcolor\":\"#E5ECF6\",\"polar\":{\"angularaxis\":{\"gridcolor\":\"white\",\"linecolor\":\"white\",\"ticks\":\"\"},\"bgcolor\":\"#E5ECF6\",\"radialaxis\":{\"gridcolor\":\"white\",\"linecolor\":\"white\",\"ticks\":\"\"}},\"scene\":{\"xaxis\":{\"backgroundcolor\":\"#E5ECF6\",\"gridcolor\":\"white\",\"gridwidth\":2,\"linecolor\":\"white\",\"showbackground\":true,\"ticks\":\"\",\"zerolinecolor\":\"white\"},\"yaxis\":{\"backgroundcolor\":\"#E5ECF6\",\"gridcolor\":\"white\",\"gridwidth\":2,\"linecolor\":\"white\",\"showbackground\":true,\"ticks\":\"\",\"zerolinecolor\":\"white\"},\"zaxis\":{\"backgroundcolor\":\"#E5ECF6\",\"gridcolor\":\"white\",\"gridwidth\":2,\"linecolor\":\"white\",\"showbackground\":true,\"ticks\":\"\",\"zerolinecolor\":\"white\"}},\"shapedefaults\":{\"line\":{\"color\":\"#2a3f5f\"}},\"ternary\":{\"aaxis\":{\"gridcolor\":\"white\",\"linecolor\":\"white\",\"ticks\":\"\"},\"baxis\":{\"gridcolor\":\"white\",\"linecolor\":\"white\",\"ticks\":\"\"},\"bgcolor\":\"#E5ECF6\",\"caxis\":{\"gridcolor\":\"white\",\"linecolor\":\"white\",\"ticks\":\"\"}},\"title\":{\"x\":0.05},\"xaxis\":{\"automargin\":true,\"gridcolor\":\"white\",\"linecolor\":\"white\",\"ticks\":\"\",\"title\":{\"standoff\":15},\"zerolinecolor\":\"white\",\"zerolinewidth\":2},\"yaxis\":{\"automargin\":true,\"gridcolor\":\"white\",\"linecolor\":\"white\",\"ticks\":\"\",\"title\":{\"standoff\":15},\"zerolinecolor\":\"white\",\"zerolinewidth\":2}}},\"title\":{\"text\":\"SEX VS DIED \"}},                        {\"responsive\": true}                    ).then(function(){\n",
       "                            \n",
       "var gd = document.getElementById('45252a22-ddff-4b1b-80be-0fd81f873e8a');\n",
       "var x = new MutationObserver(function (mutations, observer) {{\n",
       "        var display = window.getComputedStyle(gd).display;\n",
       "        if (!display || display === 'none') {{\n",
       "            console.log([gd, 'removed!']);\n",
       "            Plotly.purge(gd);\n",
       "            observer.disconnect();\n",
       "        }}\n",
       "}});\n",
       "\n",
       "// Listen for the removal of the full notebook cells\n",
       "var notebookContainer = gd.closest('#notebook-container');\n",
       "if (notebookContainer) {{\n",
       "    x.observe(notebookContainer, {childList: true});\n",
       "}}\n",
       "\n",
       "// Listen for the clearing of the current output cell\n",
       "var outputEl = gd.closest('.output');\n",
       "if (outputEl) {{\n",
       "    x.observe(outputEl, {childList: true});\n",
       "}}\n",
       "\n",
       "                        })                };                });            </script>        </div>"
      ]
     },
     "metadata": {},
     "output_type": "display_data"
    },
    {
     "data": {
      "application/vnd.plotly.v1+json": {
       "config": {
        "linkText": "Export to plot.ly",
        "plotlyServerURL": "https://plot.ly",
        "showLink": false
       },
       "data": [
        {
         "domain": {
          "x": [
           0,
           0.48
          ]
         },
         "hole": 0.6,
         "hoverinfo": "label+percent+name",
         "labels": [
          "N",
          "Y"
         ],
         "marker": {
          "line": {
           "color": "rgb(243,243,243)",
           "width": 2
          }
         },
         "name": "Died",
         "type": "pie",
         "values": [
          7444,
          121
         ]
        },
        {
         "domain": {
          "x": [
           0.52,
           1
          ]
         },
         "hole": 0.6,
         "hoverinfo": "label+percent+name",
         "labels": [
          "N",
          "Y"
         ],
         "marker": {
          "line": {
           "color": "rgb(243,243,243)",
           "width": 2
          }
         },
         "name": "Non died",
         "type": "pie",
         "values": [
          450825,
          12014
         ]
        }
       ],
       "layout": {
        "annotations": [
         {
          "font": {
           "size": 13
          },
          "showarrow": false,
          "text": "After vaccination died",
          "x": 0.15,
          "y": 0.5
         },
         {
          "font": {
           "size": 13
          },
          "showarrow": false,
          "text": "After vaccination not died",
          "x": 0.88,
          "y": 0.5
         }
        ],
        "paper_bgcolor": "rgb(243,243,243)",
        "plot_bgcolor": "rgb(243,243,243)",
        "template": {
         "data": {
          "bar": [
           {
            "error_x": {
             "color": "#2a3f5f"
            },
            "error_y": {
             "color": "#2a3f5f"
            },
            "marker": {
             "line": {
              "color": "#E5ECF6",
              "width": 0.5
             },
             "pattern": {
              "fillmode": "overlay",
              "size": 10,
              "solidity": 0.2
             }
            },
            "type": "bar"
           }
          ],
          "barpolar": [
           {
            "marker": {
             "line": {
              "color": "#E5ECF6",
              "width": 0.5
             },
             "pattern": {
              "fillmode": "overlay",
              "size": 10,
              "solidity": 0.2
             }
            },
            "type": "barpolar"
           }
          ],
          "carpet": [
           {
            "aaxis": {
             "endlinecolor": "#2a3f5f",
             "gridcolor": "white",
             "linecolor": "white",
             "minorgridcolor": "white",
             "startlinecolor": "#2a3f5f"
            },
            "baxis": {
             "endlinecolor": "#2a3f5f",
             "gridcolor": "white",
             "linecolor": "white",
             "minorgridcolor": "white",
             "startlinecolor": "#2a3f5f"
            },
            "type": "carpet"
           }
          ],
          "choropleth": [
           {
            "colorbar": {
             "outlinewidth": 0,
             "ticks": ""
            },
            "type": "choropleth"
           }
          ],
          "contour": [
           {
            "colorbar": {
             "outlinewidth": 0,
             "ticks": ""
            },
            "colorscale": [
             [
              0,
              "#0d0887"
             ],
             [
              0.1111111111111111,
              "#46039f"
             ],
             [
              0.2222222222222222,
              "#7201a8"
             ],
             [
              0.3333333333333333,
              "#9c179e"
             ],
             [
              0.4444444444444444,
              "#bd3786"
             ],
             [
              0.5555555555555556,
              "#d8576b"
             ],
             [
              0.6666666666666666,
              "#ed7953"
             ],
             [
              0.7777777777777778,
              "#fb9f3a"
             ],
             [
              0.8888888888888888,
              "#fdca26"
             ],
             [
              1,
              "#f0f921"
             ]
            ],
            "type": "contour"
           }
          ],
          "contourcarpet": [
           {
            "colorbar": {
             "outlinewidth": 0,
             "ticks": ""
            },
            "type": "contourcarpet"
           }
          ],
          "heatmap": [
           {
            "colorbar": {
             "outlinewidth": 0,
             "ticks": ""
            },
            "colorscale": [
             [
              0,
              "#0d0887"
             ],
             [
              0.1111111111111111,
              "#46039f"
             ],
             [
              0.2222222222222222,
              "#7201a8"
             ],
             [
              0.3333333333333333,
              "#9c179e"
             ],
             [
              0.4444444444444444,
              "#bd3786"
             ],
             [
              0.5555555555555556,
              "#d8576b"
             ],
             [
              0.6666666666666666,
              "#ed7953"
             ],
             [
              0.7777777777777778,
              "#fb9f3a"
             ],
             [
              0.8888888888888888,
              "#fdca26"
             ],
             [
              1,
              "#f0f921"
             ]
            ],
            "type": "heatmap"
           }
          ],
          "heatmapgl": [
           {
            "colorbar": {
             "outlinewidth": 0,
             "ticks": ""
            },
            "colorscale": [
             [
              0,
              "#0d0887"
             ],
             [
              0.1111111111111111,
              "#46039f"
             ],
             [
              0.2222222222222222,
              "#7201a8"
             ],
             [
              0.3333333333333333,
              "#9c179e"
             ],
             [
              0.4444444444444444,
              "#bd3786"
             ],
             [
              0.5555555555555556,
              "#d8576b"
             ],
             [
              0.6666666666666666,
              "#ed7953"
             ],
             [
              0.7777777777777778,
              "#fb9f3a"
             ],
             [
              0.8888888888888888,
              "#fdca26"
             ],
             [
              1,
              "#f0f921"
             ]
            ],
            "type": "heatmapgl"
           }
          ],
          "histogram": [
           {
            "marker": {
             "pattern": {
              "fillmode": "overlay",
              "size": 10,
              "solidity": 0.2
             }
            },
            "type": "histogram"
           }
          ],
          "histogram2d": [
           {
            "colorbar": {
             "outlinewidth": 0,
             "ticks": ""
            },
            "colorscale": [
             [
              0,
              "#0d0887"
             ],
             [
              0.1111111111111111,
              "#46039f"
             ],
             [
              0.2222222222222222,
              "#7201a8"
             ],
             [
              0.3333333333333333,
              "#9c179e"
             ],
             [
              0.4444444444444444,
              "#bd3786"
             ],
             [
              0.5555555555555556,
              "#d8576b"
             ],
             [
              0.6666666666666666,
              "#ed7953"
             ],
             [
              0.7777777777777778,
              "#fb9f3a"
             ],
             [
              0.8888888888888888,
              "#fdca26"
             ],
             [
              1,
              "#f0f921"
             ]
            ],
            "type": "histogram2d"
           }
          ],
          "histogram2dcontour": [
           {
            "colorbar": {
             "outlinewidth": 0,
             "ticks": ""
            },
            "colorscale": [
             [
              0,
              "#0d0887"
             ],
             [
              0.1111111111111111,
              "#46039f"
             ],
             [
              0.2222222222222222,
              "#7201a8"
             ],
             [
              0.3333333333333333,
              "#9c179e"
             ],
             [
              0.4444444444444444,
              "#bd3786"
             ],
             [
              0.5555555555555556,
              "#d8576b"
             ],
             [
              0.6666666666666666,
              "#ed7953"
             ],
             [
              0.7777777777777778,
              "#fb9f3a"
             ],
             [
              0.8888888888888888,
              "#fdca26"
             ],
             [
              1,
              "#f0f921"
             ]
            ],
            "type": "histogram2dcontour"
           }
          ],
          "mesh3d": [
           {
            "colorbar": {
             "outlinewidth": 0,
             "ticks": ""
            },
            "type": "mesh3d"
           }
          ],
          "parcoords": [
           {
            "line": {
             "colorbar": {
              "outlinewidth": 0,
              "ticks": ""
             }
            },
            "type": "parcoords"
           }
          ],
          "pie": [
           {
            "automargin": true,
            "type": "pie"
           }
          ],
          "scatter": [
           {
            "marker": {
             "colorbar": {
              "outlinewidth": 0,
              "ticks": ""
             }
            },
            "type": "scatter"
           }
          ],
          "scatter3d": [
           {
            "line": {
             "colorbar": {
              "outlinewidth": 0,
              "ticks": ""
             }
            },
            "marker": {
             "colorbar": {
              "outlinewidth": 0,
              "ticks": ""
             }
            },
            "type": "scatter3d"
           }
          ],
          "scattercarpet": [
           {
            "marker": {
             "colorbar": {
              "outlinewidth": 0,
              "ticks": ""
             }
            },
            "type": "scattercarpet"
           }
          ],
          "scattergeo": [
           {
            "marker": {
             "colorbar": {
              "outlinewidth": 0,
              "ticks": ""
             }
            },
            "type": "scattergeo"
           }
          ],
          "scattergl": [
           {
            "marker": {
             "colorbar": {
              "outlinewidth": 0,
              "ticks": ""
             }
            },
            "type": "scattergl"
           }
          ],
          "scattermapbox": [
           {
            "marker": {
             "colorbar": {
              "outlinewidth": 0,
              "ticks": ""
             }
            },
            "type": "scattermapbox"
           }
          ],
          "scatterpolar": [
           {
            "marker": {
             "colorbar": {
              "outlinewidth": 0,
              "ticks": ""
             }
            },
            "type": "scatterpolar"
           }
          ],
          "scatterpolargl": [
           {
            "marker": {
             "colorbar": {
              "outlinewidth": 0,
              "ticks": ""
             }
            },
            "type": "scatterpolargl"
           }
          ],
          "scatterternary": [
           {
            "marker": {
             "colorbar": {
              "outlinewidth": 0,
              "ticks": ""
             }
            },
            "type": "scatterternary"
           }
          ],
          "surface": [
           {
            "colorbar": {
             "outlinewidth": 0,
             "ticks": ""
            },
            "colorscale": [
             [
              0,
              "#0d0887"
             ],
             [
              0.1111111111111111,
              "#46039f"
             ],
             [
              0.2222222222222222,
              "#7201a8"
             ],
             [
              0.3333333333333333,
              "#9c179e"
             ],
             [
              0.4444444444444444,
              "#bd3786"
             ],
             [
              0.5555555555555556,
              "#d8576b"
             ],
             [
              0.6666666666666666,
              "#ed7953"
             ],
             [
              0.7777777777777778,
              "#fb9f3a"
             ],
             [
              0.8888888888888888,
              "#fdca26"
             ],
             [
              1,
              "#f0f921"
             ]
            ],
            "type": "surface"
           }
          ],
          "table": [
           {
            "cells": {
             "fill": {
              "color": "#EBF0F8"
             },
             "line": {
              "color": "white"
             }
            },
            "header": {
             "fill": {
              "color": "#C8D4E3"
             },
             "line": {
              "color": "white"
             }
            },
            "type": "table"
           }
          ]
         },
         "layout": {
          "annotationdefaults": {
           "arrowcolor": "#2a3f5f",
           "arrowhead": 0,
           "arrowwidth": 1
          },
          "autotypenumbers": "strict",
          "coloraxis": {
           "colorbar": {
            "outlinewidth": 0,
            "ticks": ""
           }
          },
          "colorscale": {
           "diverging": [
            [
             0,
             "#8e0152"
            ],
            [
             0.1,
             "#c51b7d"
            ],
            [
             0.2,
             "#de77ae"
            ],
            [
             0.3,
             "#f1b6da"
            ],
            [
             0.4,
             "#fde0ef"
            ],
            [
             0.5,
             "#f7f7f7"
            ],
            [
             0.6,
             "#e6f5d0"
            ],
            [
             0.7,
             "#b8e186"
            ],
            [
             0.8,
             "#7fbc41"
            ],
            [
             0.9,
             "#4d9221"
            ],
            [
             1,
             "#276419"
            ]
           ],
           "sequential": [
            [
             0,
             "#0d0887"
            ],
            [
             0.1111111111111111,
             "#46039f"
            ],
            [
             0.2222222222222222,
             "#7201a8"
            ],
            [
             0.3333333333333333,
             "#9c179e"
            ],
            [
             0.4444444444444444,
             "#bd3786"
            ],
            [
             0.5555555555555556,
             "#d8576b"
            ],
            [
             0.6666666666666666,
             "#ed7953"
            ],
            [
             0.7777777777777778,
             "#fb9f3a"
            ],
            [
             0.8888888888888888,
             "#fdca26"
            ],
            [
             1,
             "#f0f921"
            ]
           ],
           "sequentialminus": [
            [
             0,
             "#0d0887"
            ],
            [
             0.1111111111111111,
             "#46039f"
            ],
            [
             0.2222222222222222,
             "#7201a8"
            ],
            [
             0.3333333333333333,
             "#9c179e"
            ],
            [
             0.4444444444444444,
             "#bd3786"
            ],
            [
             0.5555555555555556,
             "#d8576b"
            ],
            [
             0.6666666666666666,
             "#ed7953"
            ],
            [
             0.7777777777777778,
             "#fb9f3a"
            ],
            [
             0.8888888888888888,
             "#fdca26"
            ],
            [
             1,
             "#f0f921"
            ]
           ]
          },
          "colorway": [
           "#636efa",
           "#EF553B",
           "#00cc96",
           "#ab63fa",
           "#FFA15A",
           "#19d3f3",
           "#FF6692",
           "#B6E880",
           "#FF97FF",
           "#FECB52"
          ],
          "font": {
           "color": "#2a3f5f"
          },
          "geo": {
           "bgcolor": "white",
           "lakecolor": "white",
           "landcolor": "#E5ECF6",
           "showlakes": true,
           "showland": true,
           "subunitcolor": "white"
          },
          "hoverlabel": {
           "align": "left"
          },
          "hovermode": "closest",
          "mapbox": {
           "style": "light"
          },
          "paper_bgcolor": "white",
          "plot_bgcolor": "#E5ECF6",
          "polar": {
           "angularaxis": {
            "gridcolor": "white",
            "linecolor": "white",
            "ticks": ""
           },
           "bgcolor": "#E5ECF6",
           "radialaxis": {
            "gridcolor": "white",
            "linecolor": "white",
            "ticks": ""
           }
          },
          "scene": {
           "xaxis": {
            "backgroundcolor": "#E5ECF6",
            "gridcolor": "white",
            "gridwidth": 2,
            "linecolor": "white",
            "showbackground": true,
            "ticks": "",
            "zerolinecolor": "white"
           },
           "yaxis": {
            "backgroundcolor": "#E5ECF6",
            "gridcolor": "white",
            "gridwidth": 2,
            "linecolor": "white",
            "showbackground": true,
            "ticks": "",
            "zerolinecolor": "white"
           },
           "zaxis": {
            "backgroundcolor": "#E5ECF6",
            "gridcolor": "white",
            "gridwidth": 2,
            "linecolor": "white",
            "showbackground": true,
            "ticks": "",
            "zerolinecolor": "white"
           }
          },
          "shapedefaults": {
           "line": {
            "color": "#2a3f5f"
           }
          },
          "ternary": {
           "aaxis": {
            "gridcolor": "white",
            "linecolor": "white",
            "ticks": ""
           },
           "baxis": {
            "gridcolor": "white",
            "linecolor": "white",
            "ticks": ""
           },
           "bgcolor": "#E5ECF6",
           "caxis": {
            "gridcolor": "white",
            "linecolor": "white",
            "ticks": ""
           }
          },
          "title": {
           "x": 0.05
          },
          "xaxis": {
           "automargin": true,
           "gridcolor": "white",
           "linecolor": "white",
           "ticks": "",
           "title": {
            "standoff": 15
           },
           "zerolinecolor": "white",
           "zerolinewidth": 2
          },
          "yaxis": {
           "automargin": true,
           "gridcolor": "white",
           "linecolor": "white",
           "ticks": "",
           "title": {
            "standoff": 15
           },
           "zerolinecolor": "white",
           "zerolinewidth": 2
          }
         }
        },
        "title": {
         "text": "DISABLE VS DIED "
        }
       }
      },
      "text/html": [
       "<div>                            <div id=\"ba8ea14b-4445-43b6-87e7-771913bbef7c\" class=\"plotly-graph-div\" style=\"height:525px; width:100%;\"></div>            <script type=\"text/javascript\">                require([\"plotly\"], function(Plotly) {                    window.PLOTLYENV=window.PLOTLYENV || {};                                    if (document.getElementById(\"ba8ea14b-4445-43b6-87e7-771913bbef7c\")) {                    Plotly.newPlot(                        \"ba8ea14b-4445-43b6-87e7-771913bbef7c\",                        [{\"domain\":{\"x\":[0,0.48]},\"hole\":0.6,\"hoverinfo\":\"label+percent+name\",\"labels\":[\"N\",\"Y\"],\"marker\":{\"line\":{\"color\":\"rgb(243,243,243)\",\"width\":2}},\"name\":\"Died\",\"type\":\"pie\",\"values\":[7444,121]},{\"domain\":{\"x\":[0.52,1]},\"hole\":0.6,\"hoverinfo\":\"label+percent+name\",\"labels\":[\"N\",\"Y\"],\"marker\":{\"line\":{\"color\":\"rgb(243,243,243)\",\"width\":2}},\"name\":\"Non died\",\"type\":\"pie\",\"values\":[450825,12014]}],                        {\"annotations\":[{\"font\":{\"size\":13},\"showarrow\":false,\"text\":\"After vaccination died\",\"x\":0.15,\"y\":0.5},{\"font\":{\"size\":13},\"showarrow\":false,\"text\":\"After vaccination not died\",\"x\":0.88,\"y\":0.5}],\"paper_bgcolor\":\"rgb(243,243,243)\",\"plot_bgcolor\":\"rgb(243,243,243)\",\"template\":{\"data\":{\"bar\":[{\"error_x\":{\"color\":\"#2a3f5f\"},\"error_y\":{\"color\":\"#2a3f5f\"},\"marker\":{\"line\":{\"color\":\"#E5ECF6\",\"width\":0.5},\"pattern\":{\"fillmode\":\"overlay\",\"size\":10,\"solidity\":0.2}},\"type\":\"bar\"}],\"barpolar\":[{\"marker\":{\"line\":{\"color\":\"#E5ECF6\",\"width\":0.5},\"pattern\":{\"fillmode\":\"overlay\",\"size\":10,\"solidity\":0.2}},\"type\":\"barpolar\"}],\"carpet\":[{\"aaxis\":{\"endlinecolor\":\"#2a3f5f\",\"gridcolor\":\"white\",\"linecolor\":\"white\",\"minorgridcolor\":\"white\",\"startlinecolor\":\"#2a3f5f\"},\"baxis\":{\"endlinecolor\":\"#2a3f5f\",\"gridcolor\":\"white\",\"linecolor\":\"white\",\"minorgridcolor\":\"white\",\"startlinecolor\":\"#2a3f5f\"},\"type\":\"carpet\"}],\"choropleth\":[{\"colorbar\":{\"outlinewidth\":0,\"ticks\":\"\"},\"type\":\"choropleth\"}],\"contour\":[{\"colorbar\":{\"outlinewidth\":0,\"ticks\":\"\"},\"colorscale\":[[0.0,\"#0d0887\"],[0.1111111111111111,\"#46039f\"],[0.2222222222222222,\"#7201a8\"],[0.3333333333333333,\"#9c179e\"],[0.4444444444444444,\"#bd3786\"],[0.5555555555555556,\"#d8576b\"],[0.6666666666666666,\"#ed7953\"],[0.7777777777777778,\"#fb9f3a\"],[0.8888888888888888,\"#fdca26\"],[1.0,\"#f0f921\"]],\"type\":\"contour\"}],\"contourcarpet\":[{\"colorbar\":{\"outlinewidth\":0,\"ticks\":\"\"},\"type\":\"contourcarpet\"}],\"heatmap\":[{\"colorbar\":{\"outlinewidth\":0,\"ticks\":\"\"},\"colorscale\":[[0.0,\"#0d0887\"],[0.1111111111111111,\"#46039f\"],[0.2222222222222222,\"#7201a8\"],[0.3333333333333333,\"#9c179e\"],[0.4444444444444444,\"#bd3786\"],[0.5555555555555556,\"#d8576b\"],[0.6666666666666666,\"#ed7953\"],[0.7777777777777778,\"#fb9f3a\"],[0.8888888888888888,\"#fdca26\"],[1.0,\"#f0f921\"]],\"type\":\"heatmap\"}],\"heatmapgl\":[{\"colorbar\":{\"outlinewidth\":0,\"ticks\":\"\"},\"colorscale\":[[0.0,\"#0d0887\"],[0.1111111111111111,\"#46039f\"],[0.2222222222222222,\"#7201a8\"],[0.3333333333333333,\"#9c179e\"],[0.4444444444444444,\"#bd3786\"],[0.5555555555555556,\"#d8576b\"],[0.6666666666666666,\"#ed7953\"],[0.7777777777777778,\"#fb9f3a\"],[0.8888888888888888,\"#fdca26\"],[1.0,\"#f0f921\"]],\"type\":\"heatmapgl\"}],\"histogram\":[{\"marker\":{\"pattern\":{\"fillmode\":\"overlay\",\"size\":10,\"solidity\":0.2}},\"type\":\"histogram\"}],\"histogram2d\":[{\"colorbar\":{\"outlinewidth\":0,\"ticks\":\"\"},\"colorscale\":[[0.0,\"#0d0887\"],[0.1111111111111111,\"#46039f\"],[0.2222222222222222,\"#7201a8\"],[0.3333333333333333,\"#9c179e\"],[0.4444444444444444,\"#bd3786\"],[0.5555555555555556,\"#d8576b\"],[0.6666666666666666,\"#ed7953\"],[0.7777777777777778,\"#fb9f3a\"],[0.8888888888888888,\"#fdca26\"],[1.0,\"#f0f921\"]],\"type\":\"histogram2d\"}],\"histogram2dcontour\":[{\"colorbar\":{\"outlinewidth\":0,\"ticks\":\"\"},\"colorscale\":[[0.0,\"#0d0887\"],[0.1111111111111111,\"#46039f\"],[0.2222222222222222,\"#7201a8\"],[0.3333333333333333,\"#9c179e\"],[0.4444444444444444,\"#bd3786\"],[0.5555555555555556,\"#d8576b\"],[0.6666666666666666,\"#ed7953\"],[0.7777777777777778,\"#fb9f3a\"],[0.8888888888888888,\"#fdca26\"],[1.0,\"#f0f921\"]],\"type\":\"histogram2dcontour\"}],\"mesh3d\":[{\"colorbar\":{\"outlinewidth\":0,\"ticks\":\"\"},\"type\":\"mesh3d\"}],\"parcoords\":[{\"line\":{\"colorbar\":{\"outlinewidth\":0,\"ticks\":\"\"}},\"type\":\"parcoords\"}],\"pie\":[{\"automargin\":true,\"type\":\"pie\"}],\"scatter\":[{\"marker\":{\"colorbar\":{\"outlinewidth\":0,\"ticks\":\"\"}},\"type\":\"scatter\"}],\"scatter3d\":[{\"line\":{\"colorbar\":{\"outlinewidth\":0,\"ticks\":\"\"}},\"marker\":{\"colorbar\":{\"outlinewidth\":0,\"ticks\":\"\"}},\"type\":\"scatter3d\"}],\"scattercarpet\":[{\"marker\":{\"colorbar\":{\"outlinewidth\":0,\"ticks\":\"\"}},\"type\":\"scattercarpet\"}],\"scattergeo\":[{\"marker\":{\"colorbar\":{\"outlinewidth\":0,\"ticks\":\"\"}},\"type\":\"scattergeo\"}],\"scattergl\":[{\"marker\":{\"colorbar\":{\"outlinewidth\":0,\"ticks\":\"\"}},\"type\":\"scattergl\"}],\"scattermapbox\":[{\"marker\":{\"colorbar\":{\"outlinewidth\":0,\"ticks\":\"\"}},\"type\":\"scattermapbox\"}],\"scatterpolar\":[{\"marker\":{\"colorbar\":{\"outlinewidth\":0,\"ticks\":\"\"}},\"type\":\"scatterpolar\"}],\"scatterpolargl\":[{\"marker\":{\"colorbar\":{\"outlinewidth\":0,\"ticks\":\"\"}},\"type\":\"scatterpolargl\"}],\"scatterternary\":[{\"marker\":{\"colorbar\":{\"outlinewidth\":0,\"ticks\":\"\"}},\"type\":\"scatterternary\"}],\"surface\":[{\"colorbar\":{\"outlinewidth\":0,\"ticks\":\"\"},\"colorscale\":[[0.0,\"#0d0887\"],[0.1111111111111111,\"#46039f\"],[0.2222222222222222,\"#7201a8\"],[0.3333333333333333,\"#9c179e\"],[0.4444444444444444,\"#bd3786\"],[0.5555555555555556,\"#d8576b\"],[0.6666666666666666,\"#ed7953\"],[0.7777777777777778,\"#fb9f3a\"],[0.8888888888888888,\"#fdca26\"],[1.0,\"#f0f921\"]],\"type\":\"surface\"}],\"table\":[{\"cells\":{\"fill\":{\"color\":\"#EBF0F8\"},\"line\":{\"color\":\"white\"}},\"header\":{\"fill\":{\"color\":\"#C8D4E3\"},\"line\":{\"color\":\"white\"}},\"type\":\"table\"}]},\"layout\":{\"annotationdefaults\":{\"arrowcolor\":\"#2a3f5f\",\"arrowhead\":0,\"arrowwidth\":1},\"autotypenumbers\":\"strict\",\"coloraxis\":{\"colorbar\":{\"outlinewidth\":0,\"ticks\":\"\"}},\"colorscale\":{\"diverging\":[[0,\"#8e0152\"],[0.1,\"#c51b7d\"],[0.2,\"#de77ae\"],[0.3,\"#f1b6da\"],[0.4,\"#fde0ef\"],[0.5,\"#f7f7f7\"],[0.6,\"#e6f5d0\"],[0.7,\"#b8e186\"],[0.8,\"#7fbc41\"],[0.9,\"#4d9221\"],[1,\"#276419\"]],\"sequential\":[[0.0,\"#0d0887\"],[0.1111111111111111,\"#46039f\"],[0.2222222222222222,\"#7201a8\"],[0.3333333333333333,\"#9c179e\"],[0.4444444444444444,\"#bd3786\"],[0.5555555555555556,\"#d8576b\"],[0.6666666666666666,\"#ed7953\"],[0.7777777777777778,\"#fb9f3a\"],[0.8888888888888888,\"#fdca26\"],[1.0,\"#f0f921\"]],\"sequentialminus\":[[0.0,\"#0d0887\"],[0.1111111111111111,\"#46039f\"],[0.2222222222222222,\"#7201a8\"],[0.3333333333333333,\"#9c179e\"],[0.4444444444444444,\"#bd3786\"],[0.5555555555555556,\"#d8576b\"],[0.6666666666666666,\"#ed7953\"],[0.7777777777777778,\"#fb9f3a\"],[0.8888888888888888,\"#fdca26\"],[1.0,\"#f0f921\"]]},\"colorway\":[\"#636efa\",\"#EF553B\",\"#00cc96\",\"#ab63fa\",\"#FFA15A\",\"#19d3f3\",\"#FF6692\",\"#B6E880\",\"#FF97FF\",\"#FECB52\"],\"font\":{\"color\":\"#2a3f5f\"},\"geo\":{\"bgcolor\":\"white\",\"lakecolor\":\"white\",\"landcolor\":\"#E5ECF6\",\"showlakes\":true,\"showland\":true,\"subunitcolor\":\"white\"},\"hoverlabel\":{\"align\":\"left\"},\"hovermode\":\"closest\",\"mapbox\":{\"style\":\"light\"},\"paper_bgcolor\":\"white\",\"plot_bgcolor\":\"#E5ECF6\",\"polar\":{\"angularaxis\":{\"gridcolor\":\"white\",\"linecolor\":\"white\",\"ticks\":\"\"},\"bgcolor\":\"#E5ECF6\",\"radialaxis\":{\"gridcolor\":\"white\",\"linecolor\":\"white\",\"ticks\":\"\"}},\"scene\":{\"xaxis\":{\"backgroundcolor\":\"#E5ECF6\",\"gridcolor\":\"white\",\"gridwidth\":2,\"linecolor\":\"white\",\"showbackground\":true,\"ticks\":\"\",\"zerolinecolor\":\"white\"},\"yaxis\":{\"backgroundcolor\":\"#E5ECF6\",\"gridcolor\":\"white\",\"gridwidth\":2,\"linecolor\":\"white\",\"showbackground\":true,\"ticks\":\"\",\"zerolinecolor\":\"white\"},\"zaxis\":{\"backgroundcolor\":\"#E5ECF6\",\"gridcolor\":\"white\",\"gridwidth\":2,\"linecolor\":\"white\",\"showbackground\":true,\"ticks\":\"\",\"zerolinecolor\":\"white\"}},\"shapedefaults\":{\"line\":{\"color\":\"#2a3f5f\"}},\"ternary\":{\"aaxis\":{\"gridcolor\":\"white\",\"linecolor\":\"white\",\"ticks\":\"\"},\"baxis\":{\"gridcolor\":\"white\",\"linecolor\":\"white\",\"ticks\":\"\"},\"bgcolor\":\"#E5ECF6\",\"caxis\":{\"gridcolor\":\"white\",\"linecolor\":\"white\",\"ticks\":\"\"}},\"title\":{\"x\":0.05},\"xaxis\":{\"automargin\":true,\"gridcolor\":\"white\",\"linecolor\":\"white\",\"ticks\":\"\",\"title\":{\"standoff\":15},\"zerolinecolor\":\"white\",\"zerolinewidth\":2},\"yaxis\":{\"automargin\":true,\"gridcolor\":\"white\",\"linecolor\":\"white\",\"ticks\":\"\",\"title\":{\"standoff\":15},\"zerolinecolor\":\"white\",\"zerolinewidth\":2}}},\"title\":{\"text\":\"DISABLE VS DIED \"}},                        {\"responsive\": true}                    ).then(function(){\n",
       "                            \n",
       "var gd = document.getElementById('ba8ea14b-4445-43b6-87e7-771913bbef7c');\n",
       "var x = new MutationObserver(function (mutations, observer) {{\n",
       "        var display = window.getComputedStyle(gd).display;\n",
       "        if (!display || display === 'none') {{\n",
       "            console.log([gd, 'removed!']);\n",
       "            Plotly.purge(gd);\n",
       "            observer.disconnect();\n",
       "        }}\n",
       "}});\n",
       "\n",
       "// Listen for the removal of the full notebook cells\n",
       "var notebookContainer = gd.closest('#notebook-container');\n",
       "if (notebookContainer) {{\n",
       "    x.observe(notebookContainer, {childList: true});\n",
       "}}\n",
       "\n",
       "// Listen for the clearing of the current output cell\n",
       "var outputEl = gd.closest('.output');\n",
       "if (outputEl) {{\n",
       "    x.observe(outputEl, {childList: true});\n",
       "}}\n",
       "\n",
       "                        })                };                });            </script>        </div>"
      ]
     },
     "metadata": {},
     "output_type": "display_data"
    },
    {
     "data": {
      "application/vnd.plotly.v1+json": {
       "config": {
        "linkText": "Export to plot.ly",
        "plotlyServerURL": "https://plot.ly",
        "showLink": false
       },
       "data": [
        {
         "domain": {
          "x": [
           0,
           0.48
          ]
         },
         "hole": 0.6,
         "hoverinfo": "label+percent+name",
         "labels": [
          "N",
          "Y"
         ],
         "marker": {
          "line": {
           "color": "rgb(243,243,243)",
           "width": 2
          }
         },
         "name": "Died",
         "type": "pie",
         "values": [
          7560,
          5
         ]
        },
        {
         "domain": {
          "x": [
           0.52,
           1
          ]
         },
         "hole": 0.6,
         "hoverinfo": "label+percent+name",
         "labels": [
          "N",
          "Y"
         ],
         "marker": {
          "line": {
           "color": "rgb(243,243,243)",
           "width": 2
          }
         },
         "name": "Non died",
         "type": "pie",
         "values": [
          462479,
          360
         ]
        }
       ],
       "layout": {
        "annotations": [
         {
          "font": {
           "size": 13
          },
          "showarrow": false,
          "text": "After vaccination died",
          "x": 0.15,
          "y": 0.5
         },
         {
          "font": {
           "size": 13
          },
          "showarrow": false,
          "text": "After vaccination not died",
          "x": 0.88,
          "y": 0.5
         }
        ],
        "paper_bgcolor": "rgb(243,243,243)",
        "plot_bgcolor": "rgb(243,243,243)",
        "template": {
         "data": {
          "bar": [
           {
            "error_x": {
             "color": "#2a3f5f"
            },
            "error_y": {
             "color": "#2a3f5f"
            },
            "marker": {
             "line": {
              "color": "#E5ECF6",
              "width": 0.5
             },
             "pattern": {
              "fillmode": "overlay",
              "size": 10,
              "solidity": 0.2
             }
            },
            "type": "bar"
           }
          ],
          "barpolar": [
           {
            "marker": {
             "line": {
              "color": "#E5ECF6",
              "width": 0.5
             },
             "pattern": {
              "fillmode": "overlay",
              "size": 10,
              "solidity": 0.2
             }
            },
            "type": "barpolar"
           }
          ],
          "carpet": [
           {
            "aaxis": {
             "endlinecolor": "#2a3f5f",
             "gridcolor": "white",
             "linecolor": "white",
             "minorgridcolor": "white",
             "startlinecolor": "#2a3f5f"
            },
            "baxis": {
             "endlinecolor": "#2a3f5f",
             "gridcolor": "white",
             "linecolor": "white",
             "minorgridcolor": "white",
             "startlinecolor": "#2a3f5f"
            },
            "type": "carpet"
           }
          ],
          "choropleth": [
           {
            "colorbar": {
             "outlinewidth": 0,
             "ticks": ""
            },
            "type": "choropleth"
           }
          ],
          "contour": [
           {
            "colorbar": {
             "outlinewidth": 0,
             "ticks": ""
            },
            "colorscale": [
             [
              0,
              "#0d0887"
             ],
             [
              0.1111111111111111,
              "#46039f"
             ],
             [
              0.2222222222222222,
              "#7201a8"
             ],
             [
              0.3333333333333333,
              "#9c179e"
             ],
             [
              0.4444444444444444,
              "#bd3786"
             ],
             [
              0.5555555555555556,
              "#d8576b"
             ],
             [
              0.6666666666666666,
              "#ed7953"
             ],
             [
              0.7777777777777778,
              "#fb9f3a"
             ],
             [
              0.8888888888888888,
              "#fdca26"
             ],
             [
              1,
              "#f0f921"
             ]
            ],
            "type": "contour"
           }
          ],
          "contourcarpet": [
           {
            "colorbar": {
             "outlinewidth": 0,
             "ticks": ""
            },
            "type": "contourcarpet"
           }
          ],
          "heatmap": [
           {
            "colorbar": {
             "outlinewidth": 0,
             "ticks": ""
            },
            "colorscale": [
             [
              0,
              "#0d0887"
             ],
             [
              0.1111111111111111,
              "#46039f"
             ],
             [
              0.2222222222222222,
              "#7201a8"
             ],
             [
              0.3333333333333333,
              "#9c179e"
             ],
             [
              0.4444444444444444,
              "#bd3786"
             ],
             [
              0.5555555555555556,
              "#d8576b"
             ],
             [
              0.6666666666666666,
              "#ed7953"
             ],
             [
              0.7777777777777778,
              "#fb9f3a"
             ],
             [
              0.8888888888888888,
              "#fdca26"
             ],
             [
              1,
              "#f0f921"
             ]
            ],
            "type": "heatmap"
           }
          ],
          "heatmapgl": [
           {
            "colorbar": {
             "outlinewidth": 0,
             "ticks": ""
            },
            "colorscale": [
             [
              0,
              "#0d0887"
             ],
             [
              0.1111111111111111,
              "#46039f"
             ],
             [
              0.2222222222222222,
              "#7201a8"
             ],
             [
              0.3333333333333333,
              "#9c179e"
             ],
             [
              0.4444444444444444,
              "#bd3786"
             ],
             [
              0.5555555555555556,
              "#d8576b"
             ],
             [
              0.6666666666666666,
              "#ed7953"
             ],
             [
              0.7777777777777778,
              "#fb9f3a"
             ],
             [
              0.8888888888888888,
              "#fdca26"
             ],
             [
              1,
              "#f0f921"
             ]
            ],
            "type": "heatmapgl"
           }
          ],
          "histogram": [
           {
            "marker": {
             "pattern": {
              "fillmode": "overlay",
              "size": 10,
              "solidity": 0.2
             }
            },
            "type": "histogram"
           }
          ],
          "histogram2d": [
           {
            "colorbar": {
             "outlinewidth": 0,
             "ticks": ""
            },
            "colorscale": [
             [
              0,
              "#0d0887"
             ],
             [
              0.1111111111111111,
              "#46039f"
             ],
             [
              0.2222222222222222,
              "#7201a8"
             ],
             [
              0.3333333333333333,
              "#9c179e"
             ],
             [
              0.4444444444444444,
              "#bd3786"
             ],
             [
              0.5555555555555556,
              "#d8576b"
             ],
             [
              0.6666666666666666,
              "#ed7953"
             ],
             [
              0.7777777777777778,
              "#fb9f3a"
             ],
             [
              0.8888888888888888,
              "#fdca26"
             ],
             [
              1,
              "#f0f921"
             ]
            ],
            "type": "histogram2d"
           }
          ],
          "histogram2dcontour": [
           {
            "colorbar": {
             "outlinewidth": 0,
             "ticks": ""
            },
            "colorscale": [
             [
              0,
              "#0d0887"
             ],
             [
              0.1111111111111111,
              "#46039f"
             ],
             [
              0.2222222222222222,
              "#7201a8"
             ],
             [
              0.3333333333333333,
              "#9c179e"
             ],
             [
              0.4444444444444444,
              "#bd3786"
             ],
             [
              0.5555555555555556,
              "#d8576b"
             ],
             [
              0.6666666666666666,
              "#ed7953"
             ],
             [
              0.7777777777777778,
              "#fb9f3a"
             ],
             [
              0.8888888888888888,
              "#fdca26"
             ],
             [
              1,
              "#f0f921"
             ]
            ],
            "type": "histogram2dcontour"
           }
          ],
          "mesh3d": [
           {
            "colorbar": {
             "outlinewidth": 0,
             "ticks": ""
            },
            "type": "mesh3d"
           }
          ],
          "parcoords": [
           {
            "line": {
             "colorbar": {
              "outlinewidth": 0,
              "ticks": ""
             }
            },
            "type": "parcoords"
           }
          ],
          "pie": [
           {
            "automargin": true,
            "type": "pie"
           }
          ],
          "scatter": [
           {
            "marker": {
             "colorbar": {
              "outlinewidth": 0,
              "ticks": ""
             }
            },
            "type": "scatter"
           }
          ],
          "scatter3d": [
           {
            "line": {
             "colorbar": {
              "outlinewidth": 0,
              "ticks": ""
             }
            },
            "marker": {
             "colorbar": {
              "outlinewidth": 0,
              "ticks": ""
             }
            },
            "type": "scatter3d"
           }
          ],
          "scattercarpet": [
           {
            "marker": {
             "colorbar": {
              "outlinewidth": 0,
              "ticks": ""
             }
            },
            "type": "scattercarpet"
           }
          ],
          "scattergeo": [
           {
            "marker": {
             "colorbar": {
              "outlinewidth": 0,
              "ticks": ""
             }
            },
            "type": "scattergeo"
           }
          ],
          "scattergl": [
           {
            "marker": {
             "colorbar": {
              "outlinewidth": 0,
              "ticks": ""
             }
            },
            "type": "scattergl"
           }
          ],
          "scattermapbox": [
           {
            "marker": {
             "colorbar": {
              "outlinewidth": 0,
              "ticks": ""
             }
            },
            "type": "scattermapbox"
           }
          ],
          "scatterpolar": [
           {
            "marker": {
             "colorbar": {
              "outlinewidth": 0,
              "ticks": ""
             }
            },
            "type": "scatterpolar"
           }
          ],
          "scatterpolargl": [
           {
            "marker": {
             "colorbar": {
              "outlinewidth": 0,
              "ticks": ""
             }
            },
            "type": "scatterpolargl"
           }
          ],
          "scatterternary": [
           {
            "marker": {
             "colorbar": {
              "outlinewidth": 0,
              "ticks": ""
             }
            },
            "type": "scatterternary"
           }
          ],
          "surface": [
           {
            "colorbar": {
             "outlinewidth": 0,
             "ticks": ""
            },
            "colorscale": [
             [
              0,
              "#0d0887"
             ],
             [
              0.1111111111111111,
              "#46039f"
             ],
             [
              0.2222222222222222,
              "#7201a8"
             ],
             [
              0.3333333333333333,
              "#9c179e"
             ],
             [
              0.4444444444444444,
              "#bd3786"
             ],
             [
              0.5555555555555556,
              "#d8576b"
             ],
             [
              0.6666666666666666,
              "#ed7953"
             ],
             [
              0.7777777777777778,
              "#fb9f3a"
             ],
             [
              0.8888888888888888,
              "#fdca26"
             ],
             [
              1,
              "#f0f921"
             ]
            ],
            "type": "surface"
           }
          ],
          "table": [
           {
            "cells": {
             "fill": {
              "color": "#EBF0F8"
             },
             "line": {
              "color": "white"
             }
            },
            "header": {
             "fill": {
              "color": "#C8D4E3"
             },
             "line": {
              "color": "white"
             }
            },
            "type": "table"
           }
          ]
         },
         "layout": {
          "annotationdefaults": {
           "arrowcolor": "#2a3f5f",
           "arrowhead": 0,
           "arrowwidth": 1
          },
          "autotypenumbers": "strict",
          "coloraxis": {
           "colorbar": {
            "outlinewidth": 0,
            "ticks": ""
           }
          },
          "colorscale": {
           "diverging": [
            [
             0,
             "#8e0152"
            ],
            [
             0.1,
             "#c51b7d"
            ],
            [
             0.2,
             "#de77ae"
            ],
            [
             0.3,
             "#f1b6da"
            ],
            [
             0.4,
             "#fde0ef"
            ],
            [
             0.5,
             "#f7f7f7"
            ],
            [
             0.6,
             "#e6f5d0"
            ],
            [
             0.7,
             "#b8e186"
            ],
            [
             0.8,
             "#7fbc41"
            ],
            [
             0.9,
             "#4d9221"
            ],
            [
             1,
             "#276419"
            ]
           ],
           "sequential": [
            [
             0,
             "#0d0887"
            ],
            [
             0.1111111111111111,
             "#46039f"
            ],
            [
             0.2222222222222222,
             "#7201a8"
            ],
            [
             0.3333333333333333,
             "#9c179e"
            ],
            [
             0.4444444444444444,
             "#bd3786"
            ],
            [
             0.5555555555555556,
             "#d8576b"
            ],
            [
             0.6666666666666666,
             "#ed7953"
            ],
            [
             0.7777777777777778,
             "#fb9f3a"
            ],
            [
             0.8888888888888888,
             "#fdca26"
            ],
            [
             1,
             "#f0f921"
            ]
           ],
           "sequentialminus": [
            [
             0,
             "#0d0887"
            ],
            [
             0.1111111111111111,
             "#46039f"
            ],
            [
             0.2222222222222222,
             "#7201a8"
            ],
            [
             0.3333333333333333,
             "#9c179e"
            ],
            [
             0.4444444444444444,
             "#bd3786"
            ],
            [
             0.5555555555555556,
             "#d8576b"
            ],
            [
             0.6666666666666666,
             "#ed7953"
            ],
            [
             0.7777777777777778,
             "#fb9f3a"
            ],
            [
             0.8888888888888888,
             "#fdca26"
            ],
            [
             1,
             "#f0f921"
            ]
           ]
          },
          "colorway": [
           "#636efa",
           "#EF553B",
           "#00cc96",
           "#ab63fa",
           "#FFA15A",
           "#19d3f3",
           "#FF6692",
           "#B6E880",
           "#FF97FF",
           "#FECB52"
          ],
          "font": {
           "color": "#2a3f5f"
          },
          "geo": {
           "bgcolor": "white",
           "lakecolor": "white",
           "landcolor": "#E5ECF6",
           "showlakes": true,
           "showland": true,
           "subunitcolor": "white"
          },
          "hoverlabel": {
           "align": "left"
          },
          "hovermode": "closest",
          "mapbox": {
           "style": "light"
          },
          "paper_bgcolor": "white",
          "plot_bgcolor": "#E5ECF6",
          "polar": {
           "angularaxis": {
            "gridcolor": "white",
            "linecolor": "white",
            "ticks": ""
           },
           "bgcolor": "#E5ECF6",
           "radialaxis": {
            "gridcolor": "white",
            "linecolor": "white",
            "ticks": ""
           }
          },
          "scene": {
           "xaxis": {
            "backgroundcolor": "#E5ECF6",
            "gridcolor": "white",
            "gridwidth": 2,
            "linecolor": "white",
            "showbackground": true,
            "ticks": "",
            "zerolinecolor": "white"
           },
           "yaxis": {
            "backgroundcolor": "#E5ECF6",
            "gridcolor": "white",
            "gridwidth": 2,
            "linecolor": "white",
            "showbackground": true,
            "ticks": "",
            "zerolinecolor": "white"
           },
           "zaxis": {
            "backgroundcolor": "#E5ECF6",
            "gridcolor": "white",
            "gridwidth": 2,
            "linecolor": "white",
            "showbackground": true,
            "ticks": "",
            "zerolinecolor": "white"
           }
          },
          "shapedefaults": {
           "line": {
            "color": "#2a3f5f"
           }
          },
          "ternary": {
           "aaxis": {
            "gridcolor": "white",
            "linecolor": "white",
            "ticks": ""
           },
           "baxis": {
            "gridcolor": "white",
            "linecolor": "white",
            "ticks": ""
           },
           "bgcolor": "#E5ECF6",
           "caxis": {
            "gridcolor": "white",
            "linecolor": "white",
            "ticks": ""
           }
          },
          "title": {
           "x": 0.05
          },
          "xaxis": {
           "automargin": true,
           "gridcolor": "white",
           "linecolor": "white",
           "ticks": "",
           "title": {
            "standoff": 15
           },
           "zerolinecolor": "white",
           "zerolinewidth": 2
          },
          "yaxis": {
           "automargin": true,
           "gridcolor": "white",
           "linecolor": "white",
           "ticks": "",
           "title": {
            "standoff": 15
           },
           "zerolinecolor": "white",
           "zerolinewidth": 2
          }
         }
        },
        "title": {
         "text": "BIRTH_DEFECT VS DIED "
        }
       }
      },
      "text/html": [
       "<div>                            <div id=\"c72a9c5b-60e6-41ce-a610-cce476e9092a\" class=\"plotly-graph-div\" style=\"height:525px; width:100%;\"></div>            <script type=\"text/javascript\">                require([\"plotly\"], function(Plotly) {                    window.PLOTLYENV=window.PLOTLYENV || {};                                    if (document.getElementById(\"c72a9c5b-60e6-41ce-a610-cce476e9092a\")) {                    Plotly.newPlot(                        \"c72a9c5b-60e6-41ce-a610-cce476e9092a\",                        [{\"domain\":{\"x\":[0,0.48]},\"hole\":0.6,\"hoverinfo\":\"label+percent+name\",\"labels\":[\"N\",\"Y\"],\"marker\":{\"line\":{\"color\":\"rgb(243,243,243)\",\"width\":2}},\"name\":\"Died\",\"type\":\"pie\",\"values\":[7560,5]},{\"domain\":{\"x\":[0.52,1]},\"hole\":0.6,\"hoverinfo\":\"label+percent+name\",\"labels\":[\"N\",\"Y\"],\"marker\":{\"line\":{\"color\":\"rgb(243,243,243)\",\"width\":2}},\"name\":\"Non died\",\"type\":\"pie\",\"values\":[462479,360]}],                        {\"annotations\":[{\"font\":{\"size\":13},\"showarrow\":false,\"text\":\"After vaccination died\",\"x\":0.15,\"y\":0.5},{\"font\":{\"size\":13},\"showarrow\":false,\"text\":\"After vaccination not died\",\"x\":0.88,\"y\":0.5}],\"paper_bgcolor\":\"rgb(243,243,243)\",\"plot_bgcolor\":\"rgb(243,243,243)\",\"template\":{\"data\":{\"bar\":[{\"error_x\":{\"color\":\"#2a3f5f\"},\"error_y\":{\"color\":\"#2a3f5f\"},\"marker\":{\"line\":{\"color\":\"#E5ECF6\",\"width\":0.5},\"pattern\":{\"fillmode\":\"overlay\",\"size\":10,\"solidity\":0.2}},\"type\":\"bar\"}],\"barpolar\":[{\"marker\":{\"line\":{\"color\":\"#E5ECF6\",\"width\":0.5},\"pattern\":{\"fillmode\":\"overlay\",\"size\":10,\"solidity\":0.2}},\"type\":\"barpolar\"}],\"carpet\":[{\"aaxis\":{\"endlinecolor\":\"#2a3f5f\",\"gridcolor\":\"white\",\"linecolor\":\"white\",\"minorgridcolor\":\"white\",\"startlinecolor\":\"#2a3f5f\"},\"baxis\":{\"endlinecolor\":\"#2a3f5f\",\"gridcolor\":\"white\",\"linecolor\":\"white\",\"minorgridcolor\":\"white\",\"startlinecolor\":\"#2a3f5f\"},\"type\":\"carpet\"}],\"choropleth\":[{\"colorbar\":{\"outlinewidth\":0,\"ticks\":\"\"},\"type\":\"choropleth\"}],\"contour\":[{\"colorbar\":{\"outlinewidth\":0,\"ticks\":\"\"},\"colorscale\":[[0.0,\"#0d0887\"],[0.1111111111111111,\"#46039f\"],[0.2222222222222222,\"#7201a8\"],[0.3333333333333333,\"#9c179e\"],[0.4444444444444444,\"#bd3786\"],[0.5555555555555556,\"#d8576b\"],[0.6666666666666666,\"#ed7953\"],[0.7777777777777778,\"#fb9f3a\"],[0.8888888888888888,\"#fdca26\"],[1.0,\"#f0f921\"]],\"type\":\"contour\"}],\"contourcarpet\":[{\"colorbar\":{\"outlinewidth\":0,\"ticks\":\"\"},\"type\":\"contourcarpet\"}],\"heatmap\":[{\"colorbar\":{\"outlinewidth\":0,\"ticks\":\"\"},\"colorscale\":[[0.0,\"#0d0887\"],[0.1111111111111111,\"#46039f\"],[0.2222222222222222,\"#7201a8\"],[0.3333333333333333,\"#9c179e\"],[0.4444444444444444,\"#bd3786\"],[0.5555555555555556,\"#d8576b\"],[0.6666666666666666,\"#ed7953\"],[0.7777777777777778,\"#fb9f3a\"],[0.8888888888888888,\"#fdca26\"],[1.0,\"#f0f921\"]],\"type\":\"heatmap\"}],\"heatmapgl\":[{\"colorbar\":{\"outlinewidth\":0,\"ticks\":\"\"},\"colorscale\":[[0.0,\"#0d0887\"],[0.1111111111111111,\"#46039f\"],[0.2222222222222222,\"#7201a8\"],[0.3333333333333333,\"#9c179e\"],[0.4444444444444444,\"#bd3786\"],[0.5555555555555556,\"#d8576b\"],[0.6666666666666666,\"#ed7953\"],[0.7777777777777778,\"#fb9f3a\"],[0.8888888888888888,\"#fdca26\"],[1.0,\"#f0f921\"]],\"type\":\"heatmapgl\"}],\"histogram\":[{\"marker\":{\"pattern\":{\"fillmode\":\"overlay\",\"size\":10,\"solidity\":0.2}},\"type\":\"histogram\"}],\"histogram2d\":[{\"colorbar\":{\"outlinewidth\":0,\"ticks\":\"\"},\"colorscale\":[[0.0,\"#0d0887\"],[0.1111111111111111,\"#46039f\"],[0.2222222222222222,\"#7201a8\"],[0.3333333333333333,\"#9c179e\"],[0.4444444444444444,\"#bd3786\"],[0.5555555555555556,\"#d8576b\"],[0.6666666666666666,\"#ed7953\"],[0.7777777777777778,\"#fb9f3a\"],[0.8888888888888888,\"#fdca26\"],[1.0,\"#f0f921\"]],\"type\":\"histogram2d\"}],\"histogram2dcontour\":[{\"colorbar\":{\"outlinewidth\":0,\"ticks\":\"\"},\"colorscale\":[[0.0,\"#0d0887\"],[0.1111111111111111,\"#46039f\"],[0.2222222222222222,\"#7201a8\"],[0.3333333333333333,\"#9c179e\"],[0.4444444444444444,\"#bd3786\"],[0.5555555555555556,\"#d8576b\"],[0.6666666666666666,\"#ed7953\"],[0.7777777777777778,\"#fb9f3a\"],[0.8888888888888888,\"#fdca26\"],[1.0,\"#f0f921\"]],\"type\":\"histogram2dcontour\"}],\"mesh3d\":[{\"colorbar\":{\"outlinewidth\":0,\"ticks\":\"\"},\"type\":\"mesh3d\"}],\"parcoords\":[{\"line\":{\"colorbar\":{\"outlinewidth\":0,\"ticks\":\"\"}},\"type\":\"parcoords\"}],\"pie\":[{\"automargin\":true,\"type\":\"pie\"}],\"scatter\":[{\"marker\":{\"colorbar\":{\"outlinewidth\":0,\"ticks\":\"\"}},\"type\":\"scatter\"}],\"scatter3d\":[{\"line\":{\"colorbar\":{\"outlinewidth\":0,\"ticks\":\"\"}},\"marker\":{\"colorbar\":{\"outlinewidth\":0,\"ticks\":\"\"}},\"type\":\"scatter3d\"}],\"scattercarpet\":[{\"marker\":{\"colorbar\":{\"outlinewidth\":0,\"ticks\":\"\"}},\"type\":\"scattercarpet\"}],\"scattergeo\":[{\"marker\":{\"colorbar\":{\"outlinewidth\":0,\"ticks\":\"\"}},\"type\":\"scattergeo\"}],\"scattergl\":[{\"marker\":{\"colorbar\":{\"outlinewidth\":0,\"ticks\":\"\"}},\"type\":\"scattergl\"}],\"scattermapbox\":[{\"marker\":{\"colorbar\":{\"outlinewidth\":0,\"ticks\":\"\"}},\"type\":\"scattermapbox\"}],\"scatterpolar\":[{\"marker\":{\"colorbar\":{\"outlinewidth\":0,\"ticks\":\"\"}},\"type\":\"scatterpolar\"}],\"scatterpolargl\":[{\"marker\":{\"colorbar\":{\"outlinewidth\":0,\"ticks\":\"\"}},\"type\":\"scatterpolargl\"}],\"scatterternary\":[{\"marker\":{\"colorbar\":{\"outlinewidth\":0,\"ticks\":\"\"}},\"type\":\"scatterternary\"}],\"surface\":[{\"colorbar\":{\"outlinewidth\":0,\"ticks\":\"\"},\"colorscale\":[[0.0,\"#0d0887\"],[0.1111111111111111,\"#46039f\"],[0.2222222222222222,\"#7201a8\"],[0.3333333333333333,\"#9c179e\"],[0.4444444444444444,\"#bd3786\"],[0.5555555555555556,\"#d8576b\"],[0.6666666666666666,\"#ed7953\"],[0.7777777777777778,\"#fb9f3a\"],[0.8888888888888888,\"#fdca26\"],[1.0,\"#f0f921\"]],\"type\":\"surface\"}],\"table\":[{\"cells\":{\"fill\":{\"color\":\"#EBF0F8\"},\"line\":{\"color\":\"white\"}},\"header\":{\"fill\":{\"color\":\"#C8D4E3\"},\"line\":{\"color\":\"white\"}},\"type\":\"table\"}]},\"layout\":{\"annotationdefaults\":{\"arrowcolor\":\"#2a3f5f\",\"arrowhead\":0,\"arrowwidth\":1},\"autotypenumbers\":\"strict\",\"coloraxis\":{\"colorbar\":{\"outlinewidth\":0,\"ticks\":\"\"}},\"colorscale\":{\"diverging\":[[0,\"#8e0152\"],[0.1,\"#c51b7d\"],[0.2,\"#de77ae\"],[0.3,\"#f1b6da\"],[0.4,\"#fde0ef\"],[0.5,\"#f7f7f7\"],[0.6,\"#e6f5d0\"],[0.7,\"#b8e186\"],[0.8,\"#7fbc41\"],[0.9,\"#4d9221\"],[1,\"#276419\"]],\"sequential\":[[0.0,\"#0d0887\"],[0.1111111111111111,\"#46039f\"],[0.2222222222222222,\"#7201a8\"],[0.3333333333333333,\"#9c179e\"],[0.4444444444444444,\"#bd3786\"],[0.5555555555555556,\"#d8576b\"],[0.6666666666666666,\"#ed7953\"],[0.7777777777777778,\"#fb9f3a\"],[0.8888888888888888,\"#fdca26\"],[1.0,\"#f0f921\"]],\"sequentialminus\":[[0.0,\"#0d0887\"],[0.1111111111111111,\"#46039f\"],[0.2222222222222222,\"#7201a8\"],[0.3333333333333333,\"#9c179e\"],[0.4444444444444444,\"#bd3786\"],[0.5555555555555556,\"#d8576b\"],[0.6666666666666666,\"#ed7953\"],[0.7777777777777778,\"#fb9f3a\"],[0.8888888888888888,\"#fdca26\"],[1.0,\"#f0f921\"]]},\"colorway\":[\"#636efa\",\"#EF553B\",\"#00cc96\",\"#ab63fa\",\"#FFA15A\",\"#19d3f3\",\"#FF6692\",\"#B6E880\",\"#FF97FF\",\"#FECB52\"],\"font\":{\"color\":\"#2a3f5f\"},\"geo\":{\"bgcolor\":\"white\",\"lakecolor\":\"white\",\"landcolor\":\"#E5ECF6\",\"showlakes\":true,\"showland\":true,\"subunitcolor\":\"white\"},\"hoverlabel\":{\"align\":\"left\"},\"hovermode\":\"closest\",\"mapbox\":{\"style\":\"light\"},\"paper_bgcolor\":\"white\",\"plot_bgcolor\":\"#E5ECF6\",\"polar\":{\"angularaxis\":{\"gridcolor\":\"white\",\"linecolor\":\"white\",\"ticks\":\"\"},\"bgcolor\":\"#E5ECF6\",\"radialaxis\":{\"gridcolor\":\"white\",\"linecolor\":\"white\",\"ticks\":\"\"}},\"scene\":{\"xaxis\":{\"backgroundcolor\":\"#E5ECF6\",\"gridcolor\":\"white\",\"gridwidth\":2,\"linecolor\":\"white\",\"showbackground\":true,\"ticks\":\"\",\"zerolinecolor\":\"white\"},\"yaxis\":{\"backgroundcolor\":\"#E5ECF6\",\"gridcolor\":\"white\",\"gridwidth\":2,\"linecolor\":\"white\",\"showbackground\":true,\"ticks\":\"\",\"zerolinecolor\":\"white\"},\"zaxis\":{\"backgroundcolor\":\"#E5ECF6\",\"gridcolor\":\"white\",\"gridwidth\":2,\"linecolor\":\"white\",\"showbackground\":true,\"ticks\":\"\",\"zerolinecolor\":\"white\"}},\"shapedefaults\":{\"line\":{\"color\":\"#2a3f5f\"}},\"ternary\":{\"aaxis\":{\"gridcolor\":\"white\",\"linecolor\":\"white\",\"ticks\":\"\"},\"baxis\":{\"gridcolor\":\"white\",\"linecolor\":\"white\",\"ticks\":\"\"},\"bgcolor\":\"#E5ECF6\",\"caxis\":{\"gridcolor\":\"white\",\"linecolor\":\"white\",\"ticks\":\"\"}},\"title\":{\"x\":0.05},\"xaxis\":{\"automargin\":true,\"gridcolor\":\"white\",\"linecolor\":\"white\",\"ticks\":\"\",\"title\":{\"standoff\":15},\"zerolinecolor\":\"white\",\"zerolinewidth\":2},\"yaxis\":{\"automargin\":true,\"gridcolor\":\"white\",\"linecolor\":\"white\",\"ticks\":\"\",\"title\":{\"standoff\":15},\"zerolinecolor\":\"white\",\"zerolinewidth\":2}}},\"title\":{\"text\":\"BIRTH_DEFECT VS DIED \"}},                        {\"responsive\": true}                    ).then(function(){\n",
       "                            \n",
       "var gd = document.getElementById('c72a9c5b-60e6-41ce-a610-cce476e9092a');\n",
       "var x = new MutationObserver(function (mutations, observer) {{\n",
       "        var display = window.getComputedStyle(gd).display;\n",
       "        if (!display || display === 'none') {{\n",
       "            console.log([gd, 'removed!']);\n",
       "            Plotly.purge(gd);\n",
       "            observer.disconnect();\n",
       "        }}\n",
       "}});\n",
       "\n",
       "// Listen for the removal of the full notebook cells\n",
       "var notebookContainer = gd.closest('#notebook-container');\n",
       "if (notebookContainer) {{\n",
       "    x.observe(notebookContainer, {childList: true});\n",
       "}}\n",
       "\n",
       "// Listen for the clearing of the current output cell\n",
       "var outputEl = gd.closest('.output');\n",
       "if (outputEl) {{\n",
       "    x.observe(outputEl, {childList: true});\n",
       "}}\n",
       "\n",
       "                        })                };                });            </script>        </div>"
      ]
     },
     "metadata": {},
     "output_type": "display_data"
    }
   ],
   "source": [
    "for i in bi_cat_cols :\n",
    "    plot_pie(i)"
   ]
  },
  {
   "cell_type": "code",
   "execution_count": 30,
   "id": "ca351a5e",
   "metadata": {},
   "outputs": [
    {
     "data": {
      "application/vnd.plotly.v1+json": {
       "config": {
        "linkText": "Export to plot.ly",
        "plotlyServerURL": "https://plot.ly",
        "showLink": false
       },
       "data": [
        {
         "domain": {
          "x": [
           0,
           0.48
          ]
         },
         "hole": 0.6,
         "hoverinfo": "label+percent+name",
         "labels": [
          "PFIZER\\BIONTECH",
          "MODERNA",
          "JANSSEN"
         ],
         "marker": {
          "line": {
           "color": "rgb(243,243,243)",
           "width": 2
          }
         },
         "name": "Died",
         "type": "pie",
         "values": [
          3436,
          3431,
          698
         ]
        },
        {
         "domain": {
          "x": [
           0.52,
           1
          ]
         },
         "hole": 0.6,
         "hoverinfo": "label+percent+name",
         "labels": [
          "MODERNA",
          "PFIZER\\BIONTECH",
          "JANSSEN"
         ],
         "marker": {
          "line": {
           "color": "rgb(243,243,243)",
           "width": 2
          }
         },
         "name": "Non died",
         "type": "pie",
         "values": [
          206857,
          205488,
          50494
         ]
        }
       ],
       "layout": {
        "annotations": [
         {
          "font": {
           "size": 13
          },
          "showarrow": false,
          "text": "After vaccination died",
          "x": 0.15,
          "y": 0.5
         },
         {
          "font": {
           "size": 13
          },
          "showarrow": false,
          "text": "After vaccination not died",
          "x": 0.88,
          "y": 0.5
         }
        ],
        "paper_bgcolor": "rgb(243,243,243)",
        "plot_bgcolor": "rgb(243,243,243)",
        "template": {
         "data": {
          "bar": [
           {
            "error_x": {
             "color": "#2a3f5f"
            },
            "error_y": {
             "color": "#2a3f5f"
            },
            "marker": {
             "line": {
              "color": "#E5ECF6",
              "width": 0.5
             },
             "pattern": {
              "fillmode": "overlay",
              "size": 10,
              "solidity": 0.2
             }
            },
            "type": "bar"
           }
          ],
          "barpolar": [
           {
            "marker": {
             "line": {
              "color": "#E5ECF6",
              "width": 0.5
             },
             "pattern": {
              "fillmode": "overlay",
              "size": 10,
              "solidity": 0.2
             }
            },
            "type": "barpolar"
           }
          ],
          "carpet": [
           {
            "aaxis": {
             "endlinecolor": "#2a3f5f",
             "gridcolor": "white",
             "linecolor": "white",
             "minorgridcolor": "white",
             "startlinecolor": "#2a3f5f"
            },
            "baxis": {
             "endlinecolor": "#2a3f5f",
             "gridcolor": "white",
             "linecolor": "white",
             "minorgridcolor": "white",
             "startlinecolor": "#2a3f5f"
            },
            "type": "carpet"
           }
          ],
          "choropleth": [
           {
            "colorbar": {
             "outlinewidth": 0,
             "ticks": ""
            },
            "type": "choropleth"
           }
          ],
          "contour": [
           {
            "colorbar": {
             "outlinewidth": 0,
             "ticks": ""
            },
            "colorscale": [
             [
              0,
              "#0d0887"
             ],
             [
              0.1111111111111111,
              "#46039f"
             ],
             [
              0.2222222222222222,
              "#7201a8"
             ],
             [
              0.3333333333333333,
              "#9c179e"
             ],
             [
              0.4444444444444444,
              "#bd3786"
             ],
             [
              0.5555555555555556,
              "#d8576b"
             ],
             [
              0.6666666666666666,
              "#ed7953"
             ],
             [
              0.7777777777777778,
              "#fb9f3a"
             ],
             [
              0.8888888888888888,
              "#fdca26"
             ],
             [
              1,
              "#f0f921"
             ]
            ],
            "type": "contour"
           }
          ],
          "contourcarpet": [
           {
            "colorbar": {
             "outlinewidth": 0,
             "ticks": ""
            },
            "type": "contourcarpet"
           }
          ],
          "heatmap": [
           {
            "colorbar": {
             "outlinewidth": 0,
             "ticks": ""
            },
            "colorscale": [
             [
              0,
              "#0d0887"
             ],
             [
              0.1111111111111111,
              "#46039f"
             ],
             [
              0.2222222222222222,
              "#7201a8"
             ],
             [
              0.3333333333333333,
              "#9c179e"
             ],
             [
              0.4444444444444444,
              "#bd3786"
             ],
             [
              0.5555555555555556,
              "#d8576b"
             ],
             [
              0.6666666666666666,
              "#ed7953"
             ],
             [
              0.7777777777777778,
              "#fb9f3a"
             ],
             [
              0.8888888888888888,
              "#fdca26"
             ],
             [
              1,
              "#f0f921"
             ]
            ],
            "type": "heatmap"
           }
          ],
          "heatmapgl": [
           {
            "colorbar": {
             "outlinewidth": 0,
             "ticks": ""
            },
            "colorscale": [
             [
              0,
              "#0d0887"
             ],
             [
              0.1111111111111111,
              "#46039f"
             ],
             [
              0.2222222222222222,
              "#7201a8"
             ],
             [
              0.3333333333333333,
              "#9c179e"
             ],
             [
              0.4444444444444444,
              "#bd3786"
             ],
             [
              0.5555555555555556,
              "#d8576b"
             ],
             [
              0.6666666666666666,
              "#ed7953"
             ],
             [
              0.7777777777777778,
              "#fb9f3a"
             ],
             [
              0.8888888888888888,
              "#fdca26"
             ],
             [
              1,
              "#f0f921"
             ]
            ],
            "type": "heatmapgl"
           }
          ],
          "histogram": [
           {
            "marker": {
             "pattern": {
              "fillmode": "overlay",
              "size": 10,
              "solidity": 0.2
             }
            },
            "type": "histogram"
           }
          ],
          "histogram2d": [
           {
            "colorbar": {
             "outlinewidth": 0,
             "ticks": ""
            },
            "colorscale": [
             [
              0,
              "#0d0887"
             ],
             [
              0.1111111111111111,
              "#46039f"
             ],
             [
              0.2222222222222222,
              "#7201a8"
             ],
             [
              0.3333333333333333,
              "#9c179e"
             ],
             [
              0.4444444444444444,
              "#bd3786"
             ],
             [
              0.5555555555555556,
              "#d8576b"
             ],
             [
              0.6666666666666666,
              "#ed7953"
             ],
             [
              0.7777777777777778,
              "#fb9f3a"
             ],
             [
              0.8888888888888888,
              "#fdca26"
             ],
             [
              1,
              "#f0f921"
             ]
            ],
            "type": "histogram2d"
           }
          ],
          "histogram2dcontour": [
           {
            "colorbar": {
             "outlinewidth": 0,
             "ticks": ""
            },
            "colorscale": [
             [
              0,
              "#0d0887"
             ],
             [
              0.1111111111111111,
              "#46039f"
             ],
             [
              0.2222222222222222,
              "#7201a8"
             ],
             [
              0.3333333333333333,
              "#9c179e"
             ],
             [
              0.4444444444444444,
              "#bd3786"
             ],
             [
              0.5555555555555556,
              "#d8576b"
             ],
             [
              0.6666666666666666,
              "#ed7953"
             ],
             [
              0.7777777777777778,
              "#fb9f3a"
             ],
             [
              0.8888888888888888,
              "#fdca26"
             ],
             [
              1,
              "#f0f921"
             ]
            ],
            "type": "histogram2dcontour"
           }
          ],
          "mesh3d": [
           {
            "colorbar": {
             "outlinewidth": 0,
             "ticks": ""
            },
            "type": "mesh3d"
           }
          ],
          "parcoords": [
           {
            "line": {
             "colorbar": {
              "outlinewidth": 0,
              "ticks": ""
             }
            },
            "type": "parcoords"
           }
          ],
          "pie": [
           {
            "automargin": true,
            "type": "pie"
           }
          ],
          "scatter": [
           {
            "marker": {
             "colorbar": {
              "outlinewidth": 0,
              "ticks": ""
             }
            },
            "type": "scatter"
           }
          ],
          "scatter3d": [
           {
            "line": {
             "colorbar": {
              "outlinewidth": 0,
              "ticks": ""
             }
            },
            "marker": {
             "colorbar": {
              "outlinewidth": 0,
              "ticks": ""
             }
            },
            "type": "scatter3d"
           }
          ],
          "scattercarpet": [
           {
            "marker": {
             "colorbar": {
              "outlinewidth": 0,
              "ticks": ""
             }
            },
            "type": "scattercarpet"
           }
          ],
          "scattergeo": [
           {
            "marker": {
             "colorbar": {
              "outlinewidth": 0,
              "ticks": ""
             }
            },
            "type": "scattergeo"
           }
          ],
          "scattergl": [
           {
            "marker": {
             "colorbar": {
              "outlinewidth": 0,
              "ticks": ""
             }
            },
            "type": "scattergl"
           }
          ],
          "scattermapbox": [
           {
            "marker": {
             "colorbar": {
              "outlinewidth": 0,
              "ticks": ""
             }
            },
            "type": "scattermapbox"
           }
          ],
          "scatterpolar": [
           {
            "marker": {
             "colorbar": {
              "outlinewidth": 0,
              "ticks": ""
             }
            },
            "type": "scatterpolar"
           }
          ],
          "scatterpolargl": [
           {
            "marker": {
             "colorbar": {
              "outlinewidth": 0,
              "ticks": ""
             }
            },
            "type": "scatterpolargl"
           }
          ],
          "scatterternary": [
           {
            "marker": {
             "colorbar": {
              "outlinewidth": 0,
              "ticks": ""
             }
            },
            "type": "scatterternary"
           }
          ],
          "surface": [
           {
            "colorbar": {
             "outlinewidth": 0,
             "ticks": ""
            },
            "colorscale": [
             [
              0,
              "#0d0887"
             ],
             [
              0.1111111111111111,
              "#46039f"
             ],
             [
              0.2222222222222222,
              "#7201a8"
             ],
             [
              0.3333333333333333,
              "#9c179e"
             ],
             [
              0.4444444444444444,
              "#bd3786"
             ],
             [
              0.5555555555555556,
              "#d8576b"
             ],
             [
              0.6666666666666666,
              "#ed7953"
             ],
             [
              0.7777777777777778,
              "#fb9f3a"
             ],
             [
              0.8888888888888888,
              "#fdca26"
             ],
             [
              1,
              "#f0f921"
             ]
            ],
            "type": "surface"
           }
          ],
          "table": [
           {
            "cells": {
             "fill": {
              "color": "#EBF0F8"
             },
             "line": {
              "color": "white"
             }
            },
            "header": {
             "fill": {
              "color": "#C8D4E3"
             },
             "line": {
              "color": "white"
             }
            },
            "type": "table"
           }
          ]
         },
         "layout": {
          "annotationdefaults": {
           "arrowcolor": "#2a3f5f",
           "arrowhead": 0,
           "arrowwidth": 1
          },
          "autotypenumbers": "strict",
          "coloraxis": {
           "colorbar": {
            "outlinewidth": 0,
            "ticks": ""
           }
          },
          "colorscale": {
           "diverging": [
            [
             0,
             "#8e0152"
            ],
            [
             0.1,
             "#c51b7d"
            ],
            [
             0.2,
             "#de77ae"
            ],
            [
             0.3,
             "#f1b6da"
            ],
            [
             0.4,
             "#fde0ef"
            ],
            [
             0.5,
             "#f7f7f7"
            ],
            [
             0.6,
             "#e6f5d0"
            ],
            [
             0.7,
             "#b8e186"
            ],
            [
             0.8,
             "#7fbc41"
            ],
            [
             0.9,
             "#4d9221"
            ],
            [
             1,
             "#276419"
            ]
           ],
           "sequential": [
            [
             0,
             "#0d0887"
            ],
            [
             0.1111111111111111,
             "#46039f"
            ],
            [
             0.2222222222222222,
             "#7201a8"
            ],
            [
             0.3333333333333333,
             "#9c179e"
            ],
            [
             0.4444444444444444,
             "#bd3786"
            ],
            [
             0.5555555555555556,
             "#d8576b"
            ],
            [
             0.6666666666666666,
             "#ed7953"
            ],
            [
             0.7777777777777778,
             "#fb9f3a"
            ],
            [
             0.8888888888888888,
             "#fdca26"
            ],
            [
             1,
             "#f0f921"
            ]
           ],
           "sequentialminus": [
            [
             0,
             "#0d0887"
            ],
            [
             0.1111111111111111,
             "#46039f"
            ],
            [
             0.2222222222222222,
             "#7201a8"
            ],
            [
             0.3333333333333333,
             "#9c179e"
            ],
            [
             0.4444444444444444,
             "#bd3786"
            ],
            [
             0.5555555555555556,
             "#d8576b"
            ],
            [
             0.6666666666666666,
             "#ed7953"
            ],
            [
             0.7777777777777778,
             "#fb9f3a"
            ],
            [
             0.8888888888888888,
             "#fdca26"
            ],
            [
             1,
             "#f0f921"
            ]
           ]
          },
          "colorway": [
           "#636efa",
           "#EF553B",
           "#00cc96",
           "#ab63fa",
           "#FFA15A",
           "#19d3f3",
           "#FF6692",
           "#B6E880",
           "#FF97FF",
           "#FECB52"
          ],
          "font": {
           "color": "#2a3f5f"
          },
          "geo": {
           "bgcolor": "white",
           "lakecolor": "white",
           "landcolor": "#E5ECF6",
           "showlakes": true,
           "showland": true,
           "subunitcolor": "white"
          },
          "hoverlabel": {
           "align": "left"
          },
          "hovermode": "closest",
          "mapbox": {
           "style": "light"
          },
          "paper_bgcolor": "white",
          "plot_bgcolor": "#E5ECF6",
          "polar": {
           "angularaxis": {
            "gridcolor": "white",
            "linecolor": "white",
            "ticks": ""
           },
           "bgcolor": "#E5ECF6",
           "radialaxis": {
            "gridcolor": "white",
            "linecolor": "white",
            "ticks": ""
           }
          },
          "scene": {
           "xaxis": {
            "backgroundcolor": "#E5ECF6",
            "gridcolor": "white",
            "gridwidth": 2,
            "linecolor": "white",
            "showbackground": true,
            "ticks": "",
            "zerolinecolor": "white"
           },
           "yaxis": {
            "backgroundcolor": "#E5ECF6",
            "gridcolor": "white",
            "gridwidth": 2,
            "linecolor": "white",
            "showbackground": true,
            "ticks": "",
            "zerolinecolor": "white"
           },
           "zaxis": {
            "backgroundcolor": "#E5ECF6",
            "gridcolor": "white",
            "gridwidth": 2,
            "linecolor": "white",
            "showbackground": true,
            "ticks": "",
            "zerolinecolor": "white"
           }
          },
          "shapedefaults": {
           "line": {
            "color": "#2a3f5f"
           }
          },
          "ternary": {
           "aaxis": {
            "gridcolor": "white",
            "linecolor": "white",
            "ticks": ""
           },
           "baxis": {
            "gridcolor": "white",
            "linecolor": "white",
            "ticks": ""
           },
           "bgcolor": "#E5ECF6",
           "caxis": {
            "gridcolor": "white",
            "linecolor": "white",
            "ticks": ""
           }
          },
          "title": {
           "x": 0.05
          },
          "xaxis": {
           "automargin": true,
           "gridcolor": "white",
           "linecolor": "white",
           "ticks": "",
           "title": {
            "standoff": 15
           },
           "zerolinecolor": "white",
           "zerolinewidth": 2
          },
          "yaxis": {
           "automargin": true,
           "gridcolor": "white",
           "linecolor": "white",
           "ticks": "",
           "title": {
            "standoff": 15
           },
           "zerolinecolor": "white",
           "zerolinewidth": 2
          }
         }
        },
        "title": {
         "text": "VAX_MANU VS DIED "
        }
       }
      },
      "text/html": [
       "<div>                            <div id=\"29c6c3db-7a09-4773-abab-f3821d463ed4\" class=\"plotly-graph-div\" style=\"height:525px; width:100%;\"></div>            <script type=\"text/javascript\">                require([\"plotly\"], function(Plotly) {                    window.PLOTLYENV=window.PLOTLYENV || {};                                    if (document.getElementById(\"29c6c3db-7a09-4773-abab-f3821d463ed4\")) {                    Plotly.newPlot(                        \"29c6c3db-7a09-4773-abab-f3821d463ed4\",                        [{\"domain\":{\"x\":[0,0.48]},\"hole\":0.6,\"hoverinfo\":\"label+percent+name\",\"labels\":[\"PFIZER\\\\BIONTECH\",\"MODERNA\",\"JANSSEN\"],\"marker\":{\"line\":{\"color\":\"rgb(243,243,243)\",\"width\":2}},\"name\":\"Died\",\"type\":\"pie\",\"values\":[3436,3431,698]},{\"domain\":{\"x\":[0.52,1]},\"hole\":0.6,\"hoverinfo\":\"label+percent+name\",\"labels\":[\"MODERNA\",\"PFIZER\\\\BIONTECH\",\"JANSSEN\"],\"marker\":{\"line\":{\"color\":\"rgb(243,243,243)\",\"width\":2}},\"name\":\"Non died\",\"type\":\"pie\",\"values\":[206857,205488,50494]}],                        {\"annotations\":[{\"font\":{\"size\":13},\"showarrow\":false,\"text\":\"After vaccination died\",\"x\":0.15,\"y\":0.5},{\"font\":{\"size\":13},\"showarrow\":false,\"text\":\"After vaccination not died\",\"x\":0.88,\"y\":0.5}],\"paper_bgcolor\":\"rgb(243,243,243)\",\"plot_bgcolor\":\"rgb(243,243,243)\",\"template\":{\"data\":{\"bar\":[{\"error_x\":{\"color\":\"#2a3f5f\"},\"error_y\":{\"color\":\"#2a3f5f\"},\"marker\":{\"line\":{\"color\":\"#E5ECF6\",\"width\":0.5},\"pattern\":{\"fillmode\":\"overlay\",\"size\":10,\"solidity\":0.2}},\"type\":\"bar\"}],\"barpolar\":[{\"marker\":{\"line\":{\"color\":\"#E5ECF6\",\"width\":0.5},\"pattern\":{\"fillmode\":\"overlay\",\"size\":10,\"solidity\":0.2}},\"type\":\"barpolar\"}],\"carpet\":[{\"aaxis\":{\"endlinecolor\":\"#2a3f5f\",\"gridcolor\":\"white\",\"linecolor\":\"white\",\"minorgridcolor\":\"white\",\"startlinecolor\":\"#2a3f5f\"},\"baxis\":{\"endlinecolor\":\"#2a3f5f\",\"gridcolor\":\"white\",\"linecolor\":\"white\",\"minorgridcolor\":\"white\",\"startlinecolor\":\"#2a3f5f\"},\"type\":\"carpet\"}],\"choropleth\":[{\"colorbar\":{\"outlinewidth\":0,\"ticks\":\"\"},\"type\":\"choropleth\"}],\"contour\":[{\"colorbar\":{\"outlinewidth\":0,\"ticks\":\"\"},\"colorscale\":[[0.0,\"#0d0887\"],[0.1111111111111111,\"#46039f\"],[0.2222222222222222,\"#7201a8\"],[0.3333333333333333,\"#9c179e\"],[0.4444444444444444,\"#bd3786\"],[0.5555555555555556,\"#d8576b\"],[0.6666666666666666,\"#ed7953\"],[0.7777777777777778,\"#fb9f3a\"],[0.8888888888888888,\"#fdca26\"],[1.0,\"#f0f921\"]],\"type\":\"contour\"}],\"contourcarpet\":[{\"colorbar\":{\"outlinewidth\":0,\"ticks\":\"\"},\"type\":\"contourcarpet\"}],\"heatmap\":[{\"colorbar\":{\"outlinewidth\":0,\"ticks\":\"\"},\"colorscale\":[[0.0,\"#0d0887\"],[0.1111111111111111,\"#46039f\"],[0.2222222222222222,\"#7201a8\"],[0.3333333333333333,\"#9c179e\"],[0.4444444444444444,\"#bd3786\"],[0.5555555555555556,\"#d8576b\"],[0.6666666666666666,\"#ed7953\"],[0.7777777777777778,\"#fb9f3a\"],[0.8888888888888888,\"#fdca26\"],[1.0,\"#f0f921\"]],\"type\":\"heatmap\"}],\"heatmapgl\":[{\"colorbar\":{\"outlinewidth\":0,\"ticks\":\"\"},\"colorscale\":[[0.0,\"#0d0887\"],[0.1111111111111111,\"#46039f\"],[0.2222222222222222,\"#7201a8\"],[0.3333333333333333,\"#9c179e\"],[0.4444444444444444,\"#bd3786\"],[0.5555555555555556,\"#d8576b\"],[0.6666666666666666,\"#ed7953\"],[0.7777777777777778,\"#fb9f3a\"],[0.8888888888888888,\"#fdca26\"],[1.0,\"#f0f921\"]],\"type\":\"heatmapgl\"}],\"histogram\":[{\"marker\":{\"pattern\":{\"fillmode\":\"overlay\",\"size\":10,\"solidity\":0.2}},\"type\":\"histogram\"}],\"histogram2d\":[{\"colorbar\":{\"outlinewidth\":0,\"ticks\":\"\"},\"colorscale\":[[0.0,\"#0d0887\"],[0.1111111111111111,\"#46039f\"],[0.2222222222222222,\"#7201a8\"],[0.3333333333333333,\"#9c179e\"],[0.4444444444444444,\"#bd3786\"],[0.5555555555555556,\"#d8576b\"],[0.6666666666666666,\"#ed7953\"],[0.7777777777777778,\"#fb9f3a\"],[0.8888888888888888,\"#fdca26\"],[1.0,\"#f0f921\"]],\"type\":\"histogram2d\"}],\"histogram2dcontour\":[{\"colorbar\":{\"outlinewidth\":0,\"ticks\":\"\"},\"colorscale\":[[0.0,\"#0d0887\"],[0.1111111111111111,\"#46039f\"],[0.2222222222222222,\"#7201a8\"],[0.3333333333333333,\"#9c179e\"],[0.4444444444444444,\"#bd3786\"],[0.5555555555555556,\"#d8576b\"],[0.6666666666666666,\"#ed7953\"],[0.7777777777777778,\"#fb9f3a\"],[0.8888888888888888,\"#fdca26\"],[1.0,\"#f0f921\"]],\"type\":\"histogram2dcontour\"}],\"mesh3d\":[{\"colorbar\":{\"outlinewidth\":0,\"ticks\":\"\"},\"type\":\"mesh3d\"}],\"parcoords\":[{\"line\":{\"colorbar\":{\"outlinewidth\":0,\"ticks\":\"\"}},\"type\":\"parcoords\"}],\"pie\":[{\"automargin\":true,\"type\":\"pie\"}],\"scatter\":[{\"marker\":{\"colorbar\":{\"outlinewidth\":0,\"ticks\":\"\"}},\"type\":\"scatter\"}],\"scatter3d\":[{\"line\":{\"colorbar\":{\"outlinewidth\":0,\"ticks\":\"\"}},\"marker\":{\"colorbar\":{\"outlinewidth\":0,\"ticks\":\"\"}},\"type\":\"scatter3d\"}],\"scattercarpet\":[{\"marker\":{\"colorbar\":{\"outlinewidth\":0,\"ticks\":\"\"}},\"type\":\"scattercarpet\"}],\"scattergeo\":[{\"marker\":{\"colorbar\":{\"outlinewidth\":0,\"ticks\":\"\"}},\"type\":\"scattergeo\"}],\"scattergl\":[{\"marker\":{\"colorbar\":{\"outlinewidth\":0,\"ticks\":\"\"}},\"type\":\"scattergl\"}],\"scattermapbox\":[{\"marker\":{\"colorbar\":{\"outlinewidth\":0,\"ticks\":\"\"}},\"type\":\"scattermapbox\"}],\"scatterpolar\":[{\"marker\":{\"colorbar\":{\"outlinewidth\":0,\"ticks\":\"\"}},\"type\":\"scatterpolar\"}],\"scatterpolargl\":[{\"marker\":{\"colorbar\":{\"outlinewidth\":0,\"ticks\":\"\"}},\"type\":\"scatterpolargl\"}],\"scatterternary\":[{\"marker\":{\"colorbar\":{\"outlinewidth\":0,\"ticks\":\"\"}},\"type\":\"scatterternary\"}],\"surface\":[{\"colorbar\":{\"outlinewidth\":0,\"ticks\":\"\"},\"colorscale\":[[0.0,\"#0d0887\"],[0.1111111111111111,\"#46039f\"],[0.2222222222222222,\"#7201a8\"],[0.3333333333333333,\"#9c179e\"],[0.4444444444444444,\"#bd3786\"],[0.5555555555555556,\"#d8576b\"],[0.6666666666666666,\"#ed7953\"],[0.7777777777777778,\"#fb9f3a\"],[0.8888888888888888,\"#fdca26\"],[1.0,\"#f0f921\"]],\"type\":\"surface\"}],\"table\":[{\"cells\":{\"fill\":{\"color\":\"#EBF0F8\"},\"line\":{\"color\":\"white\"}},\"header\":{\"fill\":{\"color\":\"#C8D4E3\"},\"line\":{\"color\":\"white\"}},\"type\":\"table\"}]},\"layout\":{\"annotationdefaults\":{\"arrowcolor\":\"#2a3f5f\",\"arrowhead\":0,\"arrowwidth\":1},\"autotypenumbers\":\"strict\",\"coloraxis\":{\"colorbar\":{\"outlinewidth\":0,\"ticks\":\"\"}},\"colorscale\":{\"diverging\":[[0,\"#8e0152\"],[0.1,\"#c51b7d\"],[0.2,\"#de77ae\"],[0.3,\"#f1b6da\"],[0.4,\"#fde0ef\"],[0.5,\"#f7f7f7\"],[0.6,\"#e6f5d0\"],[0.7,\"#b8e186\"],[0.8,\"#7fbc41\"],[0.9,\"#4d9221\"],[1,\"#276419\"]],\"sequential\":[[0.0,\"#0d0887\"],[0.1111111111111111,\"#46039f\"],[0.2222222222222222,\"#7201a8\"],[0.3333333333333333,\"#9c179e\"],[0.4444444444444444,\"#bd3786\"],[0.5555555555555556,\"#d8576b\"],[0.6666666666666666,\"#ed7953\"],[0.7777777777777778,\"#fb9f3a\"],[0.8888888888888888,\"#fdca26\"],[1.0,\"#f0f921\"]],\"sequentialminus\":[[0.0,\"#0d0887\"],[0.1111111111111111,\"#46039f\"],[0.2222222222222222,\"#7201a8\"],[0.3333333333333333,\"#9c179e\"],[0.4444444444444444,\"#bd3786\"],[0.5555555555555556,\"#d8576b\"],[0.6666666666666666,\"#ed7953\"],[0.7777777777777778,\"#fb9f3a\"],[0.8888888888888888,\"#fdca26\"],[1.0,\"#f0f921\"]]},\"colorway\":[\"#636efa\",\"#EF553B\",\"#00cc96\",\"#ab63fa\",\"#FFA15A\",\"#19d3f3\",\"#FF6692\",\"#B6E880\",\"#FF97FF\",\"#FECB52\"],\"font\":{\"color\":\"#2a3f5f\"},\"geo\":{\"bgcolor\":\"white\",\"lakecolor\":\"white\",\"landcolor\":\"#E5ECF6\",\"showlakes\":true,\"showland\":true,\"subunitcolor\":\"white\"},\"hoverlabel\":{\"align\":\"left\"},\"hovermode\":\"closest\",\"mapbox\":{\"style\":\"light\"},\"paper_bgcolor\":\"white\",\"plot_bgcolor\":\"#E5ECF6\",\"polar\":{\"angularaxis\":{\"gridcolor\":\"white\",\"linecolor\":\"white\",\"ticks\":\"\"},\"bgcolor\":\"#E5ECF6\",\"radialaxis\":{\"gridcolor\":\"white\",\"linecolor\":\"white\",\"ticks\":\"\"}},\"scene\":{\"xaxis\":{\"backgroundcolor\":\"#E5ECF6\",\"gridcolor\":\"white\",\"gridwidth\":2,\"linecolor\":\"white\",\"showbackground\":true,\"ticks\":\"\",\"zerolinecolor\":\"white\"},\"yaxis\":{\"backgroundcolor\":\"#E5ECF6\",\"gridcolor\":\"white\",\"gridwidth\":2,\"linecolor\":\"white\",\"showbackground\":true,\"ticks\":\"\",\"zerolinecolor\":\"white\"},\"zaxis\":{\"backgroundcolor\":\"#E5ECF6\",\"gridcolor\":\"white\",\"gridwidth\":2,\"linecolor\":\"white\",\"showbackground\":true,\"ticks\":\"\",\"zerolinecolor\":\"white\"}},\"shapedefaults\":{\"line\":{\"color\":\"#2a3f5f\"}},\"ternary\":{\"aaxis\":{\"gridcolor\":\"white\",\"linecolor\":\"white\",\"ticks\":\"\"},\"baxis\":{\"gridcolor\":\"white\",\"linecolor\":\"white\",\"ticks\":\"\"},\"bgcolor\":\"#E5ECF6\",\"caxis\":{\"gridcolor\":\"white\",\"linecolor\":\"white\",\"ticks\":\"\"}},\"title\":{\"x\":0.05},\"xaxis\":{\"automargin\":true,\"gridcolor\":\"white\",\"linecolor\":\"white\",\"ticks\":\"\",\"title\":{\"standoff\":15},\"zerolinecolor\":\"white\",\"zerolinewidth\":2},\"yaxis\":{\"automargin\":true,\"gridcolor\":\"white\",\"linecolor\":\"white\",\"ticks\":\"\",\"title\":{\"standoff\":15},\"zerolinecolor\":\"white\",\"zerolinewidth\":2}}},\"title\":{\"text\":\"VAX_MANU VS DIED \"}},                        {\"responsive\": true}                    ).then(function(){\n",
       "                            \n",
       "var gd = document.getElementById('29c6c3db-7a09-4773-abab-f3821d463ed4');\n",
       "var x = new MutationObserver(function (mutations, observer) {{\n",
       "        var display = window.getComputedStyle(gd).display;\n",
       "        if (!display || display === 'none') {{\n",
       "            console.log([gd, 'removed!']);\n",
       "            Plotly.purge(gd);\n",
       "            observer.disconnect();\n",
       "        }}\n",
       "}});\n",
       "\n",
       "// Listen for the removal of the full notebook cells\n",
       "var notebookContainer = gd.closest('#notebook-container');\n",
       "if (notebookContainer) {{\n",
       "    x.observe(notebookContainer, {childList: true});\n",
       "}}\n",
       "\n",
       "// Listen for the clearing of the current output cell\n",
       "var outputEl = gd.closest('.output');\n",
       "if (outputEl) {{\n",
       "    x.observe(outputEl, {childList: true});\n",
       "}}\n",
       "\n",
       "                        })                };                });            </script>        </div>"
      ]
     },
     "metadata": {},
     "output_type": "display_data"
    },
    {
     "data": {
      "application/vnd.plotly.v1+json": {
       "config": {
        "linkText": "Export to plot.ly",
        "plotlyServerURL": "https://plot.ly",
        "showLink": false
       },
       "data": [
        {
         "domain": {
          "x": [
           0,
           0.48
          ]
         },
         "hole": 0.6,
         "hoverinfo": "label+percent+name",
         "labels": [
          "N",
          "U",
          "Y"
         ],
         "marker": {
          "line": {
           "color": "rgb(243,243,243)",
           "width": 2
          }
         },
         "name": "Died",
         "type": "pie",
         "values": [
          6597,
          961,
          7
         ]
        },
        {
         "domain": {
          "x": [
           0.52,
           1
          ]
         },
         "hole": 0.6,
         "hoverinfo": "label+percent+name",
         "labels": [
          "N",
          "Y",
          "U"
         ],
         "marker": {
          "line": {
           "color": "rgb(243,243,243)",
           "width": 2
          }
         },
         "name": "Non died",
         "type": "pie",
         "values": [
          192390,
          168677,
          101772
         ]
        }
       ],
       "layout": {
        "annotations": [
         {
          "font": {
           "size": 13
          },
          "showarrow": false,
          "text": "After vaccination died",
          "x": 0.15,
          "y": 0.5
         },
         {
          "font": {
           "size": 13
          },
          "showarrow": false,
          "text": "After vaccination not died",
          "x": 0.88,
          "y": 0.5
         }
        ],
        "paper_bgcolor": "rgb(243,243,243)",
        "plot_bgcolor": "rgb(243,243,243)",
        "template": {
         "data": {
          "bar": [
           {
            "error_x": {
             "color": "#2a3f5f"
            },
            "error_y": {
             "color": "#2a3f5f"
            },
            "marker": {
             "line": {
              "color": "#E5ECF6",
              "width": 0.5
             },
             "pattern": {
              "fillmode": "overlay",
              "size": 10,
              "solidity": 0.2
             }
            },
            "type": "bar"
           }
          ],
          "barpolar": [
           {
            "marker": {
             "line": {
              "color": "#E5ECF6",
              "width": 0.5
             },
             "pattern": {
              "fillmode": "overlay",
              "size": 10,
              "solidity": 0.2
             }
            },
            "type": "barpolar"
           }
          ],
          "carpet": [
           {
            "aaxis": {
             "endlinecolor": "#2a3f5f",
             "gridcolor": "white",
             "linecolor": "white",
             "minorgridcolor": "white",
             "startlinecolor": "#2a3f5f"
            },
            "baxis": {
             "endlinecolor": "#2a3f5f",
             "gridcolor": "white",
             "linecolor": "white",
             "minorgridcolor": "white",
             "startlinecolor": "#2a3f5f"
            },
            "type": "carpet"
           }
          ],
          "choropleth": [
           {
            "colorbar": {
             "outlinewidth": 0,
             "ticks": ""
            },
            "type": "choropleth"
           }
          ],
          "contour": [
           {
            "colorbar": {
             "outlinewidth": 0,
             "ticks": ""
            },
            "colorscale": [
             [
              0,
              "#0d0887"
             ],
             [
              0.1111111111111111,
              "#46039f"
             ],
             [
              0.2222222222222222,
              "#7201a8"
             ],
             [
              0.3333333333333333,
              "#9c179e"
             ],
             [
              0.4444444444444444,
              "#bd3786"
             ],
             [
              0.5555555555555556,
              "#d8576b"
             ],
             [
              0.6666666666666666,
              "#ed7953"
             ],
             [
              0.7777777777777778,
              "#fb9f3a"
             ],
             [
              0.8888888888888888,
              "#fdca26"
             ],
             [
              1,
              "#f0f921"
             ]
            ],
            "type": "contour"
           }
          ],
          "contourcarpet": [
           {
            "colorbar": {
             "outlinewidth": 0,
             "ticks": ""
            },
            "type": "contourcarpet"
           }
          ],
          "heatmap": [
           {
            "colorbar": {
             "outlinewidth": 0,
             "ticks": ""
            },
            "colorscale": [
             [
              0,
              "#0d0887"
             ],
             [
              0.1111111111111111,
              "#46039f"
             ],
             [
              0.2222222222222222,
              "#7201a8"
             ],
             [
              0.3333333333333333,
              "#9c179e"
             ],
             [
              0.4444444444444444,
              "#bd3786"
             ],
             [
              0.5555555555555556,
              "#d8576b"
             ],
             [
              0.6666666666666666,
              "#ed7953"
             ],
             [
              0.7777777777777778,
              "#fb9f3a"
             ],
             [
              0.8888888888888888,
              "#fdca26"
             ],
             [
              1,
              "#f0f921"
             ]
            ],
            "type": "heatmap"
           }
          ],
          "heatmapgl": [
           {
            "colorbar": {
             "outlinewidth": 0,
             "ticks": ""
            },
            "colorscale": [
             [
              0,
              "#0d0887"
             ],
             [
              0.1111111111111111,
              "#46039f"
             ],
             [
              0.2222222222222222,
              "#7201a8"
             ],
             [
              0.3333333333333333,
              "#9c179e"
             ],
             [
              0.4444444444444444,
              "#bd3786"
             ],
             [
              0.5555555555555556,
              "#d8576b"
             ],
             [
              0.6666666666666666,
              "#ed7953"
             ],
             [
              0.7777777777777778,
              "#fb9f3a"
             ],
             [
              0.8888888888888888,
              "#fdca26"
             ],
             [
              1,
              "#f0f921"
             ]
            ],
            "type": "heatmapgl"
           }
          ],
          "histogram": [
           {
            "marker": {
             "pattern": {
              "fillmode": "overlay",
              "size": 10,
              "solidity": 0.2
             }
            },
            "type": "histogram"
           }
          ],
          "histogram2d": [
           {
            "colorbar": {
             "outlinewidth": 0,
             "ticks": ""
            },
            "colorscale": [
             [
              0,
              "#0d0887"
             ],
             [
              0.1111111111111111,
              "#46039f"
             ],
             [
              0.2222222222222222,
              "#7201a8"
             ],
             [
              0.3333333333333333,
              "#9c179e"
             ],
             [
              0.4444444444444444,
              "#bd3786"
             ],
             [
              0.5555555555555556,
              "#d8576b"
             ],
             [
              0.6666666666666666,
              "#ed7953"
             ],
             [
              0.7777777777777778,
              "#fb9f3a"
             ],
             [
              0.8888888888888888,
              "#fdca26"
             ],
             [
              1,
              "#f0f921"
             ]
            ],
            "type": "histogram2d"
           }
          ],
          "histogram2dcontour": [
           {
            "colorbar": {
             "outlinewidth": 0,
             "ticks": ""
            },
            "colorscale": [
             [
              0,
              "#0d0887"
             ],
             [
              0.1111111111111111,
              "#46039f"
             ],
             [
              0.2222222222222222,
              "#7201a8"
             ],
             [
              0.3333333333333333,
              "#9c179e"
             ],
             [
              0.4444444444444444,
              "#bd3786"
             ],
             [
              0.5555555555555556,
              "#d8576b"
             ],
             [
              0.6666666666666666,
              "#ed7953"
             ],
             [
              0.7777777777777778,
              "#fb9f3a"
             ],
             [
              0.8888888888888888,
              "#fdca26"
             ],
             [
              1,
              "#f0f921"
             ]
            ],
            "type": "histogram2dcontour"
           }
          ],
          "mesh3d": [
           {
            "colorbar": {
             "outlinewidth": 0,
             "ticks": ""
            },
            "type": "mesh3d"
           }
          ],
          "parcoords": [
           {
            "line": {
             "colorbar": {
              "outlinewidth": 0,
              "ticks": ""
             }
            },
            "type": "parcoords"
           }
          ],
          "pie": [
           {
            "automargin": true,
            "type": "pie"
           }
          ],
          "scatter": [
           {
            "marker": {
             "colorbar": {
              "outlinewidth": 0,
              "ticks": ""
             }
            },
            "type": "scatter"
           }
          ],
          "scatter3d": [
           {
            "line": {
             "colorbar": {
              "outlinewidth": 0,
              "ticks": ""
             }
            },
            "marker": {
             "colorbar": {
              "outlinewidth": 0,
              "ticks": ""
             }
            },
            "type": "scatter3d"
           }
          ],
          "scattercarpet": [
           {
            "marker": {
             "colorbar": {
              "outlinewidth": 0,
              "ticks": ""
             }
            },
            "type": "scattercarpet"
           }
          ],
          "scattergeo": [
           {
            "marker": {
             "colorbar": {
              "outlinewidth": 0,
              "ticks": ""
             }
            },
            "type": "scattergeo"
           }
          ],
          "scattergl": [
           {
            "marker": {
             "colorbar": {
              "outlinewidth": 0,
              "ticks": ""
             }
            },
            "type": "scattergl"
           }
          ],
          "scattermapbox": [
           {
            "marker": {
             "colorbar": {
              "outlinewidth": 0,
              "ticks": ""
             }
            },
            "type": "scattermapbox"
           }
          ],
          "scatterpolar": [
           {
            "marker": {
             "colorbar": {
              "outlinewidth": 0,
              "ticks": ""
             }
            },
            "type": "scatterpolar"
           }
          ],
          "scatterpolargl": [
           {
            "marker": {
             "colorbar": {
              "outlinewidth": 0,
              "ticks": ""
             }
            },
            "type": "scatterpolargl"
           }
          ],
          "scatterternary": [
           {
            "marker": {
             "colorbar": {
              "outlinewidth": 0,
              "ticks": ""
             }
            },
            "type": "scatterternary"
           }
          ],
          "surface": [
           {
            "colorbar": {
             "outlinewidth": 0,
             "ticks": ""
            },
            "colorscale": [
             [
              0,
              "#0d0887"
             ],
             [
              0.1111111111111111,
              "#46039f"
             ],
             [
              0.2222222222222222,
              "#7201a8"
             ],
             [
              0.3333333333333333,
              "#9c179e"
             ],
             [
              0.4444444444444444,
              "#bd3786"
             ],
             [
              0.5555555555555556,
              "#d8576b"
             ],
             [
              0.6666666666666666,
              "#ed7953"
             ],
             [
              0.7777777777777778,
              "#fb9f3a"
             ],
             [
              0.8888888888888888,
              "#fdca26"
             ],
             [
              1,
              "#f0f921"
             ]
            ],
            "type": "surface"
           }
          ],
          "table": [
           {
            "cells": {
             "fill": {
              "color": "#EBF0F8"
             },
             "line": {
              "color": "white"
             }
            },
            "header": {
             "fill": {
              "color": "#C8D4E3"
             },
             "line": {
              "color": "white"
             }
            },
            "type": "table"
           }
          ]
         },
         "layout": {
          "annotationdefaults": {
           "arrowcolor": "#2a3f5f",
           "arrowhead": 0,
           "arrowwidth": 1
          },
          "autotypenumbers": "strict",
          "coloraxis": {
           "colorbar": {
            "outlinewidth": 0,
            "ticks": ""
           }
          },
          "colorscale": {
           "diverging": [
            [
             0,
             "#8e0152"
            ],
            [
             0.1,
             "#c51b7d"
            ],
            [
             0.2,
             "#de77ae"
            ],
            [
             0.3,
             "#f1b6da"
            ],
            [
             0.4,
             "#fde0ef"
            ],
            [
             0.5,
             "#f7f7f7"
            ],
            [
             0.6,
             "#e6f5d0"
            ],
            [
             0.7,
             "#b8e186"
            ],
            [
             0.8,
             "#7fbc41"
            ],
            [
             0.9,
             "#4d9221"
            ],
            [
             1,
             "#276419"
            ]
           ],
           "sequential": [
            [
             0,
             "#0d0887"
            ],
            [
             0.1111111111111111,
             "#46039f"
            ],
            [
             0.2222222222222222,
             "#7201a8"
            ],
            [
             0.3333333333333333,
             "#9c179e"
            ],
            [
             0.4444444444444444,
             "#bd3786"
            ],
            [
             0.5555555555555556,
             "#d8576b"
            ],
            [
             0.6666666666666666,
             "#ed7953"
            ],
            [
             0.7777777777777778,
             "#fb9f3a"
            ],
            [
             0.8888888888888888,
             "#fdca26"
            ],
            [
             1,
             "#f0f921"
            ]
           ],
           "sequentialminus": [
            [
             0,
             "#0d0887"
            ],
            [
             0.1111111111111111,
             "#46039f"
            ],
            [
             0.2222222222222222,
             "#7201a8"
            ],
            [
             0.3333333333333333,
             "#9c179e"
            ],
            [
             0.4444444444444444,
             "#bd3786"
            ],
            [
             0.5555555555555556,
             "#d8576b"
            ],
            [
             0.6666666666666666,
             "#ed7953"
            ],
            [
             0.7777777777777778,
             "#fb9f3a"
            ],
            [
             0.8888888888888888,
             "#fdca26"
            ],
            [
             1,
             "#f0f921"
            ]
           ]
          },
          "colorway": [
           "#636efa",
           "#EF553B",
           "#00cc96",
           "#ab63fa",
           "#FFA15A",
           "#19d3f3",
           "#FF6692",
           "#B6E880",
           "#FF97FF",
           "#FECB52"
          ],
          "font": {
           "color": "#2a3f5f"
          },
          "geo": {
           "bgcolor": "white",
           "lakecolor": "white",
           "landcolor": "#E5ECF6",
           "showlakes": true,
           "showland": true,
           "subunitcolor": "white"
          },
          "hoverlabel": {
           "align": "left"
          },
          "hovermode": "closest",
          "mapbox": {
           "style": "light"
          },
          "paper_bgcolor": "white",
          "plot_bgcolor": "#E5ECF6",
          "polar": {
           "angularaxis": {
            "gridcolor": "white",
            "linecolor": "white",
            "ticks": ""
           },
           "bgcolor": "#E5ECF6",
           "radialaxis": {
            "gridcolor": "white",
            "linecolor": "white",
            "ticks": ""
           }
          },
          "scene": {
           "xaxis": {
            "backgroundcolor": "#E5ECF6",
            "gridcolor": "white",
            "gridwidth": 2,
            "linecolor": "white",
            "showbackground": true,
            "ticks": "",
            "zerolinecolor": "white"
           },
           "yaxis": {
            "backgroundcolor": "#E5ECF6",
            "gridcolor": "white",
            "gridwidth": 2,
            "linecolor": "white",
            "showbackground": true,
            "ticks": "",
            "zerolinecolor": "white"
           },
           "zaxis": {
            "backgroundcolor": "#E5ECF6",
            "gridcolor": "white",
            "gridwidth": 2,
            "linecolor": "white",
            "showbackground": true,
            "ticks": "",
            "zerolinecolor": "white"
           }
          },
          "shapedefaults": {
           "line": {
            "color": "#2a3f5f"
           }
          },
          "ternary": {
           "aaxis": {
            "gridcolor": "white",
            "linecolor": "white",
            "ticks": ""
           },
           "baxis": {
            "gridcolor": "white",
            "linecolor": "white",
            "ticks": ""
           },
           "bgcolor": "#E5ECF6",
           "caxis": {
            "gridcolor": "white",
            "linecolor": "white",
            "ticks": ""
           }
          },
          "title": {
           "x": 0.05
          },
          "xaxis": {
           "automargin": true,
           "gridcolor": "white",
           "linecolor": "white",
           "ticks": "",
           "title": {
            "standoff": 15
           },
           "zerolinecolor": "white",
           "zerolinewidth": 2
          },
          "yaxis": {
           "automargin": true,
           "gridcolor": "white",
           "linecolor": "white",
           "ticks": "",
           "title": {
            "standoff": 15
           },
           "zerolinecolor": "white",
           "zerolinewidth": 2
          }
         }
        },
        "title": {
         "text": "RECOVD VS DIED "
        }
       }
      },
      "text/html": [
       "<div>                            <div id=\"5e66a298-db01-4b9b-9da7-74bc7d70c33b\" class=\"plotly-graph-div\" style=\"height:525px; width:100%;\"></div>            <script type=\"text/javascript\">                require([\"plotly\"], function(Plotly) {                    window.PLOTLYENV=window.PLOTLYENV || {};                                    if (document.getElementById(\"5e66a298-db01-4b9b-9da7-74bc7d70c33b\")) {                    Plotly.newPlot(                        \"5e66a298-db01-4b9b-9da7-74bc7d70c33b\",                        [{\"domain\":{\"x\":[0,0.48]},\"hole\":0.6,\"hoverinfo\":\"label+percent+name\",\"labels\":[\"N\",\"U\",\"Y\"],\"marker\":{\"line\":{\"color\":\"rgb(243,243,243)\",\"width\":2}},\"name\":\"Died\",\"type\":\"pie\",\"values\":[6597,961,7]},{\"domain\":{\"x\":[0.52,1]},\"hole\":0.6,\"hoverinfo\":\"label+percent+name\",\"labels\":[\"N\",\"Y\",\"U\"],\"marker\":{\"line\":{\"color\":\"rgb(243,243,243)\",\"width\":2}},\"name\":\"Non died\",\"type\":\"pie\",\"values\":[192390,168677,101772]}],                        {\"annotations\":[{\"font\":{\"size\":13},\"showarrow\":false,\"text\":\"After vaccination died\",\"x\":0.15,\"y\":0.5},{\"font\":{\"size\":13},\"showarrow\":false,\"text\":\"After vaccination not died\",\"x\":0.88,\"y\":0.5}],\"paper_bgcolor\":\"rgb(243,243,243)\",\"plot_bgcolor\":\"rgb(243,243,243)\",\"template\":{\"data\":{\"bar\":[{\"error_x\":{\"color\":\"#2a3f5f\"},\"error_y\":{\"color\":\"#2a3f5f\"},\"marker\":{\"line\":{\"color\":\"#E5ECF6\",\"width\":0.5},\"pattern\":{\"fillmode\":\"overlay\",\"size\":10,\"solidity\":0.2}},\"type\":\"bar\"}],\"barpolar\":[{\"marker\":{\"line\":{\"color\":\"#E5ECF6\",\"width\":0.5},\"pattern\":{\"fillmode\":\"overlay\",\"size\":10,\"solidity\":0.2}},\"type\":\"barpolar\"}],\"carpet\":[{\"aaxis\":{\"endlinecolor\":\"#2a3f5f\",\"gridcolor\":\"white\",\"linecolor\":\"white\",\"minorgridcolor\":\"white\",\"startlinecolor\":\"#2a3f5f\"},\"baxis\":{\"endlinecolor\":\"#2a3f5f\",\"gridcolor\":\"white\",\"linecolor\":\"white\",\"minorgridcolor\":\"white\",\"startlinecolor\":\"#2a3f5f\"},\"type\":\"carpet\"}],\"choropleth\":[{\"colorbar\":{\"outlinewidth\":0,\"ticks\":\"\"},\"type\":\"choropleth\"}],\"contour\":[{\"colorbar\":{\"outlinewidth\":0,\"ticks\":\"\"},\"colorscale\":[[0.0,\"#0d0887\"],[0.1111111111111111,\"#46039f\"],[0.2222222222222222,\"#7201a8\"],[0.3333333333333333,\"#9c179e\"],[0.4444444444444444,\"#bd3786\"],[0.5555555555555556,\"#d8576b\"],[0.6666666666666666,\"#ed7953\"],[0.7777777777777778,\"#fb9f3a\"],[0.8888888888888888,\"#fdca26\"],[1.0,\"#f0f921\"]],\"type\":\"contour\"}],\"contourcarpet\":[{\"colorbar\":{\"outlinewidth\":0,\"ticks\":\"\"},\"type\":\"contourcarpet\"}],\"heatmap\":[{\"colorbar\":{\"outlinewidth\":0,\"ticks\":\"\"},\"colorscale\":[[0.0,\"#0d0887\"],[0.1111111111111111,\"#46039f\"],[0.2222222222222222,\"#7201a8\"],[0.3333333333333333,\"#9c179e\"],[0.4444444444444444,\"#bd3786\"],[0.5555555555555556,\"#d8576b\"],[0.6666666666666666,\"#ed7953\"],[0.7777777777777778,\"#fb9f3a\"],[0.8888888888888888,\"#fdca26\"],[1.0,\"#f0f921\"]],\"type\":\"heatmap\"}],\"heatmapgl\":[{\"colorbar\":{\"outlinewidth\":0,\"ticks\":\"\"},\"colorscale\":[[0.0,\"#0d0887\"],[0.1111111111111111,\"#46039f\"],[0.2222222222222222,\"#7201a8\"],[0.3333333333333333,\"#9c179e\"],[0.4444444444444444,\"#bd3786\"],[0.5555555555555556,\"#d8576b\"],[0.6666666666666666,\"#ed7953\"],[0.7777777777777778,\"#fb9f3a\"],[0.8888888888888888,\"#fdca26\"],[1.0,\"#f0f921\"]],\"type\":\"heatmapgl\"}],\"histogram\":[{\"marker\":{\"pattern\":{\"fillmode\":\"overlay\",\"size\":10,\"solidity\":0.2}},\"type\":\"histogram\"}],\"histogram2d\":[{\"colorbar\":{\"outlinewidth\":0,\"ticks\":\"\"},\"colorscale\":[[0.0,\"#0d0887\"],[0.1111111111111111,\"#46039f\"],[0.2222222222222222,\"#7201a8\"],[0.3333333333333333,\"#9c179e\"],[0.4444444444444444,\"#bd3786\"],[0.5555555555555556,\"#d8576b\"],[0.6666666666666666,\"#ed7953\"],[0.7777777777777778,\"#fb9f3a\"],[0.8888888888888888,\"#fdca26\"],[1.0,\"#f0f921\"]],\"type\":\"histogram2d\"}],\"histogram2dcontour\":[{\"colorbar\":{\"outlinewidth\":0,\"ticks\":\"\"},\"colorscale\":[[0.0,\"#0d0887\"],[0.1111111111111111,\"#46039f\"],[0.2222222222222222,\"#7201a8\"],[0.3333333333333333,\"#9c179e\"],[0.4444444444444444,\"#bd3786\"],[0.5555555555555556,\"#d8576b\"],[0.6666666666666666,\"#ed7953\"],[0.7777777777777778,\"#fb9f3a\"],[0.8888888888888888,\"#fdca26\"],[1.0,\"#f0f921\"]],\"type\":\"histogram2dcontour\"}],\"mesh3d\":[{\"colorbar\":{\"outlinewidth\":0,\"ticks\":\"\"},\"type\":\"mesh3d\"}],\"parcoords\":[{\"line\":{\"colorbar\":{\"outlinewidth\":0,\"ticks\":\"\"}},\"type\":\"parcoords\"}],\"pie\":[{\"automargin\":true,\"type\":\"pie\"}],\"scatter\":[{\"marker\":{\"colorbar\":{\"outlinewidth\":0,\"ticks\":\"\"}},\"type\":\"scatter\"}],\"scatter3d\":[{\"line\":{\"colorbar\":{\"outlinewidth\":0,\"ticks\":\"\"}},\"marker\":{\"colorbar\":{\"outlinewidth\":0,\"ticks\":\"\"}},\"type\":\"scatter3d\"}],\"scattercarpet\":[{\"marker\":{\"colorbar\":{\"outlinewidth\":0,\"ticks\":\"\"}},\"type\":\"scattercarpet\"}],\"scattergeo\":[{\"marker\":{\"colorbar\":{\"outlinewidth\":0,\"ticks\":\"\"}},\"type\":\"scattergeo\"}],\"scattergl\":[{\"marker\":{\"colorbar\":{\"outlinewidth\":0,\"ticks\":\"\"}},\"type\":\"scattergl\"}],\"scattermapbox\":[{\"marker\":{\"colorbar\":{\"outlinewidth\":0,\"ticks\":\"\"}},\"type\":\"scattermapbox\"}],\"scatterpolar\":[{\"marker\":{\"colorbar\":{\"outlinewidth\":0,\"ticks\":\"\"}},\"type\":\"scatterpolar\"}],\"scatterpolargl\":[{\"marker\":{\"colorbar\":{\"outlinewidth\":0,\"ticks\":\"\"}},\"type\":\"scatterpolargl\"}],\"scatterternary\":[{\"marker\":{\"colorbar\":{\"outlinewidth\":0,\"ticks\":\"\"}},\"type\":\"scatterternary\"}],\"surface\":[{\"colorbar\":{\"outlinewidth\":0,\"ticks\":\"\"},\"colorscale\":[[0.0,\"#0d0887\"],[0.1111111111111111,\"#46039f\"],[0.2222222222222222,\"#7201a8\"],[0.3333333333333333,\"#9c179e\"],[0.4444444444444444,\"#bd3786\"],[0.5555555555555556,\"#d8576b\"],[0.6666666666666666,\"#ed7953\"],[0.7777777777777778,\"#fb9f3a\"],[0.8888888888888888,\"#fdca26\"],[1.0,\"#f0f921\"]],\"type\":\"surface\"}],\"table\":[{\"cells\":{\"fill\":{\"color\":\"#EBF0F8\"},\"line\":{\"color\":\"white\"}},\"header\":{\"fill\":{\"color\":\"#C8D4E3\"},\"line\":{\"color\":\"white\"}},\"type\":\"table\"}]},\"layout\":{\"annotationdefaults\":{\"arrowcolor\":\"#2a3f5f\",\"arrowhead\":0,\"arrowwidth\":1},\"autotypenumbers\":\"strict\",\"coloraxis\":{\"colorbar\":{\"outlinewidth\":0,\"ticks\":\"\"}},\"colorscale\":{\"diverging\":[[0,\"#8e0152\"],[0.1,\"#c51b7d\"],[0.2,\"#de77ae\"],[0.3,\"#f1b6da\"],[0.4,\"#fde0ef\"],[0.5,\"#f7f7f7\"],[0.6,\"#e6f5d0\"],[0.7,\"#b8e186\"],[0.8,\"#7fbc41\"],[0.9,\"#4d9221\"],[1,\"#276419\"]],\"sequential\":[[0.0,\"#0d0887\"],[0.1111111111111111,\"#46039f\"],[0.2222222222222222,\"#7201a8\"],[0.3333333333333333,\"#9c179e\"],[0.4444444444444444,\"#bd3786\"],[0.5555555555555556,\"#d8576b\"],[0.6666666666666666,\"#ed7953\"],[0.7777777777777778,\"#fb9f3a\"],[0.8888888888888888,\"#fdca26\"],[1.0,\"#f0f921\"]],\"sequentialminus\":[[0.0,\"#0d0887\"],[0.1111111111111111,\"#46039f\"],[0.2222222222222222,\"#7201a8\"],[0.3333333333333333,\"#9c179e\"],[0.4444444444444444,\"#bd3786\"],[0.5555555555555556,\"#d8576b\"],[0.6666666666666666,\"#ed7953\"],[0.7777777777777778,\"#fb9f3a\"],[0.8888888888888888,\"#fdca26\"],[1.0,\"#f0f921\"]]},\"colorway\":[\"#636efa\",\"#EF553B\",\"#00cc96\",\"#ab63fa\",\"#FFA15A\",\"#19d3f3\",\"#FF6692\",\"#B6E880\",\"#FF97FF\",\"#FECB52\"],\"font\":{\"color\":\"#2a3f5f\"},\"geo\":{\"bgcolor\":\"white\",\"lakecolor\":\"white\",\"landcolor\":\"#E5ECF6\",\"showlakes\":true,\"showland\":true,\"subunitcolor\":\"white\"},\"hoverlabel\":{\"align\":\"left\"},\"hovermode\":\"closest\",\"mapbox\":{\"style\":\"light\"},\"paper_bgcolor\":\"white\",\"plot_bgcolor\":\"#E5ECF6\",\"polar\":{\"angularaxis\":{\"gridcolor\":\"white\",\"linecolor\":\"white\",\"ticks\":\"\"},\"bgcolor\":\"#E5ECF6\",\"radialaxis\":{\"gridcolor\":\"white\",\"linecolor\":\"white\",\"ticks\":\"\"}},\"scene\":{\"xaxis\":{\"backgroundcolor\":\"#E5ECF6\",\"gridcolor\":\"white\",\"gridwidth\":2,\"linecolor\":\"white\",\"showbackground\":true,\"ticks\":\"\",\"zerolinecolor\":\"white\"},\"yaxis\":{\"backgroundcolor\":\"#E5ECF6\",\"gridcolor\":\"white\",\"gridwidth\":2,\"linecolor\":\"white\",\"showbackground\":true,\"ticks\":\"\",\"zerolinecolor\":\"white\"},\"zaxis\":{\"backgroundcolor\":\"#E5ECF6\",\"gridcolor\":\"white\",\"gridwidth\":2,\"linecolor\":\"white\",\"showbackground\":true,\"ticks\":\"\",\"zerolinecolor\":\"white\"}},\"shapedefaults\":{\"line\":{\"color\":\"#2a3f5f\"}},\"ternary\":{\"aaxis\":{\"gridcolor\":\"white\",\"linecolor\":\"white\",\"ticks\":\"\"},\"baxis\":{\"gridcolor\":\"white\",\"linecolor\":\"white\",\"ticks\":\"\"},\"bgcolor\":\"#E5ECF6\",\"caxis\":{\"gridcolor\":\"white\",\"linecolor\":\"white\",\"ticks\":\"\"}},\"title\":{\"x\":0.05},\"xaxis\":{\"automargin\":true,\"gridcolor\":\"white\",\"linecolor\":\"white\",\"ticks\":\"\",\"title\":{\"standoff\":15},\"zerolinecolor\":\"white\",\"zerolinewidth\":2},\"yaxis\":{\"automargin\":true,\"gridcolor\":\"white\",\"linecolor\":\"white\",\"ticks\":\"\",\"title\":{\"standoff\":15},\"zerolinecolor\":\"white\",\"zerolinewidth\":2}}},\"title\":{\"text\":\"RECOVD VS DIED \"}},                        {\"responsive\": true}                    ).then(function(){\n",
       "                            \n",
       "var gd = document.getElementById('5e66a298-db01-4b9b-9da7-74bc7d70c33b');\n",
       "var x = new MutationObserver(function (mutations, observer) {{\n",
       "        var display = window.getComputedStyle(gd).display;\n",
       "        if (!display || display === 'none') {{\n",
       "            console.log([gd, 'removed!']);\n",
       "            Plotly.purge(gd);\n",
       "            observer.disconnect();\n",
       "        }}\n",
       "}});\n",
       "\n",
       "// Listen for the removal of the full notebook cells\n",
       "var notebookContainer = gd.closest('#notebook-container');\n",
       "if (notebookContainer) {{\n",
       "    x.observe(notebookContainer, {childList: true});\n",
       "}}\n",
       "\n",
       "// Listen for the clearing of the current output cell\n",
       "var outputEl = gd.closest('.output');\n",
       "if (outputEl) {{\n",
       "    x.observe(outputEl, {childList: true});\n",
       "}}\n",
       "\n",
       "                        })                };                });            </script>        </div>"
      ]
     },
     "metadata": {},
     "output_type": "display_data"
    },
    {
     "data": {
      "application/vnd.plotly.v1+json": {
       "config": {
        "linkText": "Export to plot.ly",
        "plotlyServerURL": "https://plot.ly",
        "showLink": false
       },
       "data": [
        {
         "domain": {
          "x": [
           0,
           0.48
          ]
         },
         "hole": 0.6,
         "hoverinfo": "label+percent+name",
         "labels": [
          "Senior Citizen",
          "Very Senior Citizen",
          "Senior Adult",
          "Young Adult",
          "Child"
         ],
         "marker": {
          "line": {
           "color": "rgb(243,243,243)",
           "width": 2
          }
         },
         "name": "Died",
         "type": "pie",
         "values": [
          3354,
          2811,
          922,
          449,
          29
         ]
        },
        {
         "domain": {
          "x": [
           0.52,
           1
          ]
         },
         "hole": 0.6,
         "hoverinfo": "label+percent+name",
         "labels": [
          "Young Adult",
          "Senior Adult",
          "Senior Citizen",
          "Very Senior Citizen",
          "Child"
         ],
         "marker": {
          "line": {
           "color": "rgb(243,243,243)",
           "width": 2
          }
         },
         "name": "Non died",
         "type": "pie",
         "values": [
          183171,
          125988,
          123100,
          18732,
          11848
         ]
        }
       ],
       "layout": {
        "annotations": [
         {
          "font": {
           "size": 13
          },
          "showarrow": false,
          "text": "After vaccination died",
          "x": 0.15,
          "y": 0.5
         },
         {
          "font": {
           "size": 13
          },
          "showarrow": false,
          "text": "After vaccination not died",
          "x": 0.88,
          "y": 0.5
         }
        ],
        "paper_bgcolor": "rgb(243,243,243)",
        "plot_bgcolor": "rgb(243,243,243)",
        "template": {
         "data": {
          "bar": [
           {
            "error_x": {
             "color": "#2a3f5f"
            },
            "error_y": {
             "color": "#2a3f5f"
            },
            "marker": {
             "line": {
              "color": "#E5ECF6",
              "width": 0.5
             },
             "pattern": {
              "fillmode": "overlay",
              "size": 10,
              "solidity": 0.2
             }
            },
            "type": "bar"
           }
          ],
          "barpolar": [
           {
            "marker": {
             "line": {
              "color": "#E5ECF6",
              "width": 0.5
             },
             "pattern": {
              "fillmode": "overlay",
              "size": 10,
              "solidity": 0.2
             }
            },
            "type": "barpolar"
           }
          ],
          "carpet": [
           {
            "aaxis": {
             "endlinecolor": "#2a3f5f",
             "gridcolor": "white",
             "linecolor": "white",
             "minorgridcolor": "white",
             "startlinecolor": "#2a3f5f"
            },
            "baxis": {
             "endlinecolor": "#2a3f5f",
             "gridcolor": "white",
             "linecolor": "white",
             "minorgridcolor": "white",
             "startlinecolor": "#2a3f5f"
            },
            "type": "carpet"
           }
          ],
          "choropleth": [
           {
            "colorbar": {
             "outlinewidth": 0,
             "ticks": ""
            },
            "type": "choropleth"
           }
          ],
          "contour": [
           {
            "colorbar": {
             "outlinewidth": 0,
             "ticks": ""
            },
            "colorscale": [
             [
              0,
              "#0d0887"
             ],
             [
              0.1111111111111111,
              "#46039f"
             ],
             [
              0.2222222222222222,
              "#7201a8"
             ],
             [
              0.3333333333333333,
              "#9c179e"
             ],
             [
              0.4444444444444444,
              "#bd3786"
             ],
             [
              0.5555555555555556,
              "#d8576b"
             ],
             [
              0.6666666666666666,
              "#ed7953"
             ],
             [
              0.7777777777777778,
              "#fb9f3a"
             ],
             [
              0.8888888888888888,
              "#fdca26"
             ],
             [
              1,
              "#f0f921"
             ]
            ],
            "type": "contour"
           }
          ],
          "contourcarpet": [
           {
            "colorbar": {
             "outlinewidth": 0,
             "ticks": ""
            },
            "type": "contourcarpet"
           }
          ],
          "heatmap": [
           {
            "colorbar": {
             "outlinewidth": 0,
             "ticks": ""
            },
            "colorscale": [
             [
              0,
              "#0d0887"
             ],
             [
              0.1111111111111111,
              "#46039f"
             ],
             [
              0.2222222222222222,
              "#7201a8"
             ],
             [
              0.3333333333333333,
              "#9c179e"
             ],
             [
              0.4444444444444444,
              "#bd3786"
             ],
             [
              0.5555555555555556,
              "#d8576b"
             ],
             [
              0.6666666666666666,
              "#ed7953"
             ],
             [
              0.7777777777777778,
              "#fb9f3a"
             ],
             [
              0.8888888888888888,
              "#fdca26"
             ],
             [
              1,
              "#f0f921"
             ]
            ],
            "type": "heatmap"
           }
          ],
          "heatmapgl": [
           {
            "colorbar": {
             "outlinewidth": 0,
             "ticks": ""
            },
            "colorscale": [
             [
              0,
              "#0d0887"
             ],
             [
              0.1111111111111111,
              "#46039f"
             ],
             [
              0.2222222222222222,
              "#7201a8"
             ],
             [
              0.3333333333333333,
              "#9c179e"
             ],
             [
              0.4444444444444444,
              "#bd3786"
             ],
             [
              0.5555555555555556,
              "#d8576b"
             ],
             [
              0.6666666666666666,
              "#ed7953"
             ],
             [
              0.7777777777777778,
              "#fb9f3a"
             ],
             [
              0.8888888888888888,
              "#fdca26"
             ],
             [
              1,
              "#f0f921"
             ]
            ],
            "type": "heatmapgl"
           }
          ],
          "histogram": [
           {
            "marker": {
             "pattern": {
              "fillmode": "overlay",
              "size": 10,
              "solidity": 0.2
             }
            },
            "type": "histogram"
           }
          ],
          "histogram2d": [
           {
            "colorbar": {
             "outlinewidth": 0,
             "ticks": ""
            },
            "colorscale": [
             [
              0,
              "#0d0887"
             ],
             [
              0.1111111111111111,
              "#46039f"
             ],
             [
              0.2222222222222222,
              "#7201a8"
             ],
             [
              0.3333333333333333,
              "#9c179e"
             ],
             [
              0.4444444444444444,
              "#bd3786"
             ],
             [
              0.5555555555555556,
              "#d8576b"
             ],
             [
              0.6666666666666666,
              "#ed7953"
             ],
             [
              0.7777777777777778,
              "#fb9f3a"
             ],
             [
              0.8888888888888888,
              "#fdca26"
             ],
             [
              1,
              "#f0f921"
             ]
            ],
            "type": "histogram2d"
           }
          ],
          "histogram2dcontour": [
           {
            "colorbar": {
             "outlinewidth": 0,
             "ticks": ""
            },
            "colorscale": [
             [
              0,
              "#0d0887"
             ],
             [
              0.1111111111111111,
              "#46039f"
             ],
             [
              0.2222222222222222,
              "#7201a8"
             ],
             [
              0.3333333333333333,
              "#9c179e"
             ],
             [
              0.4444444444444444,
              "#bd3786"
             ],
             [
              0.5555555555555556,
              "#d8576b"
             ],
             [
              0.6666666666666666,
              "#ed7953"
             ],
             [
              0.7777777777777778,
              "#fb9f3a"
             ],
             [
              0.8888888888888888,
              "#fdca26"
             ],
             [
              1,
              "#f0f921"
             ]
            ],
            "type": "histogram2dcontour"
           }
          ],
          "mesh3d": [
           {
            "colorbar": {
             "outlinewidth": 0,
             "ticks": ""
            },
            "type": "mesh3d"
           }
          ],
          "parcoords": [
           {
            "line": {
             "colorbar": {
              "outlinewidth": 0,
              "ticks": ""
             }
            },
            "type": "parcoords"
           }
          ],
          "pie": [
           {
            "automargin": true,
            "type": "pie"
           }
          ],
          "scatter": [
           {
            "marker": {
             "colorbar": {
              "outlinewidth": 0,
              "ticks": ""
             }
            },
            "type": "scatter"
           }
          ],
          "scatter3d": [
           {
            "line": {
             "colorbar": {
              "outlinewidth": 0,
              "ticks": ""
             }
            },
            "marker": {
             "colorbar": {
              "outlinewidth": 0,
              "ticks": ""
             }
            },
            "type": "scatter3d"
           }
          ],
          "scattercarpet": [
           {
            "marker": {
             "colorbar": {
              "outlinewidth": 0,
              "ticks": ""
             }
            },
            "type": "scattercarpet"
           }
          ],
          "scattergeo": [
           {
            "marker": {
             "colorbar": {
              "outlinewidth": 0,
              "ticks": ""
             }
            },
            "type": "scattergeo"
           }
          ],
          "scattergl": [
           {
            "marker": {
             "colorbar": {
              "outlinewidth": 0,
              "ticks": ""
             }
            },
            "type": "scattergl"
           }
          ],
          "scattermapbox": [
           {
            "marker": {
             "colorbar": {
              "outlinewidth": 0,
              "ticks": ""
             }
            },
            "type": "scattermapbox"
           }
          ],
          "scatterpolar": [
           {
            "marker": {
             "colorbar": {
              "outlinewidth": 0,
              "ticks": ""
             }
            },
            "type": "scatterpolar"
           }
          ],
          "scatterpolargl": [
           {
            "marker": {
             "colorbar": {
              "outlinewidth": 0,
              "ticks": ""
             }
            },
            "type": "scatterpolargl"
           }
          ],
          "scatterternary": [
           {
            "marker": {
             "colorbar": {
              "outlinewidth": 0,
              "ticks": ""
             }
            },
            "type": "scatterternary"
           }
          ],
          "surface": [
           {
            "colorbar": {
             "outlinewidth": 0,
             "ticks": ""
            },
            "colorscale": [
             [
              0,
              "#0d0887"
             ],
             [
              0.1111111111111111,
              "#46039f"
             ],
             [
              0.2222222222222222,
              "#7201a8"
             ],
             [
              0.3333333333333333,
              "#9c179e"
             ],
             [
              0.4444444444444444,
              "#bd3786"
             ],
             [
              0.5555555555555556,
              "#d8576b"
             ],
             [
              0.6666666666666666,
              "#ed7953"
             ],
             [
              0.7777777777777778,
              "#fb9f3a"
             ],
             [
              0.8888888888888888,
              "#fdca26"
             ],
             [
              1,
              "#f0f921"
             ]
            ],
            "type": "surface"
           }
          ],
          "table": [
           {
            "cells": {
             "fill": {
              "color": "#EBF0F8"
             },
             "line": {
              "color": "white"
             }
            },
            "header": {
             "fill": {
              "color": "#C8D4E3"
             },
             "line": {
              "color": "white"
             }
            },
            "type": "table"
           }
          ]
         },
         "layout": {
          "annotationdefaults": {
           "arrowcolor": "#2a3f5f",
           "arrowhead": 0,
           "arrowwidth": 1
          },
          "autotypenumbers": "strict",
          "coloraxis": {
           "colorbar": {
            "outlinewidth": 0,
            "ticks": ""
           }
          },
          "colorscale": {
           "diverging": [
            [
             0,
             "#8e0152"
            ],
            [
             0.1,
             "#c51b7d"
            ],
            [
             0.2,
             "#de77ae"
            ],
            [
             0.3,
             "#f1b6da"
            ],
            [
             0.4,
             "#fde0ef"
            ],
            [
             0.5,
             "#f7f7f7"
            ],
            [
             0.6,
             "#e6f5d0"
            ],
            [
             0.7,
             "#b8e186"
            ],
            [
             0.8,
             "#7fbc41"
            ],
            [
             0.9,
             "#4d9221"
            ],
            [
             1,
             "#276419"
            ]
           ],
           "sequential": [
            [
             0,
             "#0d0887"
            ],
            [
             0.1111111111111111,
             "#46039f"
            ],
            [
             0.2222222222222222,
             "#7201a8"
            ],
            [
             0.3333333333333333,
             "#9c179e"
            ],
            [
             0.4444444444444444,
             "#bd3786"
            ],
            [
             0.5555555555555556,
             "#d8576b"
            ],
            [
             0.6666666666666666,
             "#ed7953"
            ],
            [
             0.7777777777777778,
             "#fb9f3a"
            ],
            [
             0.8888888888888888,
             "#fdca26"
            ],
            [
             1,
             "#f0f921"
            ]
           ],
           "sequentialminus": [
            [
             0,
             "#0d0887"
            ],
            [
             0.1111111111111111,
             "#46039f"
            ],
            [
             0.2222222222222222,
             "#7201a8"
            ],
            [
             0.3333333333333333,
             "#9c179e"
            ],
            [
             0.4444444444444444,
             "#bd3786"
            ],
            [
             0.5555555555555556,
             "#d8576b"
            ],
            [
             0.6666666666666666,
             "#ed7953"
            ],
            [
             0.7777777777777778,
             "#fb9f3a"
            ],
            [
             0.8888888888888888,
             "#fdca26"
            ],
            [
             1,
             "#f0f921"
            ]
           ]
          },
          "colorway": [
           "#636efa",
           "#EF553B",
           "#00cc96",
           "#ab63fa",
           "#FFA15A",
           "#19d3f3",
           "#FF6692",
           "#B6E880",
           "#FF97FF",
           "#FECB52"
          ],
          "font": {
           "color": "#2a3f5f"
          },
          "geo": {
           "bgcolor": "white",
           "lakecolor": "white",
           "landcolor": "#E5ECF6",
           "showlakes": true,
           "showland": true,
           "subunitcolor": "white"
          },
          "hoverlabel": {
           "align": "left"
          },
          "hovermode": "closest",
          "mapbox": {
           "style": "light"
          },
          "paper_bgcolor": "white",
          "plot_bgcolor": "#E5ECF6",
          "polar": {
           "angularaxis": {
            "gridcolor": "white",
            "linecolor": "white",
            "ticks": ""
           },
           "bgcolor": "#E5ECF6",
           "radialaxis": {
            "gridcolor": "white",
            "linecolor": "white",
            "ticks": ""
           }
          },
          "scene": {
           "xaxis": {
            "backgroundcolor": "#E5ECF6",
            "gridcolor": "white",
            "gridwidth": 2,
            "linecolor": "white",
            "showbackground": true,
            "ticks": "",
            "zerolinecolor": "white"
           },
           "yaxis": {
            "backgroundcolor": "#E5ECF6",
            "gridcolor": "white",
            "gridwidth": 2,
            "linecolor": "white",
            "showbackground": true,
            "ticks": "",
            "zerolinecolor": "white"
           },
           "zaxis": {
            "backgroundcolor": "#E5ECF6",
            "gridcolor": "white",
            "gridwidth": 2,
            "linecolor": "white",
            "showbackground": true,
            "ticks": "",
            "zerolinecolor": "white"
           }
          },
          "shapedefaults": {
           "line": {
            "color": "#2a3f5f"
           }
          },
          "ternary": {
           "aaxis": {
            "gridcolor": "white",
            "linecolor": "white",
            "ticks": ""
           },
           "baxis": {
            "gridcolor": "white",
            "linecolor": "white",
            "ticks": ""
           },
           "bgcolor": "#E5ECF6",
           "caxis": {
            "gridcolor": "white",
            "linecolor": "white",
            "ticks": ""
           }
          },
          "title": {
           "x": 0.05
          },
          "xaxis": {
           "automargin": true,
           "gridcolor": "white",
           "linecolor": "white",
           "ticks": "",
           "title": {
            "standoff": 15
           },
           "zerolinecolor": "white",
           "zerolinewidth": 2
          },
          "yaxis": {
           "automargin": true,
           "gridcolor": "white",
           "linecolor": "white",
           "ticks": "",
           "title": {
            "standoff": 15
           },
           "zerolinecolor": "white",
           "zerolinewidth": 2
          }
         }
        },
        "title": {
         "text": "age_group VS DIED "
        }
       }
      },
      "text/html": [
       "<div>                            <div id=\"6af5f7f2-dd16-46c2-815e-b67778be8ba3\" class=\"plotly-graph-div\" style=\"height:525px; width:100%;\"></div>            <script type=\"text/javascript\">                require([\"plotly\"], function(Plotly) {                    window.PLOTLYENV=window.PLOTLYENV || {};                                    if (document.getElementById(\"6af5f7f2-dd16-46c2-815e-b67778be8ba3\")) {                    Plotly.newPlot(                        \"6af5f7f2-dd16-46c2-815e-b67778be8ba3\",                        [{\"domain\":{\"x\":[0,0.48]},\"hole\":0.6,\"hoverinfo\":\"label+percent+name\",\"labels\":[\"Senior Citizen\",\"Very Senior Citizen\",\"Senior Adult\",\"Young Adult\",\"Child\"],\"marker\":{\"line\":{\"color\":\"rgb(243,243,243)\",\"width\":2}},\"name\":\"Died\",\"type\":\"pie\",\"values\":[3354,2811,922,449,29]},{\"domain\":{\"x\":[0.52,1]},\"hole\":0.6,\"hoverinfo\":\"label+percent+name\",\"labels\":[\"Young Adult\",\"Senior Adult\",\"Senior Citizen\",\"Very Senior Citizen\",\"Child\"],\"marker\":{\"line\":{\"color\":\"rgb(243,243,243)\",\"width\":2}},\"name\":\"Non died\",\"type\":\"pie\",\"values\":[183171,125988,123100,18732,11848]}],                        {\"annotations\":[{\"font\":{\"size\":13},\"showarrow\":false,\"text\":\"After vaccination died\",\"x\":0.15,\"y\":0.5},{\"font\":{\"size\":13},\"showarrow\":false,\"text\":\"After vaccination not died\",\"x\":0.88,\"y\":0.5}],\"paper_bgcolor\":\"rgb(243,243,243)\",\"plot_bgcolor\":\"rgb(243,243,243)\",\"template\":{\"data\":{\"bar\":[{\"error_x\":{\"color\":\"#2a3f5f\"},\"error_y\":{\"color\":\"#2a3f5f\"},\"marker\":{\"line\":{\"color\":\"#E5ECF6\",\"width\":0.5},\"pattern\":{\"fillmode\":\"overlay\",\"size\":10,\"solidity\":0.2}},\"type\":\"bar\"}],\"barpolar\":[{\"marker\":{\"line\":{\"color\":\"#E5ECF6\",\"width\":0.5},\"pattern\":{\"fillmode\":\"overlay\",\"size\":10,\"solidity\":0.2}},\"type\":\"barpolar\"}],\"carpet\":[{\"aaxis\":{\"endlinecolor\":\"#2a3f5f\",\"gridcolor\":\"white\",\"linecolor\":\"white\",\"minorgridcolor\":\"white\",\"startlinecolor\":\"#2a3f5f\"},\"baxis\":{\"endlinecolor\":\"#2a3f5f\",\"gridcolor\":\"white\",\"linecolor\":\"white\",\"minorgridcolor\":\"white\",\"startlinecolor\":\"#2a3f5f\"},\"type\":\"carpet\"}],\"choropleth\":[{\"colorbar\":{\"outlinewidth\":0,\"ticks\":\"\"},\"type\":\"choropleth\"}],\"contour\":[{\"colorbar\":{\"outlinewidth\":0,\"ticks\":\"\"},\"colorscale\":[[0.0,\"#0d0887\"],[0.1111111111111111,\"#46039f\"],[0.2222222222222222,\"#7201a8\"],[0.3333333333333333,\"#9c179e\"],[0.4444444444444444,\"#bd3786\"],[0.5555555555555556,\"#d8576b\"],[0.6666666666666666,\"#ed7953\"],[0.7777777777777778,\"#fb9f3a\"],[0.8888888888888888,\"#fdca26\"],[1.0,\"#f0f921\"]],\"type\":\"contour\"}],\"contourcarpet\":[{\"colorbar\":{\"outlinewidth\":0,\"ticks\":\"\"},\"type\":\"contourcarpet\"}],\"heatmap\":[{\"colorbar\":{\"outlinewidth\":0,\"ticks\":\"\"},\"colorscale\":[[0.0,\"#0d0887\"],[0.1111111111111111,\"#46039f\"],[0.2222222222222222,\"#7201a8\"],[0.3333333333333333,\"#9c179e\"],[0.4444444444444444,\"#bd3786\"],[0.5555555555555556,\"#d8576b\"],[0.6666666666666666,\"#ed7953\"],[0.7777777777777778,\"#fb9f3a\"],[0.8888888888888888,\"#fdca26\"],[1.0,\"#f0f921\"]],\"type\":\"heatmap\"}],\"heatmapgl\":[{\"colorbar\":{\"outlinewidth\":0,\"ticks\":\"\"},\"colorscale\":[[0.0,\"#0d0887\"],[0.1111111111111111,\"#46039f\"],[0.2222222222222222,\"#7201a8\"],[0.3333333333333333,\"#9c179e\"],[0.4444444444444444,\"#bd3786\"],[0.5555555555555556,\"#d8576b\"],[0.6666666666666666,\"#ed7953\"],[0.7777777777777778,\"#fb9f3a\"],[0.8888888888888888,\"#fdca26\"],[1.0,\"#f0f921\"]],\"type\":\"heatmapgl\"}],\"histogram\":[{\"marker\":{\"pattern\":{\"fillmode\":\"overlay\",\"size\":10,\"solidity\":0.2}},\"type\":\"histogram\"}],\"histogram2d\":[{\"colorbar\":{\"outlinewidth\":0,\"ticks\":\"\"},\"colorscale\":[[0.0,\"#0d0887\"],[0.1111111111111111,\"#46039f\"],[0.2222222222222222,\"#7201a8\"],[0.3333333333333333,\"#9c179e\"],[0.4444444444444444,\"#bd3786\"],[0.5555555555555556,\"#d8576b\"],[0.6666666666666666,\"#ed7953\"],[0.7777777777777778,\"#fb9f3a\"],[0.8888888888888888,\"#fdca26\"],[1.0,\"#f0f921\"]],\"type\":\"histogram2d\"}],\"histogram2dcontour\":[{\"colorbar\":{\"outlinewidth\":0,\"ticks\":\"\"},\"colorscale\":[[0.0,\"#0d0887\"],[0.1111111111111111,\"#46039f\"],[0.2222222222222222,\"#7201a8\"],[0.3333333333333333,\"#9c179e\"],[0.4444444444444444,\"#bd3786\"],[0.5555555555555556,\"#d8576b\"],[0.6666666666666666,\"#ed7953\"],[0.7777777777777778,\"#fb9f3a\"],[0.8888888888888888,\"#fdca26\"],[1.0,\"#f0f921\"]],\"type\":\"histogram2dcontour\"}],\"mesh3d\":[{\"colorbar\":{\"outlinewidth\":0,\"ticks\":\"\"},\"type\":\"mesh3d\"}],\"parcoords\":[{\"line\":{\"colorbar\":{\"outlinewidth\":0,\"ticks\":\"\"}},\"type\":\"parcoords\"}],\"pie\":[{\"automargin\":true,\"type\":\"pie\"}],\"scatter\":[{\"marker\":{\"colorbar\":{\"outlinewidth\":0,\"ticks\":\"\"}},\"type\":\"scatter\"}],\"scatter3d\":[{\"line\":{\"colorbar\":{\"outlinewidth\":0,\"ticks\":\"\"}},\"marker\":{\"colorbar\":{\"outlinewidth\":0,\"ticks\":\"\"}},\"type\":\"scatter3d\"}],\"scattercarpet\":[{\"marker\":{\"colorbar\":{\"outlinewidth\":0,\"ticks\":\"\"}},\"type\":\"scattercarpet\"}],\"scattergeo\":[{\"marker\":{\"colorbar\":{\"outlinewidth\":0,\"ticks\":\"\"}},\"type\":\"scattergeo\"}],\"scattergl\":[{\"marker\":{\"colorbar\":{\"outlinewidth\":0,\"ticks\":\"\"}},\"type\":\"scattergl\"}],\"scattermapbox\":[{\"marker\":{\"colorbar\":{\"outlinewidth\":0,\"ticks\":\"\"}},\"type\":\"scattermapbox\"}],\"scatterpolar\":[{\"marker\":{\"colorbar\":{\"outlinewidth\":0,\"ticks\":\"\"}},\"type\":\"scatterpolar\"}],\"scatterpolargl\":[{\"marker\":{\"colorbar\":{\"outlinewidth\":0,\"ticks\":\"\"}},\"type\":\"scatterpolargl\"}],\"scatterternary\":[{\"marker\":{\"colorbar\":{\"outlinewidth\":0,\"ticks\":\"\"}},\"type\":\"scatterternary\"}],\"surface\":[{\"colorbar\":{\"outlinewidth\":0,\"ticks\":\"\"},\"colorscale\":[[0.0,\"#0d0887\"],[0.1111111111111111,\"#46039f\"],[0.2222222222222222,\"#7201a8\"],[0.3333333333333333,\"#9c179e\"],[0.4444444444444444,\"#bd3786\"],[0.5555555555555556,\"#d8576b\"],[0.6666666666666666,\"#ed7953\"],[0.7777777777777778,\"#fb9f3a\"],[0.8888888888888888,\"#fdca26\"],[1.0,\"#f0f921\"]],\"type\":\"surface\"}],\"table\":[{\"cells\":{\"fill\":{\"color\":\"#EBF0F8\"},\"line\":{\"color\":\"white\"}},\"header\":{\"fill\":{\"color\":\"#C8D4E3\"},\"line\":{\"color\":\"white\"}},\"type\":\"table\"}]},\"layout\":{\"annotationdefaults\":{\"arrowcolor\":\"#2a3f5f\",\"arrowhead\":0,\"arrowwidth\":1},\"autotypenumbers\":\"strict\",\"coloraxis\":{\"colorbar\":{\"outlinewidth\":0,\"ticks\":\"\"}},\"colorscale\":{\"diverging\":[[0,\"#8e0152\"],[0.1,\"#c51b7d\"],[0.2,\"#de77ae\"],[0.3,\"#f1b6da\"],[0.4,\"#fde0ef\"],[0.5,\"#f7f7f7\"],[0.6,\"#e6f5d0\"],[0.7,\"#b8e186\"],[0.8,\"#7fbc41\"],[0.9,\"#4d9221\"],[1,\"#276419\"]],\"sequential\":[[0.0,\"#0d0887\"],[0.1111111111111111,\"#46039f\"],[0.2222222222222222,\"#7201a8\"],[0.3333333333333333,\"#9c179e\"],[0.4444444444444444,\"#bd3786\"],[0.5555555555555556,\"#d8576b\"],[0.6666666666666666,\"#ed7953\"],[0.7777777777777778,\"#fb9f3a\"],[0.8888888888888888,\"#fdca26\"],[1.0,\"#f0f921\"]],\"sequentialminus\":[[0.0,\"#0d0887\"],[0.1111111111111111,\"#46039f\"],[0.2222222222222222,\"#7201a8\"],[0.3333333333333333,\"#9c179e\"],[0.4444444444444444,\"#bd3786\"],[0.5555555555555556,\"#d8576b\"],[0.6666666666666666,\"#ed7953\"],[0.7777777777777778,\"#fb9f3a\"],[0.8888888888888888,\"#fdca26\"],[1.0,\"#f0f921\"]]},\"colorway\":[\"#636efa\",\"#EF553B\",\"#00cc96\",\"#ab63fa\",\"#FFA15A\",\"#19d3f3\",\"#FF6692\",\"#B6E880\",\"#FF97FF\",\"#FECB52\"],\"font\":{\"color\":\"#2a3f5f\"},\"geo\":{\"bgcolor\":\"white\",\"lakecolor\":\"white\",\"landcolor\":\"#E5ECF6\",\"showlakes\":true,\"showland\":true,\"subunitcolor\":\"white\"},\"hoverlabel\":{\"align\":\"left\"},\"hovermode\":\"closest\",\"mapbox\":{\"style\":\"light\"},\"paper_bgcolor\":\"white\",\"plot_bgcolor\":\"#E5ECF6\",\"polar\":{\"angularaxis\":{\"gridcolor\":\"white\",\"linecolor\":\"white\",\"ticks\":\"\"},\"bgcolor\":\"#E5ECF6\",\"radialaxis\":{\"gridcolor\":\"white\",\"linecolor\":\"white\",\"ticks\":\"\"}},\"scene\":{\"xaxis\":{\"backgroundcolor\":\"#E5ECF6\",\"gridcolor\":\"white\",\"gridwidth\":2,\"linecolor\":\"white\",\"showbackground\":true,\"ticks\":\"\",\"zerolinecolor\":\"white\"},\"yaxis\":{\"backgroundcolor\":\"#E5ECF6\",\"gridcolor\":\"white\",\"gridwidth\":2,\"linecolor\":\"white\",\"showbackground\":true,\"ticks\":\"\",\"zerolinecolor\":\"white\"},\"zaxis\":{\"backgroundcolor\":\"#E5ECF6\",\"gridcolor\":\"white\",\"gridwidth\":2,\"linecolor\":\"white\",\"showbackground\":true,\"ticks\":\"\",\"zerolinecolor\":\"white\"}},\"shapedefaults\":{\"line\":{\"color\":\"#2a3f5f\"}},\"ternary\":{\"aaxis\":{\"gridcolor\":\"white\",\"linecolor\":\"white\",\"ticks\":\"\"},\"baxis\":{\"gridcolor\":\"white\",\"linecolor\":\"white\",\"ticks\":\"\"},\"bgcolor\":\"#E5ECF6\",\"caxis\":{\"gridcolor\":\"white\",\"linecolor\":\"white\",\"ticks\":\"\"}},\"title\":{\"x\":0.05},\"xaxis\":{\"automargin\":true,\"gridcolor\":\"white\",\"linecolor\":\"white\",\"ticks\":\"\",\"title\":{\"standoff\":15},\"zerolinecolor\":\"white\",\"zerolinewidth\":2},\"yaxis\":{\"automargin\":true,\"gridcolor\":\"white\",\"linecolor\":\"white\",\"ticks\":\"\",\"title\":{\"standoff\":15},\"zerolinecolor\":\"white\",\"zerolinewidth\":2}}},\"title\":{\"text\":\"age_group VS DIED \"}},                        {\"responsive\": true}                    ).then(function(){\n",
       "                            \n",
       "var gd = document.getElementById('6af5f7f2-dd16-46c2-815e-b67778be8ba3');\n",
       "var x = new MutationObserver(function (mutations, observer) {{\n",
       "        var display = window.getComputedStyle(gd).display;\n",
       "        if (!display || display === 'none') {{\n",
       "            console.log([gd, 'removed!']);\n",
       "            Plotly.purge(gd);\n",
       "            observer.disconnect();\n",
       "        }}\n",
       "}});\n",
       "\n",
       "// Listen for the removal of the full notebook cells\n",
       "var notebookContainer = gd.closest('#notebook-container');\n",
       "if (notebookContainer) {{\n",
       "    x.observe(notebookContainer, {childList: true});\n",
       "}}\n",
       "\n",
       "// Listen for the clearing of the current output cell\n",
       "var outputEl = gd.closest('.output');\n",
       "if (outputEl) {{\n",
       "    x.observe(outputEl, {childList: true});\n",
       "}}\n",
       "\n",
       "                        })                };                });            </script>        </div>"
      ]
     },
     "metadata": {},
     "output_type": "display_data"
    }
   ],
   "source": [
    "for i in cat_cols :\n",
    "    plot_pie(i)"
   ]
  },
  {
   "cell_type": "code",
   "execution_count": 31,
   "id": "654683d9",
   "metadata": {},
   "outputs": [
    {
     "data": {
      "text/plain": [
       "(470404, 14)"
      ]
     },
     "execution_count": 31,
     "metadata": {},
     "output_type": "execute_result"
    }
   ],
   "source": [
    "#After drop the duplicate, check the info\n",
    "df.shape"
   ]
  },
  {
   "cell_type": "markdown",
   "id": "d55e48cc",
   "metadata": {},
   "source": [
    "After filter some row and column are useless, then transfor the age "
   ]
  },
  {
   "cell_type": "code",
   "execution_count": 32,
   "id": "5a7baebd",
   "metadata": {},
   "outputs": [
    {
     "data": {
      "text/plain": [
       "N    462839\n",
       "Y      7565\n",
       "Name: DIED, dtype: int64"
      ]
     },
     "execution_count": 32,
     "metadata": {},
     "output_type": "execute_result"
    }
   ],
   "source": [
    "df['DIED'].value_counts()"
   ]
  },
  {
   "cell_type": "markdown",
   "id": "8dbe3446",
   "metadata": {},
   "source": [
    "### Plot the top 10 most frequent symptom after vaccine\n",
    "\n",
    "The symptom pain, injection side, headache, pyrexia, and fatigue is top 5 frequent symptom. This 5 symptom will be transform to dummy variable, use for machine learning model part."
   ]
  },
  {
   "cell_type": "code",
   "execution_count": 33,
   "id": "93a0425f",
   "metadata": {},
   "outputs": [],
   "source": [
    "ndf=df"
   ]
  },
  {
   "cell_type": "code",
   "execution_count": 34,
   "id": "7d8428d8",
   "metadata": {},
   "outputs": [],
   "source": [
    "sym=[]\n",
    "for i in range(len(ndf)):\n",
    "    sym+=[ndf.iloc[i,0]]\n",
    "    sym+=[ndf.iloc[i,1]]   \n",
    "    sym+=[ndf.iloc[i,2]]\n",
    "    sym+=[ndf.iloc[i,3]]\n",
    "    sym+=[ndf.iloc[i,4]]\n",
    "nsym=(pd.DataFrame(sym).value_counts()[0:10])"
   ]
  },
  {
   "cell_type": "code",
   "execution_count": 35,
   "id": "cefbea43",
   "metadata": {},
   "outputs": [],
   "source": [
    "nsym=pd.DataFrame(nsym)\n",
    "nsym.index.names = ['Sympthom']\n",
    "nsym.columns=['Count']\n",
    "nsym=nsym.reset_index('Sympthom')\n"
   ]
  },
  {
   "cell_type": "code",
   "execution_count": 36,
   "id": "a59af1f3",
   "metadata": {},
   "outputs": [],
   "source": [
    "nsym_top=nsym.head(10)"
   ]
  },
  {
   "cell_type": "code",
   "execution_count": 37,
   "id": "f77691ad",
   "metadata": {},
   "outputs": [
    {
     "data": {
      "text/html": [
       "<div>\n",
       "<style scoped>\n",
       "    .dataframe tbody tr th:only-of-type {\n",
       "        vertical-align: middle;\n",
       "    }\n",
       "\n",
       "    .dataframe tbody tr th {\n",
       "        vertical-align: top;\n",
       "    }\n",
       "\n",
       "    .dataframe thead th {\n",
       "        text-align: right;\n",
       "    }\n",
       "</style>\n",
       "<table border=\"1\" class=\"dataframe\">\n",
       "  <thead>\n",
       "    <tr style=\"text-align: right;\">\n",
       "      <th></th>\n",
       "      <th>Sympthom</th>\n",
       "      <th>Count</th>\n",
       "    </tr>\n",
       "  </thead>\n",
       "  <tbody>\n",
       "    <tr>\n",
       "      <th>0</th>\n",
       "      <td>pain</td>\n",
       "      <td>140943</td>\n",
       "    </tr>\n",
       "    <tr>\n",
       "      <th>1</th>\n",
       "      <td>injection side</td>\n",
       "      <td>85140</td>\n",
       "    </tr>\n",
       "    <tr>\n",
       "      <th>2</th>\n",
       "      <td>headache</td>\n",
       "      <td>80004</td>\n",
       "    </tr>\n",
       "    <tr>\n",
       "      <th>3</th>\n",
       "      <td>pyrexia</td>\n",
       "      <td>70409</td>\n",
       "    </tr>\n",
       "    <tr>\n",
       "      <th>4</th>\n",
       "      <td>fatigue</td>\n",
       "      <td>61969</td>\n",
       "    </tr>\n",
       "    <tr>\n",
       "      <th>5</th>\n",
       "      <td>chills</td>\n",
       "      <td>61072</td>\n",
       "    </tr>\n",
       "    <tr>\n",
       "      <th>6</th>\n",
       "      <td>dizziness</td>\n",
       "      <td>53604</td>\n",
       "    </tr>\n",
       "    <tr>\n",
       "      <th>7</th>\n",
       "      <td>nausea</td>\n",
       "      <td>44713</td>\n",
       "    </tr>\n",
       "    <tr>\n",
       "      <th>8</th>\n",
       "      <td>breathing problem</td>\n",
       "      <td>42256</td>\n",
       "    </tr>\n",
       "    <tr>\n",
       "      <th>9</th>\n",
       "      <td>uncomfortable</td>\n",
       "      <td>36496</td>\n",
       "    </tr>\n",
       "  </tbody>\n",
       "</table>\n",
       "</div>"
      ],
      "text/plain": [
       "            Sympthom   Count\n",
       "0               pain  140943\n",
       "1     injection side   85140\n",
       "2           headache   80004\n",
       "3            pyrexia   70409\n",
       "4            fatigue   61969\n",
       "5             chills   61072\n",
       "6          dizziness   53604\n",
       "7             nausea   44713\n",
       "8  breathing problem   42256\n",
       "9      uncomfortable   36496"
      ]
     },
     "execution_count": 37,
     "metadata": {},
     "output_type": "execute_result"
    }
   ],
   "source": [
    "nsym"
   ]
  },
  {
   "cell_type": "code",
   "execution_count": 38,
   "id": "0e3de667",
   "metadata": {},
   "outputs": [
    {
     "data": {
      "text/plain": [
       "<AxesSubplot:xlabel='Sympthom'>"
      ]
     },
     "execution_count": 38,
     "metadata": {},
     "output_type": "execute_result"
    },
    {
     "data": {
      "image/png": "[encoded data removed]",
      "text/plain": [
       "<Figure size 720x360 with 1 Axes>"
      ]
     },
     "metadata": {
      "needs_background": "light"
     },
     "output_type": "display_data"
    }
   ],
   "source": [
    "nsym.plot(x=\"Sympthom\", y=[\"Count\"], kind=\"bar\",figsize=(10, 5),fontsize = 15)\n"
   ]
  },
  {
   "cell_type": "markdown",
   "id": "bc02c99d",
   "metadata": {},
   "source": [
    "### Plot the top 10 most frequent symptom after vaccine against vaccine manufacture\n",
    "\n",
    "The proportion of each top10 symptom against vaccine manufacture almost same with proportion of vaccine manufacture, except symptom injection side have large different."
   ]
  },
  {
   "cell_type": "code",
   "execution_count": 39,
   "id": "4cdecad2",
   "metadata": {},
   "outputs": [],
   "source": [
    "pfizer=ndf[ndf['VAX_MANU']=='PFIZER\\BIONTECH'].reset_index(drop=True)\n",
    "pfizers=[]\n",
    "for i in range(len(pfizer)):\n",
    "    pfizers+=[pfizer.iloc[i,0]]\n",
    "    pfizers+=[pfizer.iloc[i,1]]   \n",
    "    pfizers+=[pfizer.iloc[i,2]]\n",
    "    pfizers+=[pfizer.iloc[i,3]]\n",
    "    pfizers+=[pfizer.iloc[i,4]]\n",
    "pp=(pd.DataFrame(pfizers).value_counts()[0:20])\n",
    "\n",
    "moderna=ndf[ndf['VAX_MANU']=='MODERNA'].reset_index(drop=True)\n",
    "modernas=[]\n",
    "for i in range(len(moderna)):\n",
    "    modernas+=[moderna.iloc[i,0]]\n",
    "    modernas+=[moderna.iloc[i,1]]   \n",
    "    modernas+=[moderna.iloc[i,2]]\n",
    "    modernas+=[moderna.iloc[i,3]]\n",
    "    modernas+=[moderna.iloc[i,4]]\n",
    "mo=(pd.DataFrame(modernas).value_counts()[0:20])\n",
    "\n",
    "janssen=ndf[ndf['VAX_MANU']=='JANSSEN'].reset_index(drop=True)\n",
    "janssens=[]\n",
    "for i in range(len(janssen)):\n",
    "    janssens+=[janssen.iloc[i,0]]\n",
    "    janssens+=[janssen.iloc[i,1]]   \n",
    "    janssens+=[janssen.iloc[i,2]]\n",
    "    janssens+=[janssen.iloc[i,3]]\n",
    "    janssens+=[janssen.iloc[i,4]]\n",
    "ja=(pd.DataFrame(janssens).value_counts()[0:20])"
   ]
  },
  {
   "cell_type": "code",
   "execution_count": 40,
   "id": "c7b9abd8",
   "metadata": {},
   "outputs": [],
   "source": [
    "npp=pp\n",
    "nmo=mo\n",
    "nja=ja"
   ]
  },
  {
   "cell_type": "code",
   "execution_count": 41,
   "id": "b9eb4931",
   "metadata": {},
   "outputs": [
    {
     "data": {
      "text/plain": [
       "pain                 57753\n",
       "headache             33362\n",
       "pyrexia              28476\n",
       "fatigue              26528\n",
       "dizziness            25520\n",
       "chills               23291\n",
       "breathing problem    21310\n",
       "nausea               19120\n",
       "injection side       18488\n",
       "uncomfortable        17725\n",
       "rash                  8056\n",
       "covid-19              7423\n",
       "pruritus              7375\n",
       "tremor                7177\n",
       "asthenia              6961\n",
       "vomiting              6607\n",
       "hyperhidrosis         6562\n",
       "hypoaesthesia         6191\n",
       "diarrhoea             6128\n",
       "lymphadenopathy       5851\n",
       "dtype: int64"
      ]
     },
     "execution_count": 41,
     "metadata": {},
     "output_type": "execute_result"
    }
   ],
   "source": [
    "npp"
   ]
  },
  {
   "cell_type": "code",
   "execution_count": 42,
   "id": "add60e81",
   "metadata": {},
   "outputs": [],
   "source": [
    "pp=pd.DataFrame(pp)\n",
    "pp.index.names = ['Sympthom1']\n",
    "pp.columns=['Pfizer']\n",
    "pp=pp.reset_index('Sympthom1')\n",
    "\n",
    "mo=pd.DataFrame(mo)\n",
    "mo.index.names = ['Sympthom1']\n",
    "mo.columns=['Moderna']\n",
    "mo=mo.reset_index('Sympthom1')\n",
    "\n",
    "ja=pd.DataFrame(ja)\n",
    "ja.index.names = ['Sympthom1']\n",
    "ja.columns=['Janssen']\n",
    "ja=ja.reset_index('Sympthom1')"
   ]
  },
  {
   "cell_type": "code",
   "execution_count": 43,
   "id": "8d71be32",
   "metadata": {},
   "outputs": [
    {
     "data": {
      "text/html": [
       "<div>\n",
       "<style scoped>\n",
       "    .dataframe tbody tr th:only-of-type {\n",
       "        vertical-align: middle;\n",
       "    }\n",
       "\n",
       "    .dataframe tbody tr th {\n",
       "        vertical-align: top;\n",
       "    }\n",
       "\n",
       "    .dataframe thead th {\n",
       "        text-align: right;\n",
       "    }\n",
       "</style>\n",
       "<table border=\"1\" class=\"dataframe\">\n",
       "  <thead>\n",
       "    <tr style=\"text-align: right;\">\n",
       "      <th></th>\n",
       "      <th>Sympthom1</th>\n",
       "      <th>Pfizer</th>\n",
       "    </tr>\n",
       "  </thead>\n",
       "  <tbody>\n",
       "    <tr>\n",
       "      <th>0</th>\n",
       "      <td>pain</td>\n",
       "      <td>57753</td>\n",
       "    </tr>\n",
       "    <tr>\n",
       "      <th>1</th>\n",
       "      <td>headache</td>\n",
       "      <td>33362</td>\n",
       "    </tr>\n",
       "    <tr>\n",
       "      <th>2</th>\n",
       "      <td>pyrexia</td>\n",
       "      <td>28476</td>\n",
       "    </tr>\n",
       "    <tr>\n",
       "      <th>3</th>\n",
       "      <td>fatigue</td>\n",
       "      <td>26528</td>\n",
       "    </tr>\n",
       "    <tr>\n",
       "      <th>4</th>\n",
       "      <td>dizziness</td>\n",
       "      <td>25520</td>\n",
       "    </tr>\n",
       "    <tr>\n",
       "      <th>5</th>\n",
       "      <td>chills</td>\n",
       "      <td>23291</td>\n",
       "    </tr>\n",
       "    <tr>\n",
       "      <th>6</th>\n",
       "      <td>breathing problem</td>\n",
       "      <td>21310</td>\n",
       "    </tr>\n",
       "    <tr>\n",
       "      <th>7</th>\n",
       "      <td>nausea</td>\n",
       "      <td>19120</td>\n",
       "    </tr>\n",
       "    <tr>\n",
       "      <th>8</th>\n",
       "      <td>injection side</td>\n",
       "      <td>18488</td>\n",
       "    </tr>\n",
       "    <tr>\n",
       "      <th>9</th>\n",
       "      <td>uncomfortable</td>\n",
       "      <td>17725</td>\n",
       "    </tr>\n",
       "    <tr>\n",
       "      <th>10</th>\n",
       "      <td>rash</td>\n",
       "      <td>8056</td>\n",
       "    </tr>\n",
       "    <tr>\n",
       "      <th>11</th>\n",
       "      <td>covid-19</td>\n",
       "      <td>7423</td>\n",
       "    </tr>\n",
       "    <tr>\n",
       "      <th>12</th>\n",
       "      <td>pruritus</td>\n",
       "      <td>7375</td>\n",
       "    </tr>\n",
       "    <tr>\n",
       "      <th>13</th>\n",
       "      <td>tremor</td>\n",
       "      <td>7177</td>\n",
       "    </tr>\n",
       "    <tr>\n",
       "      <th>14</th>\n",
       "      <td>asthenia</td>\n",
       "      <td>6961</td>\n",
       "    </tr>\n",
       "    <tr>\n",
       "      <th>15</th>\n",
       "      <td>vomiting</td>\n",
       "      <td>6607</td>\n",
       "    </tr>\n",
       "    <tr>\n",
       "      <th>16</th>\n",
       "      <td>hyperhidrosis</td>\n",
       "      <td>6562</td>\n",
       "    </tr>\n",
       "    <tr>\n",
       "      <th>17</th>\n",
       "      <td>hypoaesthesia</td>\n",
       "      <td>6191</td>\n",
       "    </tr>\n",
       "    <tr>\n",
       "      <th>18</th>\n",
       "      <td>diarrhoea</td>\n",
       "      <td>6128</td>\n",
       "    </tr>\n",
       "    <tr>\n",
       "      <th>19</th>\n",
       "      <td>lymphadenopathy</td>\n",
       "      <td>5851</td>\n",
       "    </tr>\n",
       "  </tbody>\n",
       "</table>\n",
       "</div>"
      ],
      "text/plain": [
       "            Sympthom1  Pfizer\n",
       "0                pain   57753\n",
       "1            headache   33362\n",
       "2             pyrexia   28476\n",
       "3             fatigue   26528\n",
       "4           dizziness   25520\n",
       "5              chills   23291\n",
       "6   breathing problem   21310\n",
       "7              nausea   19120\n",
       "8      injection side   18488\n",
       "9       uncomfortable   17725\n",
       "10               rash    8056\n",
       "11           covid-19    7423\n",
       "12           pruritus    7375\n",
       "13             tremor    7177\n",
       "14           asthenia    6961\n",
       "15           vomiting    6607\n",
       "16      hyperhidrosis    6562\n",
       "17      hypoaesthesia    6191\n",
       "18          diarrhoea    6128\n",
       "19    lymphadenopathy    5851"
      ]
     },
     "execution_count": 43,
     "metadata": {},
     "output_type": "execute_result"
    }
   ],
   "source": [
    "pp"
   ]
  },
  {
   "cell_type": "code",
   "execution_count": 44,
   "id": "3f22cec3",
   "metadata": {},
   "outputs": [],
   "source": [
    "s1= pd.merge(pp, mo, on='Sympthom1')\n",
    "s2=pd.merge(s1, ja, on='Sympthom1')\n",
    "s2['Total']=s2['Pfizer']+s2['Moderna']+s2['Janssen']"
   ]
  },
  {
   "cell_type": "code",
   "execution_count": 45,
   "id": "75741aff",
   "metadata": {},
   "outputs": [],
   "source": [
    "s3=s2.sort_values('Total', ascending=False)\n",
    "s3=s3.head(10)"
   ]
  },
  {
   "cell_type": "code",
   "execution_count": 46,
   "id": "f58981d6",
   "metadata": {},
   "outputs": [
    {
     "data": {
      "text/html": [
       "<div>\n",
       "<style scoped>\n",
       "    .dataframe tbody tr th:only-of-type {\n",
       "        vertical-align: middle;\n",
       "    }\n",
       "\n",
       "    .dataframe tbody tr th {\n",
       "        vertical-align: top;\n",
       "    }\n",
       "\n",
       "    .dataframe thead th {\n",
       "        text-align: right;\n",
       "    }\n",
       "</style>\n",
       "<table border=\"1\" class=\"dataframe\">\n",
       "  <thead>\n",
       "    <tr style=\"text-align: right;\">\n",
       "      <th></th>\n",
       "      <th>Sympthom1</th>\n",
       "      <th>Pfizer</th>\n",
       "      <th>Moderna</th>\n",
       "      <th>Janssen</th>\n",
       "      <th>Total</th>\n",
       "    </tr>\n",
       "  </thead>\n",
       "  <tbody>\n",
       "    <tr>\n",
       "      <th>0</th>\n",
       "      <td>pain</td>\n",
       "      <td>57753</td>\n",
       "      <td>66536</td>\n",
       "      <td>16654</td>\n",
       "      <td>140943</td>\n",
       "    </tr>\n",
       "    <tr>\n",
       "      <th>8</th>\n",
       "      <td>injection side</td>\n",
       "      <td>18488</td>\n",
       "      <td>62594</td>\n",
       "      <td>4058</td>\n",
       "      <td>85140</td>\n",
       "    </tr>\n",
       "    <tr>\n",
       "      <th>1</th>\n",
       "      <td>headache</td>\n",
       "      <td>33362</td>\n",
       "      <td>35266</td>\n",
       "      <td>11376</td>\n",
       "      <td>80004</td>\n",
       "    </tr>\n",
       "    <tr>\n",
       "      <th>2</th>\n",
       "      <td>pyrexia</td>\n",
       "      <td>28476</td>\n",
       "      <td>32080</td>\n",
       "      <td>9853</td>\n",
       "      <td>70409</td>\n",
       "    </tr>\n",
       "    <tr>\n",
       "      <th>3</th>\n",
       "      <td>fatigue</td>\n",
       "      <td>26528</td>\n",
       "      <td>28254</td>\n",
       "      <td>7187</td>\n",
       "      <td>61969</td>\n",
       "    </tr>\n",
       "    <tr>\n",
       "      <th>5</th>\n",
       "      <td>chills</td>\n",
       "      <td>23291</td>\n",
       "      <td>29109</td>\n",
       "      <td>8672</td>\n",
       "      <td>61072</td>\n",
       "    </tr>\n",
       "    <tr>\n",
       "      <th>4</th>\n",
       "      <td>dizziness</td>\n",
       "      <td>25520</td>\n",
       "      <td>20563</td>\n",
       "      <td>7521</td>\n",
       "      <td>53604</td>\n",
       "    </tr>\n",
       "    <tr>\n",
       "      <th>7</th>\n",
       "      <td>nausea</td>\n",
       "      <td>19120</td>\n",
       "      <td>19881</td>\n",
       "      <td>5712</td>\n",
       "      <td>44713</td>\n",
       "    </tr>\n",
       "    <tr>\n",
       "      <th>6</th>\n",
       "      <td>breathing problem</td>\n",
       "      <td>21310</td>\n",
       "      <td>16417</td>\n",
       "      <td>4529</td>\n",
       "      <td>42256</td>\n",
       "    </tr>\n",
       "    <tr>\n",
       "      <th>9</th>\n",
       "      <td>uncomfortable</td>\n",
       "      <td>17725</td>\n",
       "      <td>14633</td>\n",
       "      <td>4138</td>\n",
       "      <td>36496</td>\n",
       "    </tr>\n",
       "  </tbody>\n",
       "</table>\n",
       "</div>"
      ],
      "text/plain": [
       "           Sympthom1  Pfizer  Moderna  Janssen   Total\n",
       "0               pain   57753    66536    16654  140943\n",
       "8     injection side   18488    62594     4058   85140\n",
       "1           headache   33362    35266    11376   80004\n",
       "2            pyrexia   28476    32080     9853   70409\n",
       "3            fatigue   26528    28254     7187   61969\n",
       "5             chills   23291    29109     8672   61072\n",
       "4          dizziness   25520    20563     7521   53604\n",
       "7             nausea   19120    19881     5712   44713\n",
       "6  breathing problem   21310    16417     4529   42256\n",
       "9      uncomfortable   17725    14633     4138   36496"
      ]
     },
     "execution_count": 46,
     "metadata": {},
     "output_type": "execute_result"
    }
   ],
   "source": [
    "s3"
   ]
  },
  {
   "cell_type": "code",
   "execution_count": 47,
   "id": "007f1b52",
   "metadata": {},
   "outputs": [
    {
     "data": {
      "text/plain": [
       "<AxesSubplot:xlabel='Sympthom1'>"
      ]
     },
     "execution_count": 47,
     "metadata": {},
     "output_type": "execute_result"
    },
    {
     "data": {
      "text/plain": [
       "<Figure size 1440x720 with 0 Axes>"
      ]
     },
     "metadata": {},
     "output_type": "display_data"
    },
    {
     "data": {
      "image/png": "[encoded data removed]",
      "text/plain": [
       "<Figure size 1080x360 with 1 Axes>"
      ]
     },
     "metadata": {
      "needs_background": "light"
     },
     "output_type": "display_data"
    }
   ],
   "source": [
    "import matplotlib.pyplot as plt\n",
    "plt.figure(figsize=(20, 10))\n",
    "s3.plot(x=\"Sympthom1\", y=[\"Pfizer\", \"Moderna\",\"Janssen\"], kind=\"bar\",figsize=(15, 5),fontsize = 15)\n",
    "\n"
   ]
  },
  {
   "cell_type": "markdown",
   "id": "ba999bb2",
   "metadata": {},
   "source": [
    "### Plot the top 10 most frequent symptom against the recipiennt died after  vaccination\n",
    "\n",
    "The symptom covid-19, breathing problem, cardiac arrest, unresponsive to stimuli, and pain is top 5 frequent symptom. Since 5th and 6th symptom already be use for top 5 symptom after vaccine, so the 7th symptom uncomfortable be selected to transform to dummy variable, use for machine learning model part."
   ]
  },
  {
   "cell_type": "code",
   "execution_count": 48,
   "id": "718128b5",
   "metadata": {},
   "outputs": [],
   "source": [
    "died=ndf[ndf['DIED']=='Y'].reset_index(drop=True)\n",
    "ds=[]\n",
    "for i in range(len(died)):\n",
    "    ds+=[died.iloc[i,0]]\n",
    "    ds+=[died.iloc[i,1]]   \n",
    "    ds+=[died.iloc[i,2]]\n",
    "    ds+=[died.iloc[i,3]]\n",
    "    ds+=[died.iloc[i,4]]\n",
    "ds=(pd.DataFrame(ds).value_counts()[0:30])"
   ]
  },
  {
   "cell_type": "code",
   "execution_count": 49,
   "id": "f603343d",
   "metadata": {},
   "outputs": [],
   "source": [
    "ads=pd.DataFrame(ds)"
   ]
  },
  {
   "cell_type": "code",
   "execution_count": 50,
   "id": "375031fd",
   "metadata": {},
   "outputs": [],
   "source": [
    "ads.index.names = ['Sympthom']"
   ]
  },
  {
   "cell_type": "code",
   "execution_count": 51,
   "id": "db2e2771",
   "metadata": {},
   "outputs": [],
   "source": [
    "ads=ads.reset_index('Sympthom')"
   ]
  },
  {
   "cell_type": "code",
   "execution_count": 52,
   "id": "fc2f1f25",
   "metadata": {},
   "outputs": [
    {
     "data": {
      "text/html": [
       "<div>\n",
       "<style scoped>\n",
       "    .dataframe tbody tr th:only-of-type {\n",
       "        vertical-align: middle;\n",
       "    }\n",
       "\n",
       "    .dataframe tbody tr th {\n",
       "        vertical-align: top;\n",
       "    }\n",
       "\n",
       "    .dataframe thead th {\n",
       "        text-align: right;\n",
       "    }\n",
       "</style>\n",
       "<table border=\"1\" class=\"dataframe\">\n",
       "  <thead>\n",
       "    <tr style=\"text-align: right;\">\n",
       "      <th></th>\n",
       "      <th>Sympthom</th>\n",
       "      <th>0</th>\n",
       "    </tr>\n",
       "  </thead>\n",
       "  <tbody>\n",
       "    <tr>\n",
       "      <th>0</th>\n",
       "      <td>death</td>\n",
       "      <td>3718</td>\n",
       "    </tr>\n",
       "    <tr>\n",
       "      <th>1</th>\n",
       "      <td>covid-19</td>\n",
       "      <td>1052</td>\n",
       "    </tr>\n",
       "    <tr>\n",
       "      <th>2</th>\n",
       "      <td>breathing problem</td>\n",
       "      <td>792</td>\n",
       "    </tr>\n",
       "    <tr>\n",
       "      <th>3</th>\n",
       "      <td>cardiac arrest</td>\n",
       "      <td>419</td>\n",
       "    </tr>\n",
       "    <tr>\n",
       "      <th>4</th>\n",
       "      <td>unresponsive to stimuli</td>\n",
       "      <td>387</td>\n",
       "    </tr>\n",
       "    <tr>\n",
       "      <th>5</th>\n",
       "      <td>pain</td>\n",
       "      <td>358</td>\n",
       "    </tr>\n",
       "    <tr>\n",
       "      <th>6</th>\n",
       "      <td>pyrexia</td>\n",
       "      <td>341</td>\n",
       "    </tr>\n",
       "    <tr>\n",
       "      <th>7</th>\n",
       "      <td>uncomfortable</td>\n",
       "      <td>337</td>\n",
       "    </tr>\n",
       "    <tr>\n",
       "      <th>8</th>\n",
       "      <td>resuscitation</td>\n",
       "      <td>334</td>\n",
       "    </tr>\n",
       "    <tr>\n",
       "      <th>9</th>\n",
       "      <td>fatigue</td>\n",
       "      <td>324</td>\n",
       "    </tr>\n",
       "    <tr>\n",
       "      <th>10</th>\n",
       "      <td>asthenia</td>\n",
       "      <td>298</td>\n",
       "    </tr>\n",
       "    <tr>\n",
       "      <th>11</th>\n",
       "      <td>condition aggravated</td>\n",
       "      <td>259</td>\n",
       "    </tr>\n",
       "    <tr>\n",
       "      <th>12</th>\n",
       "      <td>vomiting</td>\n",
       "      <td>257</td>\n",
       "    </tr>\n",
       "    <tr>\n",
       "      <th>13</th>\n",
       "      <td>dizziness</td>\n",
       "      <td>248</td>\n",
       "    </tr>\n",
       "    <tr>\n",
       "      <th>14</th>\n",
       "      <td>pneumonia</td>\n",
       "      <td>226</td>\n",
       "    </tr>\n",
       "    <tr>\n",
       "      <th>15</th>\n",
       "      <td>endotracheal intubation</td>\n",
       "      <td>214</td>\n",
       "    </tr>\n",
       "    <tr>\n",
       "      <th>16</th>\n",
       "      <td>nausea</td>\n",
       "      <td>214</td>\n",
       "    </tr>\n",
       "    <tr>\n",
       "      <th>17</th>\n",
       "      <td>intensive care</td>\n",
       "      <td>196</td>\n",
       "    </tr>\n",
       "    <tr>\n",
       "      <th>18</th>\n",
       "      <td>myocardial infarction</td>\n",
       "      <td>187</td>\n",
       "    </tr>\n",
       "    <tr>\n",
       "      <th>19</th>\n",
       "      <td>cough</td>\n",
       "      <td>186</td>\n",
       "    </tr>\n",
       "    <tr>\n",
       "      <th>20</th>\n",
       "      <td>headache</td>\n",
       "      <td>181</td>\n",
       "    </tr>\n",
       "    <tr>\n",
       "      <th>21</th>\n",
       "      <td>sars-cov-2 test negative</td>\n",
       "      <td>176</td>\n",
       "    </tr>\n",
       "    <tr>\n",
       "      <th>22</th>\n",
       "      <td>chills</td>\n",
       "      <td>173</td>\n",
       "    </tr>\n",
       "    <tr>\n",
       "      <th>23</th>\n",
       "      <td>autopsy</td>\n",
       "      <td>173</td>\n",
       "    </tr>\n",
       "    <tr>\n",
       "      <th>24</th>\n",
       "      <td>cerebrovascular accident</td>\n",
       "      <td>169</td>\n",
       "    </tr>\n",
       "    <tr>\n",
       "      <th>25</th>\n",
       "      <td>fall</td>\n",
       "      <td>164</td>\n",
       "    </tr>\n",
       "    <tr>\n",
       "      <th>26</th>\n",
       "      <td>decreased appetite</td>\n",
       "      <td>152</td>\n",
       "    </tr>\n",
       "    <tr>\n",
       "      <th>27</th>\n",
       "      <td>general physical health deterioration</td>\n",
       "      <td>150</td>\n",
       "    </tr>\n",
       "    <tr>\n",
       "      <th>28</th>\n",
       "      <td>acute kidney injury</td>\n",
       "      <td>146</td>\n",
       "    </tr>\n",
       "    <tr>\n",
       "      <th>29</th>\n",
       "      <td>hypoxia</td>\n",
       "      <td>140</td>\n",
       "    </tr>\n",
       "  </tbody>\n",
       "</table>\n",
       "</div>"
      ],
      "text/plain": [
       "                                 Sympthom     0\n",
       "0                                   death  3718\n",
       "1                                covid-19  1052\n",
       "2                       breathing problem   792\n",
       "3                          cardiac arrest   419\n",
       "4                 unresponsive to stimuli   387\n",
       "5                                    pain   358\n",
       "6                                 pyrexia   341\n",
       "7                           uncomfortable   337\n",
       "8                           resuscitation   334\n",
       "9                                 fatigue   324\n",
       "10                               asthenia   298\n",
       "11                   condition aggravated   259\n",
       "12                               vomiting   257\n",
       "13                              dizziness   248\n",
       "14                              pneumonia   226\n",
       "15                endotracheal intubation   214\n",
       "16                                 nausea   214\n",
       "17                         intensive care   196\n",
       "18                  myocardial infarction   187\n",
       "19                                  cough   186\n",
       "20                               headache   181\n",
       "21               sars-cov-2 test negative   176\n",
       "22                                 chills   173\n",
       "23                                autopsy   173\n",
       "24               cerebrovascular accident   169\n",
       "25                                   fall   164\n",
       "26                     decreased appetite   152\n",
       "27  general physical health deterioration   150\n",
       "28                    acute kidney injury   146\n",
       "29                                hypoxia   140"
      ]
     },
     "execution_count": 52,
     "metadata": {},
     "output_type": "execute_result"
    }
   ],
   "source": [
    "ads"
   ]
  },
  {
   "cell_type": "code",
   "execution_count": 53,
   "id": "896ccb46",
   "metadata": {},
   "outputs": [],
   "source": [
    "ds=pd.DataFrame(ds)\n",
    "ds.index.names = ['Sympthom']\n",
    "ds.columns=['Dead']\n",
    "ds=ds.reset_index('Sympthom')"
   ]
  },
  {
   "cell_type": "code",
   "execution_count": 54,
   "id": "9d8fbb84",
   "metadata": {},
   "outputs": [],
   "source": [
    "# since this graph is plot the recipient who died after vaccination, so will drop the symptom died\n",
    "ds.drop(ds.loc[ds['Sympthom']=='death'].index, inplace=True)"
   ]
  },
  {
   "cell_type": "code",
   "execution_count": 55,
   "id": "ab1be7bb",
   "metadata": {},
   "outputs": [],
   "source": [
    "ds=ds.head(10)"
   ]
  },
  {
   "cell_type": "code",
   "execution_count": 56,
   "id": "65929bf2",
   "metadata": {},
   "outputs": [],
   "source": [
    "df=df.replace(to_replace=[\"sars-cov-2 test positive\",\"covid-19 pneumonia\"],value=\"covid-19\")"
   ]
  },
  {
   "cell_type": "code",
   "execution_count": 57,
   "id": "f9606a81",
   "metadata": {},
   "outputs": [
    {
     "data": {
      "text/plain": [
       "<AxesSubplot:xlabel='Sympthom'>"
      ]
     },
     "execution_count": 57,
     "metadata": {},
     "output_type": "execute_result"
    },
    {
     "data": {
      "image/png": "[encoded data removed]",
      "text/plain": [
       "<Figure size 1080x360 with 1 Axes>"
      ]
     },
     "metadata": {
      "needs_background": "light"
     },
     "output_type": "display_data"
    }
   ],
   "source": [
    "ds.plot(x=\"Sympthom\", y=[\"Dead\"], kind=\"bar\",figsize=(15, 5),fontsize = 15)"
   ]
  },
  {
   "cell_type": "markdown",
   "id": "24d99a6a",
   "metadata": {},
   "source": [
    "### Plot the top 10 most frequent current illness against the recipiennt died after  vaccination\n",
    "\n",
    "The symptom covid-19, uti (urinary tract infection), hypertension, diabetes, and copd is top 5 frequent current illness. This 5 illness will be selected to transform to dummy variable, use for machine learning model part."
   ]
  },
  {
   "cell_type": "code",
   "execution_count": 58,
   "id": "cbaafb3d",
   "metadata": {},
   "outputs": [],
   "source": [
    "Cur_ill_died=ndf[ndf['DIED']=='Y'].reset_index(drop=True)\n",
    "CID=[]\n",
    "for i in range(len(Cur_ill_died)):\n",
    "    CID+=[Cur_ill_died.iloc[i,11]]\n",
    "    \n",
    "CID=(pd.DataFrame(CID).value_counts()[0:20])"
   ]
  },
  {
   "cell_type": "code",
   "execution_count": 59,
   "id": "f6635625",
   "metadata": {},
   "outputs": [],
   "source": [
    "CID=pd.DataFrame(CID)\n",
    "CID.index.names = ['Current Illness']\n",
    "CID.columns=['Dead']\n",
    "CID=CID.reset_index('Current Illness')"
   ]
  },
  {
   "cell_type": "code",
   "execution_count": 60,
   "id": "17776516",
   "metadata": {},
   "outputs": [],
   "source": [
    "# Drop the no illness \n",
    "CID.drop(CID.loc[CID['Current Illness']=='n'].index, inplace=True)"
   ]
  },
  {
   "cell_type": "code",
   "execution_count": 61,
   "id": "ee7336a3",
   "metadata": {},
   "outputs": [],
   "source": [
    "# Drop the illness which cannot define it \n",
    "CID.drop(CID.loc[CID['Current Illness']=='factor v leiden mutation, heterozygous(on warfarin since 2015)'].index, inplace=True)\n",
    "CID.drop(CID.loc[CID['Current Illness']=='alcohol use disorder, facial laceration, alcohol intoxication, secondary syphillis'].index, inplace=True)"
   ]
  },
  {
   "cell_type": "code",
   "execution_count": 62,
   "id": "0e2f25da",
   "metadata": {},
   "outputs": [],
   "source": [
    "CID=CID.head(5)"
   ]
  },
  {
   "cell_type": "code",
   "execution_count": 63,
   "id": "8deeed36",
   "metadata": {},
   "outputs": [
    {
     "data": {
      "text/html": [
       "<div>\n",
       "<style scoped>\n",
       "    .dataframe tbody tr th:only-of-type {\n",
       "        vertical-align: middle;\n",
       "    }\n",
       "\n",
       "    .dataframe tbody tr th {\n",
       "        vertical-align: top;\n",
       "    }\n",
       "\n",
       "    .dataframe thead th {\n",
       "        text-align: right;\n",
       "    }\n",
       "</style>\n",
       "<table border=\"1\" class=\"dataframe\">\n",
       "  <thead>\n",
       "    <tr style=\"text-align: right;\">\n",
       "      <th></th>\n",
       "      <th>Current Illness</th>\n",
       "      <th>Dead</th>\n",
       "    </tr>\n",
       "  </thead>\n",
       "  <tbody>\n",
       "    <tr>\n",
       "      <th>1</th>\n",
       "      <td>covid-19</td>\n",
       "      <td>46</td>\n",
       "    </tr>\n",
       "    <tr>\n",
       "      <th>2</th>\n",
       "      <td>uti</td>\n",
       "      <td>44</td>\n",
       "    </tr>\n",
       "    <tr>\n",
       "      <th>3</th>\n",
       "      <td>hypertension</td>\n",
       "      <td>20</td>\n",
       "    </tr>\n",
       "    <tr>\n",
       "      <th>4</th>\n",
       "      <td>copd</td>\n",
       "      <td>16</td>\n",
       "    </tr>\n",
       "    <tr>\n",
       "      <th>6</th>\n",
       "      <td>diabetes</td>\n",
       "      <td>14</td>\n",
       "    </tr>\n",
       "  </tbody>\n",
       "</table>\n",
       "</div>"
      ],
      "text/plain": [
       "  Current Illness  Dead\n",
       "1        covid-19    46\n",
       "2             uti    44\n",
       "3    hypertension    20\n",
       "4            copd    16\n",
       "6        diabetes    14"
      ]
     },
     "execution_count": 63,
     "metadata": {},
     "output_type": "execute_result"
    }
   ],
   "source": [
    "CID"
   ]
  },
  {
   "cell_type": "code",
   "execution_count": 64,
   "id": "b8c4cb31",
   "metadata": {},
   "outputs": [
    {
     "data": {
      "text/plain": [
       "<AxesSubplot:xlabel='Current Illness'>"
      ]
     },
     "execution_count": 64,
     "metadata": {},
     "output_type": "execute_result"
    },
    {
     "data": {
      "image/png": "[encoded data removed]",
      "text/plain": [
       "<Figure size 720x360 with 1 Axes>"
      ]
     },
     "metadata": {
      "needs_background": "light"
     },
     "output_type": "display_data"
    }
   ],
   "source": [
    "CID.plot(x=\"Current Illness\", y=\"Dead\", kind=\"bar\",figsize=(10, 5),fontsize = 15)"
   ]
  },
  {
   "cell_type": "markdown",
   "id": "b3ddaba9",
   "metadata": {},
   "source": [
    "# Data Preprocessing\n",
    "1) For binary category column, use label encoder change to 0 and 1.\n",
    "\n",
    "2) For multi category column, use get dummies to create dummy variable.\n",
    "\n",
    "3) Create new columns for top 5 frequency symptom and top 5 frequency symptom for died\n",
    "\n",
    "4) Create new columns for top 5 frenquency current illness when the recipient died after vaccine"
   ]
  },
  {
   "cell_type": "code",
   "execution_count": 65,
   "id": "46074b64",
   "metadata": {},
   "outputs": [],
   "source": [
    "# Store the data to ndf2 from ndf. For backup purpose\n",
    "ndf2=ndf"
   ]
  },
  {
   "cell_type": "code",
   "execution_count": 66,
   "id": "b8b3f038",
   "metadata": {},
   "outputs": [],
   "source": [
    "#top 5 frequency symptom\n",
    "ndf2['S_Headache'] = np.where((ndf2['SYMPTOM1']=='headache') | (ndf2['SYMPTOM2']=='headache') | (ndf2['SYMPTOM3']=='headache') |\n",
    "                           (ndf2['SYMPTOM4']=='headache') | (ndf2['SYMPTOM5']=='headache'), 1, 0)\n",
    "\n",
    "ndf2['S_Pain'] = np.where((ndf2['SYMPTOM1']=='pain') | (ndf2['SYMPTOM2']=='pain') | (ndf2['SYMPTOM3']=='pain') |\n",
    "                           (ndf2['SYMPTOM4']=='pain') | (ndf2['SYMPTOM5']=='pain'), 1, 0)\n",
    "\n",
    "ndf2['S_Pyrexia'] = np.where((ndf2['SYMPTOM1']=='pyrexia') | (ndf2['SYMPTOM2']=='pyrexia') | (ndf2['SYMPTOM3']=='pyrexia') |\n",
    "                           (ndf2['SYMPTOM4']=='pyrexia') | (ndf2['SYMPTOM5']=='pyrexia'), 1, 0)\n",
    "\n",
    "ndf2['S_Injection side affect'] = np.where((ndf2['SYMPTOM1']=='injection side') | (ndf2['SYMPTOM2']=='injection side') | (ndf2['SYMPTOM3']=='injection side') |\n",
    "                           (ndf2['SYMPTOM4']=='injection side') | (ndf2['SYMPTOM5']=='injection side'), 1, 0)\n",
    "\n",
    "ndf2['S_Fatigue'] = np.where((ndf2['SYMPTOM1']=='fatigue') | (ndf2['SYMPTOM2']=='fatigue') | (ndf2['SYMPTOM3']=='fatigue') |\n",
    "                           (ndf2['SYMPTOM4']=='fatigue') | (ndf2['SYMPTOM5']=='fatigue'), 1, 0)\n",
    "\n",
    "# top 5 frequency symptom for died\n",
    "ndf2['S_Covid-19'] = np.where((ndf2['SYMPTOM1']=='covid-19') | (ndf2['SYMPTOM2']=='covid-19') | (ndf2['SYMPTOM3']=='covid-19') |\n",
    "                           (ndf2['SYMPTOM4']=='covid-19') | (ndf2['SYMPTOM5']=='covid-19'), 1, 0)\n",
    "\n",
    "ndf2['S_Breathing problem'] = np.where((ndf2['SYMPTOM1']=='breathing problem') | (ndf2['SYMPTOM2']=='breathing problem') | (ndf2['SYMPTOM3']=='breathing problem') |\n",
    "                           (ndf2['SYMPTOM4']=='breathing problem') | (ndf2['SYMPTOM5']=='breathing problem'), 1, 0)\n",
    "\n",
    "ndf2['S_Cardiac arrest'] = np.where((ndf2['SYMPTOM1']=='cardiac arrest') | (ndf2['SYMPTOM2']=='cardiac arrest') | (ndf2['SYMPTOM3']=='cardiac arrest') |\n",
    "                           (ndf2['SYMPTOM4']=='cardiac arrest') | (ndf2['SYMPTOM5']=='cardiac arrest'), 1, 0)\n",
    "\n",
    "ndf2['S_Unresponsive to stimuli'] = np.where((ndf2['SYMPTOM1']=='unresponsive to stimuli') | (ndf2['SYMPTOM2']=='unresponsive to stimuli') | (ndf2['SYMPTOM3']=='unresponsive to stimuli') |\n",
    "                           (ndf2['SYMPTOM4']=='unresponsive to stimuli') | (ndf2['SYMPTOM5']=='unresponsive to stimuli'), 1, 0)\n",
    "\n",
    "ndf2['S_Uncomfortable'] = np.where((ndf2['SYMPTOM1']=='uncomfortable') | (ndf2['SYMPTOM2']=='uncomfortable') | (ndf2['SYMPTOM3']=='uncomfortable') |\n",
    "                           (ndf2['SYMPTOM4']=='uncomfortable') | (ndf2['SYMPTOM5']=='uncomfortable'), 1, 0)"
   ]
  },
  {
   "cell_type": "code",
   "execution_count": 67,
   "id": "4ceb84fa",
   "metadata": {},
   "outputs": [],
   "source": [
    "ndf2['CI_covid-19'] = np.where((ndf2['CUR_ILL'].str.contains('covid')),1,0)\n",
    "ndf2['CI_hypertension'] = np.where((ndf2['CUR_ILL'].str.contains('hypertension')),1,0)\n",
    "ndf2['CI_uti'] = np.where((ndf2['CUR_ILL'].str.contains('uti')) | (ndf2['CUR_ILL'].str.contains('urinary tract infection')),1,0)\n",
    "ndf2['CI_diabetes'] = np.where((ndf2['CUR_ILL'].str.contains('diabetes')),1,0)\n",
    "ndf2['CI_copd'] = np.where((ndf2['CUR_ILL'].str.contains('copd')) | (ndf2['CUR_ILL'].str.contains('Chronic Obstructive Pulmonary Disease')),1,0)"
   ]
  },
  {
   "cell_type": "code",
   "execution_count": 68,
   "id": "6100da30",
   "metadata": {},
   "outputs": [],
   "source": [
    "from sklearn.preprocessing import LabelEncoder\n",
    "from sklearn.preprocessing import StandardScaler\n",
    "\n",
    "le = LabelEncoder()\n",
    "for i in bi_cat_cols :\n",
    "    ndf2[i] = le.fit_transform(ndf2[i])\n",
    "    \n",
    "for i in target_col :\n",
    "    ndf2[i] = le.fit_transform(ndf2[i])"
   ]
  },
  {
   "cell_type": "code",
   "execution_count": 69,
   "id": "f60ab5a5",
   "metadata": {},
   "outputs": [],
   "source": [
    "ndf2 = pd.get_dummies(data = ndf2,columns = cat_cols )"
   ]
  },
  {
   "cell_type": "code",
   "execution_count": 70,
   "id": "7ba3160d",
   "metadata": {},
   "outputs": [
    {
     "data": {
      "text/html": [
       "<div>\n",
       "<style scoped>\n",
       "    .dataframe tbody tr th:only-of-type {\n",
       "        vertical-align: middle;\n",
       "    }\n",
       "\n",
       "    .dataframe tbody tr th {\n",
       "        vertical-align: top;\n",
       "    }\n",
       "\n",
       "    .dataframe thead th {\n",
       "        text-align: right;\n",
       "    }\n",
       "</style>\n",
       "<table border=\"1\" class=\"dataframe\">\n",
       "  <thead>\n",
       "    <tr style=\"text-align: right;\">\n",
       "      <th></th>\n",
       "      <th>SYMPTOM1</th>\n",
       "      <th>SYMPTOM2</th>\n",
       "      <th>SYMPTOM3</th>\n",
       "      <th>SYMPTOM4</th>\n",
       "      <th>SYMPTOM5</th>\n",
       "      <th>AGE_YRS</th>\n",
       "      <th>SEX</th>\n",
       "      <th>DIED</th>\n",
       "      <th>DISABLE</th>\n",
       "      <th>CUR_ILL</th>\n",
       "      <th>...</th>\n",
       "      <th>VAX_MANU_MODERNA</th>\n",
       "      <th>VAX_MANU_PFIZER\\BIONTECH</th>\n",
       "      <th>RECOVD_N</th>\n",
       "      <th>RECOVD_U</th>\n",
       "      <th>RECOVD_Y</th>\n",
       "      <th>age_group_Child</th>\n",
       "      <th>age_group_Senior Adult</th>\n",
       "      <th>age_group_Senior Citizen</th>\n",
       "      <th>age_group_Very Senior Citizen</th>\n",
       "      <th>age_group_Young Adult</th>\n",
       "    </tr>\n",
       "  </thead>\n",
       "  <tbody>\n",
       "    <tr>\n",
       "      <th>0</th>\n",
       "      <td>dysphagia</td>\n",
       "      <td>epiglottitis</td>\n",
       "      <td>NaN</td>\n",
       "      <td>NaN</td>\n",
       "      <td>NaN</td>\n",
       "      <td>33.0</td>\n",
       "      <td>0</td>\n",
       "      <td>0</td>\n",
       "      <td>0</td>\n",
       "      <td>n</td>\n",
       "      <td>...</td>\n",
       "      <td>1</td>\n",
       "      <td>0</td>\n",
       "      <td>0</td>\n",
       "      <td>0</td>\n",
       "      <td>1</td>\n",
       "      <td>0</td>\n",
       "      <td>0</td>\n",
       "      <td>0</td>\n",
       "      <td>0</td>\n",
       "      <td>1</td>\n",
       "    </tr>\n",
       "    <tr>\n",
       "      <th>1</th>\n",
       "      <td>anxiety</td>\n",
       "      <td>breathing problem</td>\n",
       "      <td>NaN</td>\n",
       "      <td>NaN</td>\n",
       "      <td>NaN</td>\n",
       "      <td>73.0</td>\n",
       "      <td>0</td>\n",
       "      <td>0</td>\n",
       "      <td>0</td>\n",
       "      <td>patient residing at nursing facility. see pati...</td>\n",
       "      <td>...</td>\n",
       "      <td>1</td>\n",
       "      <td>0</td>\n",
       "      <td>0</td>\n",
       "      <td>0</td>\n",
       "      <td>1</td>\n",
       "      <td>0</td>\n",
       "      <td>0</td>\n",
       "      <td>1</td>\n",
       "      <td>0</td>\n",
       "      <td>0</td>\n",
       "    </tr>\n",
       "    <tr>\n",
       "      <th>2</th>\n",
       "      <td>breathing problem</td>\n",
       "      <td>dysphagia</td>\n",
       "      <td>pain</td>\n",
       "      <td>visual impairment</td>\n",
       "      <td>NaN</td>\n",
       "      <td>23.0</td>\n",
       "      <td>0</td>\n",
       "      <td>0</td>\n",
       "      <td>0</td>\n",
       "      <td>n</td>\n",
       "      <td>...</td>\n",
       "      <td>0</td>\n",
       "      <td>1</td>\n",
       "      <td>0</td>\n",
       "      <td>1</td>\n",
       "      <td>0</td>\n",
       "      <td>0</td>\n",
       "      <td>0</td>\n",
       "      <td>0</td>\n",
       "      <td>0</td>\n",
       "      <td>1</td>\n",
       "    </tr>\n",
       "    <tr>\n",
       "      <th>3</th>\n",
       "      <td>dizziness</td>\n",
       "      <td>fatigue</td>\n",
       "      <td>mobility decreased</td>\n",
       "      <td>NaN</td>\n",
       "      <td>NaN</td>\n",
       "      <td>58.0</td>\n",
       "      <td>0</td>\n",
       "      <td>0</td>\n",
       "      <td>0</td>\n",
       "      <td>kidney infection</td>\n",
       "      <td>...</td>\n",
       "      <td>1</td>\n",
       "      <td>0</td>\n",
       "      <td>0</td>\n",
       "      <td>0</td>\n",
       "      <td>1</td>\n",
       "      <td>0</td>\n",
       "      <td>1</td>\n",
       "      <td>0</td>\n",
       "      <td>0</td>\n",
       "      <td>0</td>\n",
       "    </tr>\n",
       "    <tr>\n",
       "      <th>4</th>\n",
       "      <td>injection side</td>\n",
       "      <td>injection side</td>\n",
       "      <td>injection side</td>\n",
       "      <td>injection side</td>\n",
       "      <td>NaN</td>\n",
       "      <td>47.0</td>\n",
       "      <td>0</td>\n",
       "      <td>0</td>\n",
       "      <td>0</td>\n",
       "      <td>n</td>\n",
       "      <td>...</td>\n",
       "      <td>1</td>\n",
       "      <td>0</td>\n",
       "      <td>1</td>\n",
       "      <td>0</td>\n",
       "      <td>0</td>\n",
       "      <td>0</td>\n",
       "      <td>1</td>\n",
       "      <td>0</td>\n",
       "      <td>0</td>\n",
       "      <td>0</td>\n",
       "    </tr>\n",
       "    <tr>\n",
       "      <th>...</th>\n",
       "      <td>...</td>\n",
       "      <td>...</td>\n",
       "      <td>...</td>\n",
       "      <td>...</td>\n",
       "      <td>...</td>\n",
       "      <td>...</td>\n",
       "      <td>...</td>\n",
       "      <td>...</td>\n",
       "      <td>...</td>\n",
       "      <td>...</td>\n",
       "      <td>...</td>\n",
       "      <td>...</td>\n",
       "      <td>...</td>\n",
       "      <td>...</td>\n",
       "      <td>...</td>\n",
       "      <td>...</td>\n",
       "      <td>...</td>\n",
       "      <td>...</td>\n",
       "      <td>...</td>\n",
       "      <td>...</td>\n",
       "      <td>...</td>\n",
       "    </tr>\n",
       "    <tr>\n",
       "      <th>603455</th>\n",
       "      <td>dizziness</td>\n",
       "      <td>unresponsive to stimuli</td>\n",
       "      <td>NaN</td>\n",
       "      <td>NaN</td>\n",
       "      <td>NaN</td>\n",
       "      <td>18.0</td>\n",
       "      <td>1</td>\n",
       "      <td>0</td>\n",
       "      <td>0</td>\n",
       "      <td>n</td>\n",
       "      <td>...</td>\n",
       "      <td>0</td>\n",
       "      <td>1</td>\n",
       "      <td>0</td>\n",
       "      <td>0</td>\n",
       "      <td>1</td>\n",
       "      <td>0</td>\n",
       "      <td>0</td>\n",
       "      <td>0</td>\n",
       "      <td>0</td>\n",
       "      <td>1</td>\n",
       "    </tr>\n",
       "    <tr>\n",
       "      <th>603456</th>\n",
       "      <td>asthenia</td>\n",
       "      <td>confusional state</td>\n",
       "      <td>diarrhoea</td>\n",
       "      <td>dizziness</td>\n",
       "      <td>fatigue</td>\n",
       "      <td>33.0</td>\n",
       "      <td>0</td>\n",
       "      <td>0</td>\n",
       "      <td>0</td>\n",
       "      <td>n</td>\n",
       "      <td>...</td>\n",
       "      <td>0</td>\n",
       "      <td>1</td>\n",
       "      <td>0</td>\n",
       "      <td>1</td>\n",
       "      <td>0</td>\n",
       "      <td>0</td>\n",
       "      <td>0</td>\n",
       "      <td>0</td>\n",
       "      <td>0</td>\n",
       "      <td>1</td>\n",
       "    </tr>\n",
       "    <tr>\n",
       "      <th>603457</th>\n",
       "      <td>lethargy</td>\n",
       "      <td>uncomfortable</td>\n",
       "      <td>nausea</td>\n",
       "      <td>seizure</td>\n",
       "      <td>dizziness</td>\n",
       "      <td>33.0</td>\n",
       "      <td>0</td>\n",
       "      <td>0</td>\n",
       "      <td>0</td>\n",
       "      <td>n</td>\n",
       "      <td>...</td>\n",
       "      <td>0</td>\n",
       "      <td>1</td>\n",
       "      <td>0</td>\n",
       "      <td>1</td>\n",
       "      <td>0</td>\n",
       "      <td>0</td>\n",
       "      <td>0</td>\n",
       "      <td>0</td>\n",
       "      <td>0</td>\n",
       "      <td>1</td>\n",
       "    </tr>\n",
       "    <tr>\n",
       "      <th>603459</th>\n",
       "      <td>incorrect dose administered</td>\n",
       "      <td>NaN</td>\n",
       "      <td>NaN</td>\n",
       "      <td>NaN</td>\n",
       "      <td>NaN</td>\n",
       "      <td>20.0</td>\n",
       "      <td>0</td>\n",
       "      <td>0</td>\n",
       "      <td>0</td>\n",
       "      <td>n</td>\n",
       "      <td>...</td>\n",
       "      <td>0</td>\n",
       "      <td>1</td>\n",
       "      <td>0</td>\n",
       "      <td>0</td>\n",
       "      <td>1</td>\n",
       "      <td>0</td>\n",
       "      <td>0</td>\n",
       "      <td>0</td>\n",
       "      <td>0</td>\n",
       "      <td>1</td>\n",
       "    </tr>\n",
       "    <tr>\n",
       "      <th>603461</th>\n",
       "      <td>hypotension</td>\n",
       "      <td>dizziness</td>\n",
       "      <td>unresponsive to stimuli</td>\n",
       "      <td>NaN</td>\n",
       "      <td>NaN</td>\n",
       "      <td>25.0</td>\n",
       "      <td>0</td>\n",
       "      <td>0</td>\n",
       "      <td>0</td>\n",
       "      <td>n</td>\n",
       "      <td>...</td>\n",
       "      <td>0</td>\n",
       "      <td>1</td>\n",
       "      <td>0</td>\n",
       "      <td>0</td>\n",
       "      <td>1</td>\n",
       "      <td>0</td>\n",
       "      <td>0</td>\n",
       "      <td>0</td>\n",
       "      <td>0</td>\n",
       "      <td>1</td>\n",
       "    </tr>\n",
       "  </tbody>\n",
       "</table>\n",
       "<p>470404 rows × 37 columns</p>\n",
       "</div>"
      ],
      "text/plain": [
       "                           SYMPTOM1                 SYMPTOM2  \\\n",
       "0                         dysphagia             epiglottitis   \n",
       "1                           anxiety        breathing problem   \n",
       "2                 breathing problem                dysphagia   \n",
       "3                         dizziness                  fatigue   \n",
       "4                    injection side           injection side   \n",
       "...                             ...                      ...   \n",
       "603455                    dizziness  unresponsive to stimuli   \n",
       "603456                     asthenia        confusional state   \n",
       "603457                     lethargy            uncomfortable   \n",
       "603459  incorrect dose administered                      NaN   \n",
       "603461                  hypotension                dizziness   \n",
       "\n",
       "                       SYMPTOM3           SYMPTOM4   SYMPTOM5  AGE_YRS  SEX  \\\n",
       "0                           NaN                NaN        NaN     33.0    0   \n",
       "1                           NaN                NaN        NaN     73.0    0   \n",
       "2                          pain  visual impairment        NaN     23.0    0   \n",
       "3            mobility decreased                NaN        NaN     58.0    0   \n",
       "4                injection side     injection side        NaN     47.0    0   \n",
       "...                         ...                ...        ...      ...  ...   \n",
       "603455                      NaN                NaN        NaN     18.0    1   \n",
       "603456                diarrhoea          dizziness    fatigue     33.0    0   \n",
       "603457                   nausea            seizure  dizziness     33.0    0   \n",
       "603459                      NaN                NaN        NaN     20.0    0   \n",
       "603461  unresponsive to stimuli                NaN        NaN     25.0    0   \n",
       "\n",
       "        DIED  DISABLE                                            CUR_ILL  ...  \\\n",
       "0          0        0                                                  n  ...   \n",
       "1          0        0  patient residing at nursing facility. see pati...  ...   \n",
       "2          0        0                                                  n  ...   \n",
       "3          0        0                                   kidney infection  ...   \n",
       "4          0        0                                                  n  ...   \n",
       "...      ...      ...                                                ...  ...   \n",
       "603455     0        0                                                  n  ...   \n",
       "603456     0        0                                                  n  ...   \n",
       "603457     0        0                                                  n  ...   \n",
       "603459     0        0                                                  n  ...   \n",
       "603461     0        0                                                  n  ...   \n",
       "\n",
       "        VAX_MANU_MODERNA  VAX_MANU_PFIZER\\BIONTECH  RECOVD_N  RECOVD_U  \\\n",
       "0                      1                         0         0         0   \n",
       "1                      1                         0         0         0   \n",
       "2                      0                         1         0         1   \n",
       "3                      1                         0         0         0   \n",
       "4                      1                         0         1         0   \n",
       "...                  ...                       ...       ...       ...   \n",
       "603455                 0                         1         0         0   \n",
       "603456                 0                         1         0         1   \n",
       "603457                 0                         1         0         1   \n",
       "603459                 0                         1         0         0   \n",
       "603461                 0                         1         0         0   \n",
       "\n",
       "        RECOVD_Y  age_group_Child  age_group_Senior Adult  \\\n",
       "0              1                0                       0   \n",
       "1              1                0                       0   \n",
       "2              0                0                       0   \n",
       "3              1                0                       1   \n",
       "4              0                0                       1   \n",
       "...          ...              ...                     ...   \n",
       "603455         1                0                       0   \n",
       "603456         0                0                       0   \n",
       "603457         0                0                       0   \n",
       "603459         1                0                       0   \n",
       "603461         1                0                       0   \n",
       "\n",
       "        age_group_Senior Citizen  age_group_Very Senior Citizen  \\\n",
       "0                              0                              0   \n",
       "1                              1                              0   \n",
       "2                              0                              0   \n",
       "3                              0                              0   \n",
       "4                              0                              0   \n",
       "...                          ...                            ...   \n",
       "603455                         0                              0   \n",
       "603456                         0                              0   \n",
       "603457                         0                              0   \n",
       "603459                         0                              0   \n",
       "603461                         0                              0   \n",
       "\n",
       "        age_group_Young Adult  \n",
       "0                           1  \n",
       "1                           0  \n",
       "2                           1  \n",
       "3                           0  \n",
       "4                           0  \n",
       "...                       ...  \n",
       "603455                      1  \n",
       "603456                      1  \n",
       "603457                      1  \n",
       "603459                      1  \n",
       "603461                      1  \n",
       "\n",
       "[470404 rows x 37 columns]"
      ]
     },
     "execution_count": 70,
     "metadata": {},
     "output_type": "execute_result"
    }
   ],
   "source": [
    "ndf2"
   ]
  },
  {
   "cell_type": "code",
   "execution_count": 71,
   "id": "7daf4c9b",
   "metadata": {},
   "outputs": [],
   "source": [
    "# Drop the symptom 1 to 5, current illness and AGE_YRS\n",
    "ndf2=ndf2.drop(['SYMPTOM1','SYMPTOM2','SYMPTOM3','SYMPTOM4','SYMPTOM5','AGE_YRS','CUR_ILL'],axis='columns')"
   ]
  },
  {
   "cell_type": "code",
   "execution_count": 72,
   "id": "a4e33297",
   "metadata": {},
   "outputs": [
    {
     "name": "stdout",
     "output_type": "stream",
     "text": [
      "<class 'pandas.core.frame.DataFrame'>\n",
      "Int64Index: 470404 entries, 0 to 603461\n",
      "Data columns (total 30 columns):\n",
      " #   Column                         Non-Null Count   Dtype\n",
      "---  ------                         --------------   -----\n",
      " 0   SEX                            470404 non-null  int32\n",
      " 1   DIED                           470404 non-null  int32\n",
      " 2   DISABLE                        470404 non-null  int32\n",
      " 3   BIRTH_DEFECT                   470404 non-null  int32\n",
      " 4   S_Headache                     470404 non-null  int32\n",
      " 5   S_Pain                         470404 non-null  int32\n",
      " 6   S_Pyrexia                      470404 non-null  int32\n",
      " 7   S_Injection side affect        470404 non-null  int32\n",
      " 8   S_Fatigue                      470404 non-null  int32\n",
      " 9   S_Covid-19                     470404 non-null  int32\n",
      " 10  S_Breathing problem            470404 non-null  int32\n",
      " 11  S_Cardiac arrest               470404 non-null  int32\n",
      " 12  S_Unresponsive to stimuli      470404 non-null  int32\n",
      " 13  S_Uncomfortable                470404 non-null  int32\n",
      " 14  CI_covid-19                    470404 non-null  int32\n",
      " 15  CI_hypertension                470404 non-null  int32\n",
      " 16  CI_uti                         470404 non-null  int32\n",
      " 17  CI_diabetes                    470404 non-null  int32\n",
      " 18  CI_copd                        470404 non-null  int32\n",
      " 19  VAX_MANU_JANSSEN               470404 non-null  uint8\n",
      " 20  VAX_MANU_MODERNA               470404 non-null  uint8\n",
      " 21  VAX_MANU_PFIZER\\BIONTECH       470404 non-null  uint8\n",
      " 22  RECOVD_N                       470404 non-null  uint8\n",
      " 23  RECOVD_U                       470404 non-null  uint8\n",
      " 24  RECOVD_Y                       470404 non-null  uint8\n",
      " 25  age_group_Child                470404 non-null  uint8\n",
      " 26  age_group_Senior Adult         470404 non-null  uint8\n",
      " 27  age_group_Senior Citizen       470404 non-null  uint8\n",
      " 28  age_group_Very Senior Citizen  470404 non-null  uint8\n",
      " 29  age_group_Young Adult          470404 non-null  uint8\n",
      "dtypes: int32(19), uint8(11)\n",
      "memory usage: 42.6 MB\n"
     ]
    }
   ],
   "source": [
    "# Check the no of unique of final data set\n",
    "ndf2.info()"
   ]
  },
  {
   "cell_type": "markdown",
   "id": "bbe5ba11",
   "metadata": {},
   "source": [
    "# Data imbalanced\n",
    "Since target variable is not balanced, so using random under sampling to resampling it."
   ]
  },
  {
   "cell_type": "code",
   "execution_count": 73,
   "id": "60c4414c",
   "metadata": {},
   "outputs": [],
   "source": [
    "X = ndf2.drop(['DIED'],axis=1)\n",
    "y = ndf2['DIED']"
   ]
  },
  {
   "cell_type": "code",
   "execution_count": 74,
   "id": "4032855d",
   "metadata": {},
   "outputs": [
    {
     "data": {
      "text/plain": [
       "0    462839\n",
       "1      7565\n",
       "Name: DIED, dtype: int64"
      ]
     },
     "execution_count": 74,
     "metadata": {},
     "output_type": "execute_result"
    }
   ],
   "source": [
    "count_y=y.value_counts()\n",
    "count_y"
   ]
  },
  {
   "cell_type": "code",
   "execution_count": 75,
   "id": "5d5aa703",
   "metadata": {},
   "outputs": [],
   "source": [
    "from imblearn.under_sampling import RandomUnderSampler\n",
    "sm = RandomUnderSampler(sampling_strategy='majority',random_state=34)\n",
    "X, y = sm.fit_resample(X, y)"
   ]
  },
  {
   "cell_type": "code",
   "execution_count": 76,
   "id": "104bd0c7",
   "metadata": {},
   "outputs": [
    {
     "data": {
      "text/plain": [
       "0    7565\n",
       "1    7565\n",
       "Name: DIED, dtype: int64"
      ]
     },
     "execution_count": 76,
     "metadata": {},
     "output_type": "execute_result"
    }
   ],
   "source": [
    "count_y=y.value_counts()\n",
    "count_y"
   ]
  },
  {
   "cell_type": "markdown",
   "id": "a460679d",
   "metadata": {},
   "source": [
    "# Model Building\n",
    "\n",
    "###### Split the dataset into training set and testing set"
   ]
  },
  {
   "cell_type": "code",
   "execution_count": 77,
   "id": "146070db",
   "metadata": {},
   "outputs": [],
   "source": [
    "from sklearn.model_selection import train_test_split\n",
    "X_train,X_test,y_train,y_test = train_test_split(X,y,test_size=0.30,random_state=34)"
   ]
  },
  {
   "cell_type": "code",
   "execution_count": 78,
   "id": "120ee514",
   "metadata": {},
   "outputs": [
    {
     "data": {
      "text/plain": [
       "15130"
      ]
     },
     "execution_count": 78,
     "metadata": {},
     "output_type": "execute_result"
    }
   ],
   "source": [
    "len(X_train)+len(X_test)"
   ]
  },
  {
   "cell_type": "code",
   "execution_count": 79,
   "id": "c48d6bab",
   "metadata": {},
   "outputs": [],
   "source": [
    "from sklearn.ensemble import RandomForestClassifier\n",
    "from sklearn.linear_model import LogisticRegression\n",
    "from sklearn.svm import SVC\n",
    "from sklearn.neighbors import KNeighborsClassifier\n",
    "from sklearn.naive_bayes import GaussianNB\n",
    "from sklearn.tree import DecisionTreeClassifier\n",
    "\n",
    "\n",
    "from sklearn.metrics import confusion_matrix\n",
    "from sklearn.metrics import accuracy_score, recall_score, precision_score, f1_score\n",
    "from sklearn.metrics import roc_auc_score"
   ]
  },
  {
   "cell_type": "markdown",
   "id": "a44bdd02",
   "metadata": {},
   "source": [
    "## Random forest"
   ]
  },
  {
   "cell_type": "code",
   "execution_count": 80,
   "id": "38639773",
   "metadata": {},
   "outputs": [],
   "source": [
    "#Random Forest algorithm\n",
    "randomforest = RandomForestClassifier()\n",
    "\n",
    "#train using the algorithm\n",
    "randomforest.fit(X_train,y_train.values.ravel())\n",
    "\n",
    "#use the trained set to do prediction on test set\n",
    "y_pred_rf=randomforest.predict(X_test)"
   ]
  },
  {
   "cell_type": "code",
   "execution_count": 81,
   "id": "f49033f3",
   "metadata": {},
   "outputs": [],
   "source": [
    "accuracy_rf=accuracy_score(y_test,y_pred_rf)\n",
    "recall_rf=recall_score(y_test,y_pred_rf)\n",
    "precision_rf=precision_score(y_test,y_pred_rf)\n",
    "f1_score_rf=f1_score(y_test,y_pred_rf)\n",
    "ROC_rf=roc_auc_score(y_test,y_pred_rf)"
   ]
  },
  {
   "cell_type": "code",
   "execution_count": 82,
   "id": "b27e5cd2",
   "metadata": {},
   "outputs": [
    {
     "name": "stdout",
     "output_type": "stream",
     "text": [
      "[[1840  422]\n",
      " [ 242 2035]]\n"
     ]
    }
   ],
   "source": [
    "cm=confusion_matrix(y_test,y_pred_rf)\n",
    "print(cm)"
   ]
  },
  {
   "cell_type": "code",
   "execution_count": 83,
   "id": "0f1c486f",
   "metadata": {},
   "outputs": [
    {
     "data": {
      "image/png": "[encoded data removed]",
      "text/plain": [
       "<Figure size 432x288 with 1 Axes>"
      ]
     },
     "metadata": {
      "needs_background": "light"
     },
     "output_type": "display_data"
    }
   ],
   "source": [
    "plt.clf()\n",
    "plt.imshow(cm, interpolation='nearest', cmap=plt.cm.Wistia)\n",
    "classNames = ['Negative','Positive']\n",
    "plt.title('Random Forest')\n",
    "plt.ylabel('True label')\n",
    "plt.xlabel('Predicted label')\n",
    "tick_marks = np.arange(len(classNames))\n",
    "plt.xticks(tick_marks, classNames, rotation=45)\n",
    "plt.yticks(tick_marks, classNames)\n",
    "s = [['TN','FP'], ['FN', 'TP']]\n",
    "for i in range(2):\n",
    "    for j in range(2):\n",
    "        plt.text(j,i, str(s[i][j])+\" = \"+str(cm[i][j]))\n",
    "plt.show()"
   ]
  },
  {
   "cell_type": "markdown",
   "id": "a2dfa57c",
   "metadata": {},
   "source": [
    "## Logistic Regression"
   ]
  },
  {
   "cell_type": "code",
   "execution_count": 84,
   "id": "cc32fe52",
   "metadata": {},
   "outputs": [],
   "source": [
    "#Logistic Regression algorithm\n",
    "lr = LogisticRegression()\n",
    "\n",
    "#train using the algorithm\n",
    "lr.fit(X_train, y_train.values.ravel())\n",
    "\n",
    "#use the trained set to do prediction on test set\n",
    "y_pred_lr = lr.predict(X_test)"
   ]
  },
  {
   "cell_type": "code",
   "execution_count": 85,
   "id": "383ec7bf",
   "metadata": {},
   "outputs": [],
   "source": [
    "accuracy_lr=accuracy_score(y_test,y_pred_lr)\n",
    "recall_lr=recall_score(y_test,y_pred_lr)\n",
    "precision_lr=precision_score(y_test,y_pred_lr)\n",
    "f1_score_lr=f1_score(y_test,y_pred_lr)\n",
    "ROC_lr=roc_auc_score(y_test,y_pred_lr)"
   ]
  },
  {
   "cell_type": "code",
   "execution_count": 86,
   "id": "eb191d7c",
   "metadata": {},
   "outputs": [
    {
     "name": "stdout",
     "output_type": "stream",
     "text": [
      "[[1951  311]\n",
      " [ 314 1963]]\n"
     ]
    }
   ],
   "source": [
    "cm=confusion_matrix(y_test,y_pred_lr)\n",
    "print(cm)"
   ]
  },
  {
   "cell_type": "code",
   "execution_count": 87,
   "id": "a6f73305",
   "metadata": {},
   "outputs": [
    {
     "data": {
      "image/png": "[encoded data removed]",
      "text/plain": [
       "<Figure size 432x288 with 1 Axes>"
      ]
     },
     "metadata": {
      "needs_background": "light"
     },
     "output_type": "display_data"
    }
   ],
   "source": [
    "plt.clf()\n",
    "plt.imshow(cm, interpolation='nearest', cmap=plt.cm.Wistia)\n",
    "classNames = ['Negative','Positive']\n",
    "plt.title('Logistic Regression')\n",
    "plt.ylabel('True label')\n",
    "plt.xlabel('Predicted label')\n",
    "tick_marks = np.arange(len(classNames))\n",
    "plt.xticks(tick_marks, classNames, rotation=45)\n",
    "plt.yticks(tick_marks, classNames)\n",
    "s = [['TN','FP'], ['FN', 'TP']]\n",
    "for i in range(2):\n",
    "    for j in range(2):\n",
    "        plt.text(j,i, str(s[i][j])+\" = \"+str(cm[i][j]))\n",
    "plt.show()"
   ]
  },
  {
   "cell_type": "markdown",
   "id": "5e68ac64",
   "metadata": {},
   "source": [
    "## Support Vector Machine"
   ]
  },
  {
   "cell_type": "code",
   "execution_count": 88,
   "id": "fe135b1d",
   "metadata": {},
   "outputs": [],
   "source": [
    "#Support Vector Machine algorithm\n",
    "svc=SVC()\n",
    "\n",
    "#train using the algorithm\n",
    "svc.fit(X_train,y_train.values.ravel())\n",
    "\n",
    "#use the trained set to do prediction on test set\n",
    "y_pred_sv=svc.predict(X_test)"
   ]
  },
  {
   "cell_type": "code",
   "execution_count": 89,
   "id": "0bf7f53e",
   "metadata": {},
   "outputs": [],
   "source": [
    "accuracy_sv=accuracy_score(y_test,y_pred_sv)\n",
    "recall_sv=recall_score(y_test,y_pred_sv)\n",
    "precision_sv=precision_score(y_test,y_pred_sv)\n",
    "f1_score_sv=f1_score(y_test,y_pred_sv)\n",
    "ROC_sv=roc_auc_score(y_test,y_pred_sv)"
   ]
  },
  {
   "cell_type": "code",
   "execution_count": 90,
   "id": "c227b43e",
   "metadata": {},
   "outputs": [
    {
     "name": "stdout",
     "output_type": "stream",
     "text": [
      "[[1925  337]\n",
      " [ 268 2009]]\n"
     ]
    }
   ],
   "source": [
    "cm=confusion_matrix(y_test,y_pred_sv)\n",
    "print(cm)"
   ]
  },
  {
   "cell_type": "code",
   "execution_count": 91,
   "id": "fed94ec6",
   "metadata": {},
   "outputs": [
    {
     "data": {
      "image/png": "[encoded data removed]",
      "text/plain": [
       "<Figure size 432x288 with 1 Axes>"
      ]
     },
     "metadata": {
      "needs_background": "light"
     },
     "output_type": "display_data"
    }
   ],
   "source": [
    "#plot the confusion matrix\n",
    "plt.clf()\n",
    "plt.imshow(cm, interpolation='nearest', cmap=plt.cm.Wistia)\n",
    "classNames = ['Negative','Positive']\n",
    "plt.title('SVC')\n",
    "plt.ylabel('True label')\n",
    "plt.xlabel('Predicted label')\n",
    "tick_marks = np.arange(len(classNames))\n",
    "plt.xticks(tick_marks, classNames, rotation=45)\n",
    "plt.yticks(tick_marks, classNames)\n",
    "s = [['TN','FP'], ['FN', 'TP']]\n",
    "for i in range(2):\n",
    "    for j in range(2):\n",
    "        plt.text(j,i, str(s[i][j])+\" = \"+str(cm[i][j]))\n",
    "plt.show()"
   ]
  },
  {
   "cell_type": "markdown",
   "id": "84c920bb",
   "metadata": {},
   "source": [
    "## K-Nearest Neighbour "
   ]
  },
  {
   "cell_type": "code",
   "execution_count": 92,
   "id": "d6d9d708",
   "metadata": {},
   "outputs": [],
   "source": [
    "#K-Nearest Neighbour algorithm\n",
    "neigh = KNeighborsClassifier(n_neighbors=3)\n",
    "\n",
    "#train using the algorithm\n",
    "neigh.fit(X_train,y_train.values.ravel()) \n",
    "\n",
    "#use the trained set to do prediction on test set\n",
    "y_pred_knn=neigh.predict(X_test)"
   ]
  },
  {
   "cell_type": "code",
   "execution_count": 93,
   "id": "20193aa4",
   "metadata": {},
   "outputs": [],
   "source": [
    "accuracy_knn=accuracy_score(y_test,y_pred_knn)\n",
    "recall_knn=recall_score(y_test,y_pred_knn)\n",
    "precision_knn=precision_score(y_test,y_pred_knn)\n",
    "f1_score_knn=f1_score(y_test,y_pred_knn)\n",
    "ROC_knn=roc_auc_score(y_test,y_pred_knn)"
   ]
  },
  {
   "cell_type": "code",
   "execution_count": 94,
   "id": "4785bf3a",
   "metadata": {},
   "outputs": [
    {
     "name": "stdout",
     "output_type": "stream",
     "text": [
      "[[1820  442]\n",
      " [ 343 1934]]\n"
     ]
    }
   ],
   "source": [
    "cm=confusion_matrix(y_test,y_pred_knn)\n",
    "print(cm)"
   ]
  },
  {
   "cell_type": "code",
   "execution_count": 95,
   "id": "0f1271d1",
   "metadata": {},
   "outputs": [
    {
     "data": {
      "image/png": "[encoded data removed]",
      "text/plain": [
       "<Figure size 432x288 with 1 Axes>"
      ]
     },
     "metadata": {
      "needs_background": "light"
     },
     "output_type": "display_data"
    }
   ],
   "source": [
    "plt.clf()\n",
    "plt.imshow(cm, interpolation='nearest', cmap=plt.cm.Wistia)\n",
    "classNames = ['Negative','Positive']\n",
    "plt.title('K-nearest Neighbors')\n",
    "plt.ylabel('True label')\n",
    "plt.xlabel('Predicted label')\n",
    "tick_marks = np.arange(len(classNames))\n",
    "plt.xticks(tick_marks, classNames, rotation=45)\n",
    "plt.yticks(tick_marks, classNames)\n",
    "s = [['TN','FP'], ['FN', 'TP']]\n",
    "for i in range(2):\n",
    "    for j in range(2):\n",
    "        plt.text(j,i, str(s[i][j])+\" = \"+str(cm[i][j]))\n",
    "plt.show()"
   ]
  },
  {
   "cell_type": "markdown",
   "id": "85a87018",
   "metadata": {},
   "source": [
    "## Gaussian Naive Bayes"
   ]
  },
  {
   "cell_type": "code",
   "execution_count": 96,
   "id": "63a96d6a",
   "metadata": {},
   "outputs": [],
   "source": [
    "#Gaussian Naive Bayes algorithm\n",
    "nb = GaussianNB()\n",
    "\n",
    "#train using the algorithm\n",
    "nb.fit(X_train,y_train.values.ravel())\n",
    "\n",
    "#use the trained set to do prediction on test set\n",
    "y_pred_nb=nb.predict(X_test)"
   ]
  },
  {
   "cell_type": "code",
   "execution_count": 97,
   "id": "2eb6ec76",
   "metadata": {},
   "outputs": [],
   "source": [
    "accuracy_nb=accuracy_score(y_test,y_pred_nb)\n",
    "recall_nb=recall_score(y_test,y_pred_nb)\n",
    "precision_nb=precision_score(y_test,y_pred_nb)\n",
    "f1_score_nb=f1_score(y_test,y_pred_nb)\n",
    "ROC_nb=roc_auc_score(y_test,y_pred_nb)"
   ]
  },
  {
   "cell_type": "code",
   "execution_count": 98,
   "id": "e41ef81d",
   "metadata": {},
   "outputs": [
    {
     "name": "stdout",
     "output_type": "stream",
     "text": [
      "[[2009  253]\n",
      " [ 525 1752]]\n"
     ]
    }
   ],
   "source": [
    "cm=confusion_matrix(y_test,y_pred_nb)\n",
    "print(cm)"
   ]
  },
  {
   "cell_type": "code",
   "execution_count": 99,
   "id": "f742b5a5",
   "metadata": {},
   "outputs": [
    {
     "data": {
      "image/png": "[encoded data removed]",
      "text/plain": [
       "<Figure size 432x288 with 1 Axes>"
      ]
     },
     "metadata": {
      "needs_background": "light"
     },
     "output_type": "display_data"
    }
   ],
   "source": [
    "plt.clf()\n",
    "plt.imshow(cm, interpolation='nearest', cmap=plt.cm.Wistia)\n",
    "classNames = ['Negative','Positive']\n",
    "plt.title('Gaussian Naive Bayes')\n",
    "plt.ylabel('True label')\n",
    "plt.xlabel('Predicted label')\n",
    "tick_marks = np.arange(len(classNames))\n",
    "plt.xticks(tick_marks, classNames, rotation=45)\n",
    "plt.yticks(tick_marks, classNames)\n",
    "s = [['TN','FP'], ['FN', 'TP']]\n",
    "for i in range(2):\n",
    "    for j in range(2):\n",
    "        plt.text(j,i, str(s[i][j])+\" = \"+str(cm[i][j]))\n",
    "plt.show()"
   ]
  },
  {
   "cell_type": "markdown",
   "id": "ad258796",
   "metadata": {},
   "source": [
    "## Decision Tree"
   ]
  },
  {
   "cell_type": "code",
   "execution_count": 100,
   "id": "8a63c172",
   "metadata": {},
   "outputs": [],
   "source": [
    "#Decision Tree algorithm\n",
    "dt = DecisionTreeClassifier()\n",
    "\n",
    "#train using the algorithm\n",
    "dt.fit(X_train,y_train)\n",
    "\n",
    "#use the trained set to do prediction on test set\n",
    "y_pred_dt=dt.predict(X_test)"
   ]
  },
  {
   "cell_type": "code",
   "execution_count": 101,
   "id": "ce2a17c0",
   "metadata": {},
   "outputs": [],
   "source": [
    "accuracy_dt=accuracy_score(y_test,y_pred_dt)\n",
    "recall_dt=recall_score(y_test,y_pred_dt)\n",
    "precision_dt=precision_score(y_test,y_pred_dt)\n",
    "f1_score_dt=f1_score(y_test,y_pred_dt)\n",
    "ROC_dt=roc_auc_score(y_test,y_pred_dt)"
   ]
  },
  {
   "cell_type": "code",
   "execution_count": 102,
   "id": "7055c907",
   "metadata": {},
   "outputs": [
    {
     "name": "stdout",
     "output_type": "stream",
     "text": [
      "[[1848  414]\n",
      " [ 276 2001]]\n"
     ]
    }
   ],
   "source": [
    "cm=confusion_matrix(y_test,y_pred_dt)\n",
    "print(cm)"
   ]
  },
  {
   "cell_type": "code",
   "execution_count": 103,
   "id": "4f7b51ee",
   "metadata": {},
   "outputs": [
    {
     "data": {
      "image/png": "[encoded data removed]",
      "text/plain": [
       "<Figure size 432x288 with 1 Axes>"
      ]
     },
     "metadata": {
      "needs_background": "light"
     },
     "output_type": "display_data"
    }
   ],
   "source": [
    "#plot the confusion matrix\n",
    "plt.clf()\n",
    "plt.imshow(cm, interpolation='nearest', cmap=plt.cm.Wistia)\n",
    "classNames = ['Negative','Positive']\n",
    "plt.title('Decision Tree')\n",
    "plt.ylabel('True label')\n",
    "plt.xlabel('Predicted label')\n",
    "tick_marks = np.arange(len(classNames))\n",
    "plt.xticks(tick_marks, classNames, rotation=45)\n",
    "plt.yticks(tick_marks, classNames)\n",
    "s = [['TN','FP'], ['FN', 'TP']]\n",
    "for i in range(2):\n",
    "    for j in range(2):\n",
    "        plt.text(j,i, str(s[i][j])+\" = \"+str(cm[i][j]))\n",
    "plt.show()"
   ]
  },
  {
   "cell_type": "markdown",
   "id": "6dd866f3",
   "metadata": {},
   "source": [
    "## Artificial Neural Network"
   ]
  },
  {
   "cell_type": "code",
   "execution_count": 104,
   "id": "11519d86",
   "metadata": {},
   "outputs": [],
   "source": [
    "# first neural network with keras make predictions\n",
    "from numpy import loadtxt\n",
    "from keras.models import Sequential\n",
    "from keras.layers import Dense\n",
    "\n",
    "\n",
    "model = Sequential()\n",
    "model.add(Dense(12, input_dim=29, activation='relu'))\n",
    "\n",
    "model.add(Dense(1, activation='sigmoid'))\n",
    "    # compile the keras model\n",
    "model.compile(loss='binary_crossentropy', optimizer='adam', metrics=['accuracy','Recall','Precision'])\n",
    "    # fit the keras model on the dataset"
   ]
  },
  {
   "cell_type": "code",
   "execution_count": 105,
   "id": "ec8de744",
   "metadata": {},
   "outputs": [
    {
     "name": "stdout",
     "output_type": "stream",
     "text": [
      "Epoch 1/150\n",
      "707/707 [==============================] - ETA: 0s - loss: 0.4971 - accuracy: 0.7978 - recall: 0.9118 - precision: 0.745 - 46s 2ms/step - loss: 0.4947 - accuracy: 0.7989 - recall: 0.9114 - precision: 0.7469\n",
      "Epoch 2/150\n",
      "707/707 [==============================] - 1s 2ms/step - loss: 0.3104 - accuracy: 0.8649 - recall: 0.8717 - precision: 0.8616\n",
      "Epoch 3/150\n",
      "707/707 [==============================] - 1s 2ms/step - loss: 0.3009 - accuracy: 0.8672 - recall: 0.8666 - precision: 0.8661\n",
      "Epoch 4/150\n",
      "707/707 [==============================] - 1s 2ms/step - loss: 0.2901 - accuracy: 0.8734 - recall: 0.8733 - precision: 0.8730\n",
      "Epoch 5/150\n",
      "707/707 [==============================] - 1s 2ms/step - loss: 0.2928 - accuracy: 0.8702 - recall: 0.8706 - precision: 0.8677\n",
      "Epoch 6/150\n",
      "707/707 [==============================] - 1s 2ms/step - loss: 0.2966 - accuracy: 0.8670 - recall: 0.8743 - precision: 0.8644\n",
      "Epoch 7/150\n",
      "707/707 [==============================] - 1s 2ms/step - loss: 0.2999 - accuracy: 0.8649 - recall: 0.8702 - precision: 0.8620\n",
      "Epoch 8/150\n",
      "707/707 [==============================] - 1s 2ms/step - loss: 0.2930 - accuracy: 0.8654 - recall: 0.8768 - precision: 0.8553\n",
      "Epoch 9/150\n",
      "707/707 [==============================] - 1s 2ms/step - loss: 0.3054 - accuracy: 0.8657 - recall: 0.8808 - precision: 0.8571\n",
      "Epoch 10/150\n",
      "707/707 [==============================] - 1s 2ms/step - loss: 0.2879 - accuracy: 0.8709 - recall: 0.8804 - precision: 0.8661\n",
      "Epoch 11/150\n",
      "707/707 [==============================] - 1s 2ms/step - loss: 0.2901 - accuracy: 0.8715 - recall: 0.8762 - precision: 0.8678\n",
      "Epoch 12/150\n",
      "707/707 [==============================] - 1s 2ms/step - loss: 0.2866 - accuracy: 0.8679 - recall: 0.8827 - precision: 0.8561\n",
      "Epoch 13/150\n",
      "707/707 [==============================] - 1s 2ms/step - loss: 0.2897 - accuracy: 0.8703 - recall: 0.8784 - precision: 0.8618\n",
      "Epoch 14/150\n",
      "707/707 [==============================] - 1s 2ms/step - loss: 0.2875 - accuracy: 0.8722 - recall: 0.8849 - precision: 0.8628\n",
      "Epoch 15/150\n",
      "707/707 [==============================] - 1s 2ms/step - loss: 0.2914 - accuracy: 0.8679 - recall: 0.8754 - precision: 0.8602\n",
      "Epoch 16/150\n",
      "707/707 [==============================] - 1s 2ms/step - loss: 0.2886 - accuracy: 0.8740 - recall: 0.8966 - precision: 0.8614\n",
      "Epoch 17/150\n",
      "707/707 [==============================] - 1s 2ms/step - loss: 0.3012 - accuracy: 0.8640 - recall: 0.8720 - precision: 0.8574\n",
      "Epoch 18/150\n",
      "707/707 [==============================] - 1s 2ms/step - loss: 0.2838 - accuracy: 0.8741 - recall: 0.8911 - precision: 0.8603\n",
      "Epoch 19/150\n",
      "707/707 [==============================] - 1s 2ms/step - loss: 0.2928 - accuracy: 0.8677 - recall: 0.8841 - precision: 0.8591\n",
      "Epoch 20/150\n",
      "707/707 [==============================] - 1s 2ms/step - loss: 0.2867 - accuracy: 0.8698 - recall: 0.8840 - precision: 0.8582\n",
      "Epoch 21/150\n",
      "707/707 [==============================] - 1s 2ms/step - loss: 0.2946 - accuracy: 0.8675 - recall: 0.8876 - precision: 0.8523\n",
      "Epoch 22/150\n",
      "707/707 [==============================] - 1s 2ms/step - loss: 0.2849 - accuracy: 0.8756 - recall: 0.8949 - precision: 0.8601\n",
      "Epoch 23/150\n",
      "707/707 [==============================] - 1s 2ms/step - loss: 0.2888 - accuracy: 0.8701 - recall: 0.8775 - precision: 0.8602\n",
      "Epoch 24/150\n",
      "707/707 [==============================] - 1s 2ms/step - loss: 0.2852 - accuracy: 0.8754 - recall: 0.8994 - precision: 0.8567\n",
      "Epoch 25/150\n",
      "707/707 [==============================] - 1s 2ms/step - loss: 0.2895 - accuracy: 0.8729 - recall: 0.8958 - precision: 0.8571\n",
      "Epoch 26/150\n",
      "707/707 [==============================] - 1s 2ms/step - loss: 0.2832 - accuracy: 0.8740 - recall: 0.8894 - precision: 0.8615\n",
      "Epoch 27/150\n",
      "707/707 [==============================] - 1s 2ms/step - loss: 0.2810 - accuracy: 0.8779 - recall: 0.8928 - precision: 0.8668\n",
      "Epoch 28/150\n",
      "707/707 [==============================] - 1s 2ms/step - loss: 0.2970 - accuracy: 0.8647 - recall: 0.8765 - precision: 0.8518\n",
      "Epoch 29/150\n",
      "707/707 [==============================] - 1s 2ms/step - loss: 0.2942 - accuracy: 0.8683 - recall: 0.8887 - precision: 0.8569\n",
      "Epoch 30/150\n",
      "707/707 [==============================] - 1s 2ms/step - loss: 0.2914 - accuracy: 0.8712 - recall: 0.8950 - precision: 0.8562\n",
      "Epoch 31/150\n",
      "707/707 [==============================] - 1s 2ms/step - loss: 0.2800 - accuracy: 0.8785 - recall: 0.8979 - precision: 0.8634\n",
      "Epoch 32/150\n",
      "707/707 [==============================] - 1s 2ms/step - loss: 0.2819 - accuracy: 0.8743 - recall: 0.8895 - precision: 0.8665\n",
      "Epoch 33/150\n",
      "707/707 [==============================] - 1s 2ms/step - loss: 0.2895 - accuracy: 0.8692 - recall: 0.8936 - precision: 0.8513\n",
      "Epoch 34/150\n",
      "707/707 [==============================] - 1s 2ms/step - loss: 0.2873 - accuracy: 0.8718 - recall: 0.8966 - precision: 0.8578\n",
      "Epoch 35/150\n",
      "707/707 [==============================] - 1s 2ms/step - loss: 0.2928 - accuracy: 0.8662 - recall: 0.8887 - precision: 0.8500\n",
      "Epoch 36/150\n",
      "707/707 [==============================] - 1s 2ms/step - loss: 0.2984 - accuracy: 0.8693 - recall: 0.8941 - precision: 0.8517\n",
      "Epoch 37/150\n",
      "707/707 [==============================] - 1s 2ms/step - loss: 0.2827 - accuracy: 0.8724 - recall: 0.8919 - precision: 0.8561\n",
      "Epoch 38/150\n",
      "707/707 [==============================] - 1s 2ms/step - loss: 0.2854 - accuracy: 0.8760 - recall: 0.8995 - precision: 0.8597\n",
      "Epoch 39/150\n",
      "707/707 [==============================] - 1s 2ms/step - loss: 0.2999 - accuracy: 0.8643 - recall: 0.8922 - precision: 0.8468\n",
      "Epoch 40/150\n",
      "707/707 [==============================] - 1s 2ms/step - loss: 0.2899 - accuracy: 0.8720 - recall: 0.8936 - precision: 0.8544\n",
      "Epoch 41/150\n",
      "707/707 [==============================] - 1s 2ms/step - loss: 0.2894 - accuracy: 0.8742 - recall: 0.8970 - precision: 0.8566\n",
      "Epoch 42/150\n",
      "707/707 [==============================] - 1s 2ms/step - loss: 0.2789 - accuracy: 0.8780 - recall: 0.9024 - precision: 0.8604\n",
      "Epoch 43/150\n",
      "707/707 [==============================] - 1s 2ms/step - loss: 0.2884 - accuracy: 0.8694 - recall: 0.8881 - precision: 0.8514\n",
      "Epoch 44/150\n",
      "707/707 [==============================] - 1s 2ms/step - loss: 0.2898 - accuracy: 0.8702 - recall: 0.8859 - precision: 0.8580\n",
      "Epoch 45/150\n",
      "707/707 [==============================] - 1s 2ms/step - loss: 0.2787 - accuracy: 0.8798 - recall: 0.8965 - precision: 0.8669\n",
      "Epoch 46/150\n",
      "707/707 [==============================] - 1s 2ms/step - loss: 0.2744 - accuracy: 0.8795 - recall: 0.9028 - precision: 0.8649\n",
      "Epoch 47/150\n",
      "707/707 [==============================] - 1s 2ms/step - loss: 0.2705 - accuracy: 0.8789 - recall: 0.9013 - precision: 0.8634\n",
      "Epoch 48/150\n",
      "707/707 [==============================] - 1s 2ms/step - loss: 0.2899 - accuracy: 0.8686 - recall: 0.8745 - precision: 0.8617\n",
      "Epoch 49/150\n",
      "707/707 [==============================] - 1s 2ms/step - loss: 0.2845 - accuracy: 0.8720 - recall: 0.9015 - precision: 0.8525\n",
      "Epoch 50/150\n",
      "707/707 [==============================] - 1s 2ms/step - loss: 0.2805 - accuracy: 0.8789 - recall: 0.9043 - precision: 0.8593\n",
      "Epoch 51/150\n",
      "707/707 [==============================] - 1s 2ms/step - loss: 0.2854 - accuracy: 0.8709 - recall: 0.8924 - precision: 0.8577\n",
      "Epoch 52/150\n",
      "707/707 [==============================] - 1s 2ms/step - loss: 0.2840 - accuracy: 0.8745 - recall: 0.8923 - precision: 0.8609\n",
      "Epoch 53/150\n",
      "707/707 [==============================] - 1s 2ms/step - loss: 0.2822 - accuracy: 0.8731 - recall: 0.8891 - precision: 0.8614\n",
      "Epoch 54/150\n",
      "707/707 [==============================] - 1s 2ms/step - loss: 0.2915 - accuracy: 0.8734 - recall: 0.9014 - precision: 0.8532\n",
      "Epoch 55/150\n",
      "707/707 [==============================] - 1s 2ms/step - loss: 0.2968 - accuracy: 0.8673 - recall: 0.8926 - precision: 0.8495A: 1s - loss: 0.2958 - accuracy: 0.8731 - recall: 0.9\n",
      "Epoch 56/150\n",
      "707/707 [==============================] - 1s 2ms/step - loss: 0.2883 - accuracy: 0.8709 - recall: 0.8743 - precision: 0.8683\n",
      "Epoch 57/150\n",
      "707/707 [==============================] - 1s 2ms/step - loss: 0.2858 - accuracy: 0.8731 - recall: 0.8878 - precision: 0.8624\n",
      "Epoch 58/150\n",
      "707/707 [==============================] - 1s 2ms/step - loss: 0.2822 - accuracy: 0.8744 - recall: 0.8984 - precision: 0.8574\n",
      "Epoch 59/150\n"
     ]
    },
    {
     "name": "stdout",
     "output_type": "stream",
     "text": [
      "707/707 [==============================] - 1s 2ms/step - loss: 0.2840 - accuracy: 0.8744 - recall: 0.9062 - precision: 0.8540\n",
      "Epoch 60/150\n",
      "707/707 [==============================] - 1s 2ms/step - loss: 0.2861 - accuracy: 0.8701 - recall: 0.8851 - precision: 0.8561\n",
      "Epoch 61/150\n",
      "707/707 [==============================] - 1s 2ms/step - loss: 0.2816 - accuracy: 0.8731 - recall: 0.8801 - precision: 0.8665\n",
      "Epoch 62/150\n",
      "707/707 [==============================] - 1s 2ms/step - loss: 0.2842 - accuracy: 0.8755 - recall: 0.8908 - precision: 0.8668\n",
      "Epoch 63/150\n",
      "707/707 [==============================] - 1s 2ms/step - loss: 0.2832 - accuracy: 0.8745 - recall: 0.8940 - precision: 0.8587\n",
      "Epoch 64/150\n",
      "707/707 [==============================] - 1s 2ms/step - loss: 0.2798 - accuracy: 0.8785 - recall: 0.8956 - precision: 0.8694\n",
      "Epoch 65/150\n",
      "707/707 [==============================] - 1s 2ms/step - loss: 0.2912 - accuracy: 0.8669 - recall: 0.8882 - precision: 0.8546\n",
      "Epoch 66/150\n",
      "707/707 [==============================] - 1s 2ms/step - loss: 0.2915 - accuracy: 0.8690 - recall: 0.8773 - precision: 0.8617\n",
      "Epoch 67/150\n",
      "707/707 [==============================] - 1s 2ms/step - loss: 0.2924 - accuracy: 0.8732 - recall: 0.8953 - precision: 0.8579\n",
      "Epoch 68/150\n",
      "707/707 [==============================] - 1s 2ms/step - loss: 0.2871 - accuracy: 0.8712 - recall: 0.8873 - precision: 0.8607\n",
      "Epoch 69/150\n",
      "707/707 [==============================] - 1s 2ms/step - loss: 0.2822 - accuracy: 0.8768 - recall: 0.8909 - precision: 0.8659\n",
      "Epoch 70/150\n",
      "707/707 [==============================] - 1s 2ms/step - loss: 0.2797 - accuracy: 0.8755 - recall: 0.8957 - precision: 0.8619\n",
      "Epoch 71/150\n",
      "707/707 [==============================] - 1s 2ms/step - loss: 0.2860 - accuracy: 0.8700 - recall: 0.8871 - precision: 0.8586\n",
      "Epoch 72/150\n",
      "707/707 [==============================] - 1s 2ms/step - loss: 0.2889 - accuracy: 0.8680 - recall: 0.8859 - precision: 0.8554\n",
      "Epoch 73/150\n",
      "707/707 [==============================] - 1s 2ms/step - loss: 0.2857 - accuracy: 0.8725 - recall: 0.8867 - precision: 0.8601\n",
      "Epoch 74/150\n",
      "707/707 [==============================] - 1s 2ms/step - loss: 0.2901 - accuracy: 0.8731 - recall: 0.8979 - precision: 0.8565\n",
      "Epoch 75/150\n",
      "707/707 [==============================] - 1s 2ms/step - loss: 0.2871 - accuracy: 0.8728 - recall: 0.8900 - precision: 0.8593\n",
      "Epoch 76/150\n",
      "707/707 [==============================] - 1s 2ms/step - loss: 0.2790 - accuracy: 0.8758 - recall: 0.9021 - precision: 0.8549\n",
      "Epoch 77/150\n",
      "707/707 [==============================] - 1s 2ms/step - loss: 0.2952 - accuracy: 0.8676 - recall: 0.8880 - precision: 0.8526\n",
      "Epoch 78/150\n",
      "707/707 [==============================] - 1s 2ms/step - loss: 0.2874 - accuracy: 0.8701 - recall: 0.8896 - precision: 0.8583\n",
      "Epoch 79/150\n",
      "707/707 [==============================] - 1s 2ms/step - loss: 0.2918 - accuracy: 0.8664 - recall: 0.8846 - precision: 0.8506\n",
      "Epoch 80/150\n",
      "707/707 [==============================] - 1s 2ms/step - loss: 0.2726 - accuracy: 0.8802 - recall: 0.8961 - precision: 0.8692\n",
      "Epoch 81/150\n",
      "707/707 [==============================] - 1s 2ms/step - loss: 0.2817 - accuracy: 0.8755 - recall: 0.9052 - precision: 0.8533A: 1s - loss: 0.2706 - accuracy: 0.8770 - recall: 0.9323\n",
      "Epoch 82/150\n",
      "707/707 [==============================] - 1s 2ms/step - loss: 0.2834 - accuracy: 0.8777 - recall: 0.8907 - precision: 0.8667\n",
      "Epoch 83/150\n",
      "707/707 [==============================] - 1s 2ms/step - loss: 0.2849 - accuracy: 0.8727 - recall: 0.8875 - precision: 0.8544\n",
      "Epoch 84/150\n",
      "707/707 [==============================] - 1s 2ms/step - loss: 0.2876 - accuracy: 0.8759 - recall: 0.9078 - precision: 0.8535\n",
      "Epoch 85/150\n",
      "707/707 [==============================] - 1s 2ms/step - loss: 0.2899 - accuracy: 0.8719 - recall: 0.8874 - precision: 0.8610\n",
      "Epoch 86/150\n",
      "707/707 [==============================] - 1s 2ms/step - loss: 0.2808 - accuracy: 0.8767 - recall: 0.8930 - precision: 0.8638\n",
      "Epoch 87/150\n",
      "707/707 [==============================] - 1s 2ms/step - loss: 0.2828 - accuracy: 0.8757 - recall: 0.8976 - precision: 0.8601\n",
      "Epoch 88/150\n",
      "707/707 [==============================] - 1s 2ms/step - loss: 0.2799 - accuracy: 0.8773 - recall: 0.8961 - precision: 0.8658\n",
      "Epoch 89/150\n",
      "707/707 [==============================] - 1s 2ms/step - loss: 0.2922 - accuracy: 0.8718 - recall: 0.8758 - precision: 0.8660\n",
      "Epoch 90/150\n",
      "707/707 [==============================] - 1s 2ms/step - loss: 0.2817 - accuracy: 0.8732 - recall: 0.8910 - precision: 0.8590\n",
      "Epoch 91/150\n",
      "707/707 [==============================] - 1s 2ms/step - loss: 0.2851 - accuracy: 0.8712 - recall: 0.8956 - precision: 0.8557\n",
      "Epoch 92/150\n",
      "707/707 [==============================] - 1s 2ms/step - loss: 0.2858 - accuracy: 0.8729 - recall: 0.8939 - precision: 0.8561\n",
      "Epoch 93/150\n",
      "707/707 [==============================] - 1s 2ms/step - loss: 0.2880 - accuracy: 0.8671 - recall: 0.8834 - precision: 0.8558\n",
      "Epoch 94/150\n",
      "707/707 [==============================] - 1s 2ms/step - loss: 0.2716 - accuracy: 0.8787 - recall: 0.8888 - precision: 0.8695\n",
      "Epoch 95/150\n",
      "707/707 [==============================] - 1s 2ms/step - loss: 0.2836 - accuracy: 0.8723 - recall: 0.8924 - precision: 0.8579\n",
      "Epoch 96/150\n",
      "707/707 [==============================] - 1s 2ms/step - loss: 0.2820 - accuracy: 0.8763 - recall: 0.9033 - precision: 0.8575\n",
      "Epoch 97/150\n",
      "707/707 [==============================] - 1s 2ms/step - loss: 0.2844 - accuracy: 0.8743 - recall: 0.8996 - precision: 0.8536\n",
      "Epoch 98/150\n",
      "707/707 [==============================] - 1s 2ms/step - loss: 0.2746 - accuracy: 0.8772 - recall: 0.8874 - precision: 0.8728\n",
      "Epoch 99/150\n",
      "707/707 [==============================] - 1s 2ms/step - loss: 0.2825 - accuracy: 0.8732 - recall: 0.8970 - precision: 0.8521\n",
      "Epoch 100/150\n",
      "707/707 [==============================] - 1s 2ms/step - loss: 0.2759 - accuracy: 0.8776 - recall: 0.8951 - precision: 0.8603\n",
      "Epoch 101/150\n",
      "707/707 [==============================] - 1s 2ms/step - loss: 0.2812 - accuracy: 0.8753 - recall: 0.8970 - precision: 0.8590\n",
      "Epoch 102/150\n",
      "707/707 [==============================] - 1s 2ms/step - loss: 0.2812 - accuracy: 0.8726 - recall: 0.8990 - precision: 0.8538\n",
      "Epoch 103/150\n",
      "707/707 [==============================] - 1s 2ms/step - loss: 0.2806 - accuracy: 0.8741 - recall: 0.8918 - precision: 0.8607\n",
      "Epoch 104/150\n",
      "707/707 [==============================] - 1s 2ms/step - loss: 0.2842 - accuracy: 0.8732 - recall: 0.8897 - precision: 0.8603\n",
      "Epoch 105/150\n",
      "707/707 [==============================] - 1s 2ms/step - loss: 0.2810 - accuracy: 0.8766 - recall: 0.8964 - precision: 0.8601\n",
      "Epoch 106/150\n",
      "707/707 [==============================] - 1s 2ms/step - loss: 0.2830 - accuracy: 0.8729 - recall: 0.8931 - precision: 0.8571\n",
      "Epoch 107/150\n",
      "707/707 [==============================] - 1s 2ms/step - loss: 0.2816 - accuracy: 0.8714 - recall: 0.8879 - precision: 0.8622\n",
      "Epoch 108/150\n",
      "707/707 [==============================] - 1s 2ms/step - loss: 0.2818 - accuracy: 0.8744 - recall: 0.8973 - precision: 0.8601\n",
      "Epoch 109/150\n",
      "707/707 [==============================] - 1s 2ms/step - loss: 0.2881 - accuracy: 0.8708 - recall: 0.8922 - precision: 0.8576\n",
      "Epoch 110/150\n",
      "707/707 [==============================] - 1s 2ms/step - loss: 0.2808 - accuracy: 0.8750 - recall: 0.8929 - precision: 0.8620\n",
      "Epoch 111/150\n",
      "707/707 [==============================] - 1s 2ms/step - loss: 0.2685 - accuracy: 0.8819 - recall: 0.9040 - precision: 0.8659\n",
      "Epoch 112/150\n",
      "707/707 [==============================] - 1s 2ms/step - loss: 0.2844 - accuracy: 0.8724 - recall: 0.8931 - precision: 0.8554\n",
      "Epoch 113/150\n",
      "707/707 [==============================] - 1s 2ms/step - loss: 0.2784 - accuracy: 0.8754 - recall: 0.9009 - precision: 0.8579\n",
      "Epoch 114/150\n",
      "707/707 [==============================] - 1s 2ms/step - loss: 0.2816 - accuracy: 0.8752 - recall: 0.8979 - precision: 0.8591\n",
      "Epoch 115/150\n",
      "707/707 [==============================] - 1s 2ms/step - loss: 0.2867 - accuracy: 0.8708 - recall: 0.8899 - precision: 0.8566\n",
      "Epoch 116/150\n",
      "707/707 [==============================] - 1s 2ms/step - loss: 0.2827 - accuracy: 0.8736 - recall: 0.8965 - precision: 0.8556\n",
      "Epoch 117/150\n"
     ]
    },
    {
     "name": "stdout",
     "output_type": "stream",
     "text": [
      "707/707 [==============================] - 1s 2ms/step - loss: 0.2804 - accuracy: 0.8768 - recall: 0.8928 - precision: 0.8668\n",
      "Epoch 118/150\n",
      "707/707 [==============================] - 1s 2ms/step - loss: 0.2834 - accuracy: 0.8758 - recall: 0.9084 - precision: 0.8541\n",
      "Epoch 119/150\n",
      "707/707 [==============================] - 1s 2ms/step - loss: 0.2809 - accuracy: 0.8738 - recall: 0.8890 - precision: 0.8595\n",
      "Epoch 120/150\n",
      "707/707 [==============================] - 1s 2ms/step - loss: 0.2789 - accuracy: 0.8750 - recall: 0.8966 - precision: 0.8581\n",
      "Epoch 121/150\n",
      "707/707 [==============================] - 1s 2ms/step - loss: 0.2815 - accuracy: 0.8734 - recall: 0.8858 - precision: 0.8595\n",
      "Epoch 122/150\n",
      "707/707 [==============================] - 1s 2ms/step - loss: 0.2843 - accuracy: 0.8730 - recall: 0.8979 - precision: 0.8557\n",
      "Epoch 123/150\n",
      "707/707 [==============================] - 1s 2ms/step - loss: 0.2848 - accuracy: 0.8730 - recall: 0.8932 - precision: 0.8577\n",
      "Epoch 124/150\n",
      "707/707 [==============================] - 1s 2ms/step - loss: 0.2744 - accuracy: 0.8788 - recall: 0.9024 - precision: 0.8634\n",
      "Epoch 125/150\n",
      "707/707 [==============================] - 1s 2ms/step - loss: 0.2843 - accuracy: 0.8710 - recall: 0.8907 - precision: 0.8575\n",
      "Epoch 126/150\n",
      "707/707 [==============================] - 1s 2ms/step - loss: 0.2842 - accuracy: 0.8740 - recall: 0.8941 - precision: 0.8621\n",
      "Epoch 127/150\n",
      "707/707 [==============================] - 1s 2ms/step - loss: 0.2717 - accuracy: 0.8802 - recall: 0.9020 - precision: 0.8640\n",
      "Epoch 128/150\n",
      "707/707 [==============================] - 1s 2ms/step - loss: 0.2826 - accuracy: 0.8763 - recall: 0.9031 - precision: 0.8574\n",
      "Epoch 129/150\n",
      "707/707 [==============================] - 1s 2ms/step - loss: 0.2741 - accuracy: 0.8815 - recall: 0.9038 - precision: 0.8641\n",
      "Epoch 130/150\n",
      "707/707 [==============================] - 1s 2ms/step - loss: 0.2822 - accuracy: 0.8736 - recall: 0.8852 - precision: 0.8636\n",
      "Epoch 131/150\n",
      "707/707 [==============================] - 1s 2ms/step - loss: 0.2671 - accuracy: 0.8794 - recall: 0.8966 - precision: 0.8675\n",
      "Epoch 132/150\n",
      "707/707 [==============================] - 1s 2ms/step - loss: 0.2772 - accuracy: 0.8748 - recall: 0.8878 - precision: 0.8603\n",
      "Epoch 133/150\n",
      "707/707 [==============================] - 1s 2ms/step - loss: 0.2824 - accuracy: 0.8745 - recall: 0.9041 - precision: 0.8551\n",
      "Epoch 134/150\n",
      "707/707 [==============================] - 1s 2ms/step - loss: 0.2703 - accuracy: 0.8811 - recall: 0.9036 - precision: 0.8652\n",
      "Epoch 135/150\n",
      "707/707 [==============================] - 1s 2ms/step - loss: 0.2745 - accuracy: 0.8821 - recall: 0.8941 - precision: 0.8719\n",
      "Epoch 136/150\n",
      "707/707 [==============================] - 1s 2ms/step - loss: 0.2790 - accuracy: 0.8752 - recall: 0.8962 - precision: 0.8575\n",
      "Epoch 137/150\n",
      "707/707 [==============================] - 1s 2ms/step - loss: 0.2783 - accuracy: 0.8784 - recall: 0.8972 - precision: 0.8635\n",
      "Epoch 138/150\n",
      "707/707 [==============================] - 1s 2ms/step - loss: 0.2809 - accuracy: 0.8738 - recall: 0.8849 - precision: 0.8644\n",
      "Epoch 139/150\n",
      "707/707 [==============================] - 1s 2ms/step - loss: 0.2792 - accuracy: 0.8748 - recall: 0.8944 - precision: 0.8638\n",
      "Epoch 140/150\n",
      "707/707 [==============================] - 1s 2ms/step - loss: 0.2863 - accuracy: 0.8759 - recall: 0.9018 - precision: 0.8585\n",
      "Epoch 141/150\n",
      "707/707 [==============================] - 1s 2ms/step - loss: 0.2745 - accuracy: 0.8797 - recall: 0.8958 - precision: 0.8691\n",
      "Epoch 142/150\n",
      "707/707 [==============================] - 1s 2ms/step - loss: 0.2852 - accuracy: 0.8707 - recall: 0.8876 - precision: 0.8570\n",
      "Epoch 143/150\n",
      "707/707 [==============================] - 1s 2ms/step - loss: 0.2878 - accuracy: 0.8706 - recall: 0.8928 - precision: 0.8525\n",
      "Epoch 144/150\n",
      "707/707 [==============================] - 1s 2ms/step - loss: 0.2835 - accuracy: 0.8754 - recall: 0.8965 - precision: 0.8608\n",
      "Epoch 145/150\n",
      "707/707 [==============================] - 1s 2ms/step - loss: 0.2784 - accuracy: 0.8780 - recall: 0.9012 - precision: 0.8616\n",
      "Epoch 146/150\n",
      "707/707 [==============================] - 1s 2ms/step - loss: 0.2890 - accuracy: 0.8727 - recall: 0.8868 - precision: 0.8599\n",
      "Epoch 147/150\n",
      "707/707 [==============================] - 1s 2ms/step - loss: 0.2775 - accuracy: 0.8741 - recall: 0.8935 - precision: 0.8610\n",
      "Epoch 148/150\n",
      "707/707 [==============================] - 1s 2ms/step - loss: 0.2845 - accuracy: 0.8726 - recall: 0.8907 - precision: 0.8612\n",
      "Epoch 149/150\n",
      "707/707 [==============================] - 1s 2ms/step - loss: 0.2782 - accuracy: 0.8766 - recall: 0.9048 - precision: 0.8559\n",
      "Epoch 150/150\n",
      "707/707 [==============================] - 1s 2ms/step - loss: 0.2792 - accuracy: 0.8771 - recall: 0.8984 - precision: 0.8600\n"
     ]
    },
    {
     "data": {
      "text/plain": [
       "<keras.callbacks.History at 0x1f5a9972190>"
      ]
     },
     "execution_count": 105,
     "metadata": {},
     "output_type": "execute_result"
    }
   ],
   "source": [
    "model.fit(X_train, y_train, epochs=150, batch_size=15)\n"
   ]
  },
  {
   "cell_type": "code",
   "execution_count": 106,
   "id": "433476e9",
   "metadata": {},
   "outputs": [
    {
     "name": "stderr",
     "output_type": "stream",
     "text": [
      "C:\\Users\\user\\anaconda3\\lib\\site-packages\\keras\\engine\\sequential.py:450: UserWarning:\n",
      "\n",
      "`model.predict_classes()` is deprecated and will be removed after 2021-01-01. Please use instead:* `np.argmax(model.predict(x), axis=-1)`,   if your model does multi-class classification   (e.g. if it uses a `softmax` last-layer activation).* `(model.predict(x) > 0.5).astype(\"int32\")`,   if your model does binary classification   (e.g. if it uses a `sigmoid` last-layer activation).\n",
      "\n"
     ]
    }
   ],
   "source": [
    "y_pred_ann=model.predict_classes(X_test)"
   ]
  },
  {
   "cell_type": "code",
   "execution_count": 107,
   "id": "d12c7273",
   "metadata": {},
   "outputs": [],
   "source": [
    "accuracy_ann=accuracy_score(y_test,y_pred_ann)\n",
    "recall_ann=recall_score(y_test,y_pred_ann)\n",
    "precision_ann=precision_score(y_test,y_pred_ann)\n",
    "f1_score_ann=f1_score(y_test,y_pred_ann)\n",
    "ROC_ann=roc_auc_score(y_test,y_pred_ann)"
   ]
  },
  {
   "cell_type": "code",
   "execution_count": 108,
   "id": "f6ef7be2",
   "metadata": {},
   "outputs": [
    {
     "name": "stdout",
     "output_type": "stream",
     "text": [
      "[[1846  416]\n",
      " [ 224 2053]]\n"
     ]
    }
   ],
   "source": [
    "confusion_mtx = confusion_matrix(y_test, y_pred_ann) \n",
    "print(confusion_mtx)"
   ]
  },
  {
   "cell_type": "code",
   "execution_count": 109,
   "id": "9c8f51b8",
   "metadata": {},
   "outputs": [
    {
     "data": {
      "image/png": "[encoded data removed]",
      "text/plain": [
       "<Figure size 432x288 with 1 Axes>"
      ]
     },
     "metadata": {
      "needs_background": "light"
     },
     "output_type": "display_data"
    }
   ],
   "source": [
    "plt.clf()\n",
    "plt.imshow(confusion_mtx, interpolation='nearest', cmap=plt.cm.Wistia)\n",
    "classNames = ['Negative','Positive']\n",
    "plt.title('Decision Tree')\n",
    "plt.ylabel('True label')\n",
    "plt.xlabel('Predicted label')\n",
    "tick_marks = np.arange(len(classNames))\n",
    "plt.xticks(tick_marks, classNames, rotation=45)\n",
    "plt.yticks(tick_marks, classNames)\n",
    "s = [['TN','FP'], ['FN', 'TP']]\n",
    "for i in range(2):\n",
    "    for j in range(2):\n",
    "        plt.text(j,i, str(s[i][j])+\" = \"+str(cm[i][j]))\n",
    "plt.show()"
   ]
  },
  {
   "cell_type": "markdown",
   "id": "9600b460",
   "metadata": {},
   "source": [
    "# Model Performance\n",
    "\n",
    "### Model Performance metrics "
   ]
  },
  {
   "cell_type": "code",
   "execution_count": 110,
   "id": "f8401cf7",
   "metadata": {},
   "outputs": [
    {
     "data": {
      "application/vnd.plotly.v1+json": {
       "config": {
        "linkText": "Export to plot.ly",
        "plotlyServerURL": "https://plot.ly",
        "showLink": false
       },
       "data": [
        {
         "colorscale": [
          [
           0,
           "#00083e"
          ],
          [
           0.5,
           "#ededee"
          ],
          [
           1,
           "#ffffff"
          ]
         ],
         "hoverinfo": "none",
         "opacity": 0.75,
         "showscale": false,
         "type": "heatmap",
         "z": [
          [
           0,
           0,
           0,
           0,
           0,
           0
          ],
          [
           0.5,
           0.5,
           0.5,
           0.5,
           0.5,
           0.5
          ],
          [
           1,
           1,
           1,
           1,
           1,
           1
          ],
          [
           0.5,
           0.5,
           0.5,
           0.5,
           0.5,
           0.5
          ],
          [
           1,
           1,
           1,
           1,
           1,
           1
          ],
          [
           0.5,
           0.5,
           0.5,
           0.5,
           0.5,
           0.5
          ],
          [
           1,
           1,
           1,
           1,
           1,
           1
          ],
          [
           0.5,
           0.5,
           0.5,
           0.5,
           0.5,
           0.5
          ]
         ]
        }
       ],
       "layout": {
        "annotations": [
         {
          "align": "left",
          "font": {
           "color": "#ffffff"
          },
          "showarrow": false,
          "text": "<b>Model</b>",
          "x": -0.45,
          "xanchor": "left",
          "xref": "x",
          "y": 0,
          "yref": "y"
         },
         {
          "align": "left",
          "font": {
           "color": "#ffffff"
          },
          "showarrow": false,
          "text": "<b>Accuracy_score</b>",
          "x": 0.55,
          "xanchor": "left",
          "xref": "x",
          "y": 0,
          "yref": "y"
         },
         {
          "align": "left",
          "font": {
           "color": "#ffffff"
          },
          "showarrow": false,
          "text": "<b>Recall_score</b>",
          "x": 1.55,
          "xanchor": "left",
          "xref": "x",
          "y": 0,
          "yref": "y"
         },
         {
          "align": "left",
          "font": {
           "color": "#ffffff"
          },
          "showarrow": false,
          "text": "<b>Precision</b>",
          "x": 2.55,
          "xanchor": "left",
          "xref": "x",
          "y": 0,
          "yref": "y"
         },
         {
          "align": "left",
          "font": {
           "color": "#ffffff"
          },
          "showarrow": false,
          "text": "<b>f1_score</b>",
          "x": 3.55,
          "xanchor": "left",
          "xref": "x",
          "y": 0,
          "yref": "y"
         },
         {
          "align": "left",
          "font": {
           "color": "#ffffff"
          },
          "showarrow": false,
          "text": "<b>ROC_score</b>",
          "x": 4.55,
          "xanchor": "left",
          "xref": "x",
          "y": 0,
          "yref": "y"
         },
         {
          "align": "left",
          "font": {
           "color": "#000000"
          },
          "showarrow": false,
          "text": "Logistic Regression",
          "x": -0.45,
          "xanchor": "left",
          "xref": "x",
          "y": 1,
          "yref": "y"
         },
         {
          "align": "left",
          "font": {
           "color": "#000000"
          },
          "showarrow": false,
          "text": "0.8623",
          "x": 0.55,
          "xanchor": "left",
          "xref": "x",
          "y": 1,
          "yref": "y"
         },
         {
          "align": "left",
          "font": {
           "color": "#000000"
          },
          "showarrow": false,
          "text": "0.8621",
          "x": 1.55,
          "xanchor": "left",
          "xref": "x",
          "y": 1,
          "yref": "y"
         },
         {
          "align": "left",
          "font": {
           "color": "#000000"
          },
          "showarrow": false,
          "text": "0.8632",
          "x": 2.55,
          "xanchor": "left",
          "xref": "x",
          "y": 1,
          "yref": "y"
         },
         {
          "align": "left",
          "font": {
           "color": "#000000"
          },
          "showarrow": false,
          "text": "0.8627",
          "x": 3.55,
          "xanchor": "left",
          "xref": "x",
          "y": 1,
          "yref": "y"
         },
         {
          "align": "left",
          "font": {
           "color": "#000000"
          },
          "showarrow": false,
          "text": "0.8623",
          "x": 4.55,
          "xanchor": "left",
          "xref": "x",
          "y": 1,
          "yref": "y"
         },
         {
          "align": "left",
          "font": {
           "color": "#000000"
          },
          "showarrow": false,
          "text": "Decision Tree",
          "x": -0.45,
          "xanchor": "left",
          "xref": "x",
          "y": 2,
          "yref": "y"
         },
         {
          "align": "left",
          "font": {
           "color": "#000000"
          },
          "showarrow": false,
          "text": "0.848",
          "x": 0.55,
          "xanchor": "left",
          "xref": "x",
          "y": 2,
          "yref": "y"
         },
         {
          "align": "left",
          "font": {
           "color": "#000000"
          },
          "showarrow": false,
          "text": "0.8788",
          "x": 1.55,
          "xanchor": "left",
          "xref": "x",
          "y": 2,
          "yref": "y"
         },
         {
          "align": "left",
          "font": {
           "color": "#000000"
          },
          "showarrow": false,
          "text": "0.8286",
          "x": 2.55,
          "xanchor": "left",
          "xref": "x",
          "y": 2,
          "yref": "y"
         },
         {
          "align": "left",
          "font": {
           "color": "#000000"
          },
          "showarrow": false,
          "text": "0.8529",
          "x": 3.55,
          "xanchor": "left",
          "xref": "x",
          "y": 2,
          "yref": "y"
         },
         {
          "align": "left",
          "font": {
           "color": "#000000"
          },
          "showarrow": false,
          "text": "0.8479",
          "x": 4.55,
          "xanchor": "left",
          "xref": "x",
          "y": 2,
          "yref": "y"
         },
         {
          "align": "left",
          "font": {
           "color": "#000000"
          },
          "showarrow": false,
          "text": "KNN Classifier",
          "x": -0.45,
          "xanchor": "left",
          "xref": "x",
          "y": 3,
          "yref": "y"
         },
         {
          "align": "left",
          "font": {
           "color": "#000000"
          },
          "showarrow": false,
          "text": "0.8271",
          "x": 0.55,
          "xanchor": "left",
          "xref": "x",
          "y": 3,
          "yref": "y"
         },
         {
          "align": "left",
          "font": {
           "color": "#000000"
          },
          "showarrow": false,
          "text": "0.8494",
          "x": 1.55,
          "xanchor": "left",
          "xref": "x",
          "y": 3,
          "yref": "y"
         },
         {
          "align": "left",
          "font": {
           "color": "#000000"
          },
          "showarrow": false,
          "text": "0.814",
          "x": 2.55,
          "xanchor": "left",
          "xref": "x",
          "y": 3,
          "yref": "y"
         },
         {
          "align": "left",
          "font": {
           "color": "#000000"
          },
          "showarrow": false,
          "text": "0.8313",
          "x": 3.55,
          "xanchor": "left",
          "xref": "x",
          "y": 3,
          "yref": "y"
         },
         {
          "align": "left",
          "font": {
           "color": "#000000"
          },
          "showarrow": false,
          "text": "0.827",
          "x": 4.55,
          "xanchor": "left",
          "xref": "x",
          "y": 3,
          "yref": "y"
         },
         {
          "align": "left",
          "font": {
           "color": "#000000"
          },
          "showarrow": false,
          "text": "Random Forest Classifier",
          "x": -0.45,
          "xanchor": "left",
          "xref": "x",
          "y": 4,
          "yref": "y"
         },
         {
          "align": "left",
          "font": {
           "color": "#000000"
          },
          "showarrow": false,
          "text": "0.8537",
          "x": 0.55,
          "xanchor": "left",
          "xref": "x",
          "y": 4,
          "yref": "y"
         },
         {
          "align": "left",
          "font": {
           "color": "#000000"
          },
          "showarrow": false,
          "text": "0.8937",
          "x": 1.55,
          "xanchor": "left",
          "xref": "x",
          "y": 4,
          "yref": "y"
         },
         {
          "align": "left",
          "font": {
           "color": "#000000"
          },
          "showarrow": false,
          "text": "0.8282",
          "x": 2.55,
          "xanchor": "left",
          "xref": "x",
          "y": 4,
          "yref": "y"
         },
         {
          "align": "left",
          "font": {
           "color": "#000000"
          },
          "showarrow": false,
          "text": "0.8597",
          "x": 3.55,
          "xanchor": "left",
          "xref": "x",
          "y": 4,
          "yref": "y"
         },
         {
          "align": "left",
          "font": {
           "color": "#000000"
          },
          "showarrow": false,
          "text": "0.8536",
          "x": 4.55,
          "xanchor": "left",
          "xref": "x",
          "y": 4,
          "yref": "y"
         },
         {
          "align": "left",
          "font": {
           "color": "#000000"
          },
          "showarrow": false,
          "text": "Gaussian Naive Bayes",
          "x": -0.45,
          "xanchor": "left",
          "xref": "x",
          "y": 5,
          "yref": "y"
         },
         {
          "align": "left",
          "font": {
           "color": "#000000"
          },
          "showarrow": false,
          "text": "0.8286",
          "x": 0.55,
          "xanchor": "left",
          "xref": "x",
          "y": 5,
          "yref": "y"
         },
         {
          "align": "left",
          "font": {
           "color": "#000000"
          },
          "showarrow": false,
          "text": "0.7694",
          "x": 1.55,
          "xanchor": "left",
          "xref": "x",
          "y": 5,
          "yref": "y"
         },
         {
          "align": "left",
          "font": {
           "color": "#000000"
          },
          "showarrow": false,
          "text": "0.8738",
          "x": 2.55,
          "xanchor": "left",
          "xref": "x",
          "y": 5,
          "yref": "y"
         },
         {
          "align": "left",
          "font": {
           "color": "#000000"
          },
          "showarrow": false,
          "text": "0.8183",
          "x": 3.55,
          "xanchor": "left",
          "xref": "x",
          "y": 5,
          "yref": "y"
         },
         {
          "align": "left",
          "font": {
           "color": "#000000"
          },
          "showarrow": false,
          "text": "0.8288",
          "x": 4.55,
          "xanchor": "left",
          "xref": "x",
          "y": 5,
          "yref": "y"
         },
         {
          "align": "left",
          "font": {
           "color": "#000000"
          },
          "showarrow": false,
          "text": "SVM Classifier Linear",
          "x": -0.45,
          "xanchor": "left",
          "xref": "x",
          "y": 6,
          "yref": "y"
         },
         {
          "align": "left",
          "font": {
           "color": "#000000"
          },
          "showarrow": false,
          "text": "0.8667",
          "x": 0.55,
          "xanchor": "left",
          "xref": "x",
          "y": 6,
          "yref": "y"
         },
         {
          "align": "left",
          "font": {
           "color": "#000000"
          },
          "showarrow": false,
          "text": "0.8823",
          "x": 1.55,
          "xanchor": "left",
          "xref": "x",
          "y": 6,
          "yref": "y"
         },
         {
          "align": "left",
          "font": {
           "color": "#000000"
          },
          "showarrow": false,
          "text": "0.8564",
          "x": 2.55,
          "xanchor": "left",
          "xref": "x",
          "y": 6,
          "yref": "y"
         },
         {
          "align": "left",
          "font": {
           "color": "#000000"
          },
          "showarrow": false,
          "text": "0.8691",
          "x": 3.55,
          "xanchor": "left",
          "xref": "x",
          "y": 6,
          "yref": "y"
         },
         {
          "align": "left",
          "font": {
           "color": "#000000"
          },
          "showarrow": false,
          "text": "0.8667",
          "x": 4.55,
          "xanchor": "left",
          "xref": "x",
          "y": 6,
          "yref": "y"
         },
         {
          "align": "left",
          "font": {
           "color": "#000000"
          },
          "showarrow": false,
          "text": "ANN",
          "x": -0.45,
          "xanchor": "left",
          "xref": "x",
          "y": 7,
          "yref": "y"
         },
         {
          "align": "left",
          "font": {
           "color": "#000000"
          },
          "showarrow": false,
          "text": "0.859",
          "x": 0.55,
          "xanchor": "left",
          "xref": "x",
          "y": 7,
          "yref": "y"
         },
         {
          "align": "left",
          "font": {
           "color": "#000000"
          },
          "showarrow": false,
          "text": "0.9016",
          "x": 1.55,
          "xanchor": "left",
          "xref": "x",
          "y": 7,
          "yref": "y"
         },
         {
          "align": "left",
          "font": {
           "color": "#000000"
          },
          "showarrow": false,
          "text": "0.8315",
          "x": 2.55,
          "xanchor": "left",
          "xref": "x",
          "y": 7,
          "yref": "y"
         },
         {
          "align": "left",
          "font": {
           "color": "#000000"
          },
          "showarrow": false,
          "text": "0.8651",
          "x": 3.55,
          "xanchor": "left",
          "xref": "x",
          "y": 7,
          "yref": "y"
         },
         {
          "align": "left",
          "font": {
           "color": "#000000"
          },
          "showarrow": false,
          "text": "0.8589",
          "x": 4.55,
          "xanchor": "left",
          "xref": "x",
          "y": 7,
          "yref": "y"
         }
        ],
        "height": 290,
        "margin": {
         "b": 0,
         "l": 0,
         "r": 0,
         "t": 0
        },
        "template": {
         "data": {
          "bar": [
           {
            "error_x": {
             "color": "#2a3f5f"
            },
            "error_y": {
             "color": "#2a3f5f"
            },
            "marker": {
             "line": {
              "color": "#E5ECF6",
              "width": 0.5
             },
             "pattern": {
              "fillmode": "overlay",
              "size": 10,
              "solidity": 0.2
             }
            },
            "type": "bar"
           }
          ],
          "barpolar": [
           {
            "marker": {
             "line": {
              "color": "#E5ECF6",
              "width": 0.5
             },
             "pattern": {
              "fillmode": "overlay",
              "size": 10,
              "solidity": 0.2
             }
            },
            "type": "barpolar"
           }
          ],
          "carpet": [
           {
            "aaxis": {
             "endlinecolor": "#2a3f5f",
             "gridcolor": "white",
             "linecolor": "white",
             "minorgridcolor": "white",
             "startlinecolor": "#2a3f5f"
            },
            "baxis": {
             "endlinecolor": "#2a3f5f",
             "gridcolor": "white",
             "linecolor": "white",
             "minorgridcolor": "white",
             "startlinecolor": "#2a3f5f"
            },
            "type": "carpet"
           }
          ],
          "choropleth": [
           {
            "colorbar": {
             "outlinewidth": 0,
             "ticks": ""
            },
            "type": "choropleth"
           }
          ],
          "contour": [
           {
            "colorbar": {
             "outlinewidth": 0,
             "ticks": ""
            },
            "colorscale": [
             [
              0,
              "#0d0887"
             ],
             [
              0.1111111111111111,
              "#46039f"
             ],
             [
              0.2222222222222222,
              "#7201a8"
             ],
             [
              0.3333333333333333,
              "#9c179e"
             ],
             [
              0.4444444444444444,
              "#bd3786"
             ],
             [
              0.5555555555555556,
              "#d8576b"
             ],
             [
              0.6666666666666666,
              "#ed7953"
             ],
             [
              0.7777777777777778,
              "#fb9f3a"
             ],
             [
              0.8888888888888888,
              "#fdca26"
             ],
             [
              1,
              "#f0f921"
             ]
            ],
            "type": "contour"
           }
          ],
          "contourcarpet": [
           {
            "colorbar": {
             "outlinewidth": 0,
             "ticks": ""
            },
            "type": "contourcarpet"
           }
          ],
          "heatmap": [
           {
            "colorbar": {
             "outlinewidth": 0,
             "ticks": ""
            },
            "colorscale": [
             [
              0,
              "#0d0887"
             ],
             [
              0.1111111111111111,
              "#46039f"
             ],
             [
              0.2222222222222222,
              "#7201a8"
             ],
             [
              0.3333333333333333,
              "#9c179e"
             ],
             [
              0.4444444444444444,
              "#bd3786"
             ],
             [
              0.5555555555555556,
              "#d8576b"
             ],
             [
              0.6666666666666666,
              "#ed7953"
             ],
             [
              0.7777777777777778,
              "#fb9f3a"
             ],
             [
              0.8888888888888888,
              "#fdca26"
             ],
             [
              1,
              "#f0f921"
             ]
            ],
            "type": "heatmap"
           }
          ],
          "heatmapgl": [
           {
            "colorbar": {
             "outlinewidth": 0,
             "ticks": ""
            },
            "colorscale": [
             [
              0,
              "#0d0887"
             ],
             [
              0.1111111111111111,
              "#46039f"
             ],
             [
              0.2222222222222222,
              "#7201a8"
             ],
             [
              0.3333333333333333,
              "#9c179e"
             ],
             [
              0.4444444444444444,
              "#bd3786"
             ],
             [
              0.5555555555555556,
              "#d8576b"
             ],
             [
              0.6666666666666666,
              "#ed7953"
             ],
             [
              0.7777777777777778,
              "#fb9f3a"
             ],
             [
              0.8888888888888888,
              "#fdca26"
             ],
             [
              1,
              "#f0f921"
             ]
            ],
            "type": "heatmapgl"
           }
          ],
          "histogram": [
           {
            "marker": {
             "pattern": {
              "fillmode": "overlay",
              "size": 10,
              "solidity": 0.2
             }
            },
            "type": "histogram"
           }
          ],
          "histogram2d": [
           {
            "colorbar": {
             "outlinewidth": 0,
             "ticks": ""
            },
            "colorscale": [
             [
              0,
              "#0d0887"
             ],
             [
              0.1111111111111111,
              "#46039f"
             ],
             [
              0.2222222222222222,
              "#7201a8"
             ],
             [
              0.3333333333333333,
              "#9c179e"
             ],
             [
              0.4444444444444444,
              "#bd3786"
             ],
             [
              0.5555555555555556,
              "#d8576b"
             ],
             [
              0.6666666666666666,
              "#ed7953"
             ],
             [
              0.7777777777777778,
              "#fb9f3a"
             ],
             [
              0.8888888888888888,
              "#fdca26"
             ],
             [
              1,
              "#f0f921"
             ]
            ],
            "type": "histogram2d"
           }
          ],
          "histogram2dcontour": [
           {
            "colorbar": {
             "outlinewidth": 0,
             "ticks": ""
            },
            "colorscale": [
             [
              0,
              "#0d0887"
             ],
             [
              0.1111111111111111,
              "#46039f"
             ],
             [
              0.2222222222222222,
              "#7201a8"
             ],
             [
              0.3333333333333333,
              "#9c179e"
             ],
             [
              0.4444444444444444,
              "#bd3786"
             ],
             [
              0.5555555555555556,
              "#d8576b"
             ],
             [
              0.6666666666666666,
              "#ed7953"
             ],
             [
              0.7777777777777778,
              "#fb9f3a"
             ],
             [
              0.8888888888888888,
              "#fdca26"
             ],
             [
              1,
              "#f0f921"
             ]
            ],
            "type": "histogram2dcontour"
           }
          ],
          "mesh3d": [
           {
            "colorbar": {
             "outlinewidth": 0,
             "ticks": ""
            },
            "type": "mesh3d"
           }
          ],
          "parcoords": [
           {
            "line": {
             "colorbar": {
              "outlinewidth": 0,
              "ticks": ""
             }
            },
            "type": "parcoords"
           }
          ],
          "pie": [
           {
            "automargin": true,
            "type": "pie"
           }
          ],
          "scatter": [
           {
            "marker": {
             "colorbar": {
              "outlinewidth": 0,
              "ticks": ""
             }
            },
            "type": "scatter"
           }
          ],
          "scatter3d": [
           {
            "line": {
             "colorbar": {
              "outlinewidth": 0,
              "ticks": ""
             }
            },
            "marker": {
             "colorbar": {
              "outlinewidth": 0,
              "ticks": ""
             }
            },
            "type": "scatter3d"
           }
          ],
          "scattercarpet": [
           {
            "marker": {
             "colorbar": {
              "outlinewidth": 0,
              "ticks": ""
             }
            },
            "type": "scattercarpet"
           }
          ],
          "scattergeo": [
           {
            "marker": {
             "colorbar": {
              "outlinewidth": 0,
              "ticks": ""
             }
            },
            "type": "scattergeo"
           }
          ],
          "scattergl": [
           {
            "marker": {
             "colorbar": {
              "outlinewidth": 0,
              "ticks": ""
             }
            },
            "type": "scattergl"
           }
          ],
          "scattermapbox": [
           {
            "marker": {
             "colorbar": {
              "outlinewidth": 0,
              "ticks": ""
             }
            },
            "type": "scattermapbox"
           }
          ],
          "scatterpolar": [
           {
            "marker": {
             "colorbar": {
              "outlinewidth": 0,
              "ticks": ""
             }
            },
            "type": "scatterpolar"
           }
          ],
          "scatterpolargl": [
           {
            "marker": {
             "colorbar": {
              "outlinewidth": 0,
              "ticks": ""
             }
            },
            "type": "scatterpolargl"
           }
          ],
          "scatterternary": [
           {
            "marker": {
             "colorbar": {
              "outlinewidth": 0,
              "ticks": ""
             }
            },
            "type": "scatterternary"
           }
          ],
          "surface": [
           {
            "colorbar": {
             "outlinewidth": 0,
             "ticks": ""
            },
            "colorscale": [
             [
              0,
              "#0d0887"
             ],
             [
              0.1111111111111111,
              "#46039f"
             ],
             [
              0.2222222222222222,
              "#7201a8"
             ],
             [
              0.3333333333333333,
              "#9c179e"
             ],
             [
              0.4444444444444444,
              "#bd3786"
             ],
             [
              0.5555555555555556,
              "#d8576b"
             ],
             [
              0.6666666666666666,
              "#ed7953"
             ],
             [
              0.7777777777777778,
              "#fb9f3a"
             ],
             [
              0.8888888888888888,
              "#fdca26"
             ],
             [
              1,
              "#f0f921"
             ]
            ],
            "type": "surface"
           }
          ],
          "table": [
           {
            "cells": {
             "fill": {
              "color": "#EBF0F8"
             },
             "line": {
              "color": "white"
             }
            },
            "header": {
             "fill": {
              "color": "#C8D4E3"
             },
             "line": {
              "color": "white"
             }
            },
            "type": "table"
           }
          ]
         },
         "layout": {
          "annotationdefaults": {
           "arrowcolor": "#2a3f5f",
           "arrowhead": 0,
           "arrowwidth": 1
          },
          "autotypenumbers": "strict",
          "coloraxis": {
           "colorbar": {
            "outlinewidth": 0,
            "ticks": ""
           }
          },
          "colorscale": {
           "diverging": [
            [
             0,
             "#8e0152"
            ],
            [
             0.1,
             "#c51b7d"
            ],
            [
             0.2,
             "#de77ae"
            ],
            [
             0.3,
             "#f1b6da"
            ],
            [
             0.4,
             "#fde0ef"
            ],
            [
             0.5,
             "#f7f7f7"
            ],
            [
             0.6,
             "#e6f5d0"
            ],
            [
             0.7,
             "#b8e186"
            ],
            [
             0.8,
             "#7fbc41"
            ],
            [
             0.9,
             "#4d9221"
            ],
            [
             1,
             "#276419"
            ]
           ],
           "sequential": [
            [
             0,
             "#0d0887"
            ],
            [
             0.1111111111111111,
             "#46039f"
            ],
            [
             0.2222222222222222,
             "#7201a8"
            ],
            [
             0.3333333333333333,
             "#9c179e"
            ],
            [
             0.4444444444444444,
             "#bd3786"
            ],
            [
             0.5555555555555556,
             "#d8576b"
            ],
            [
             0.6666666666666666,
             "#ed7953"
            ],
            [
             0.7777777777777778,
             "#fb9f3a"
            ],
            [
             0.8888888888888888,
             "#fdca26"
            ],
            [
             1,
             "#f0f921"
            ]
           ],
           "sequentialminus": [
            [
             0,
             "#0d0887"
            ],
            [
             0.1111111111111111,
             "#46039f"
            ],
            [
             0.2222222222222222,
             "#7201a8"
            ],
            [
             0.3333333333333333,
             "#9c179e"
            ],
            [
             0.4444444444444444,
             "#bd3786"
            ],
            [
             0.5555555555555556,
             "#d8576b"
            ],
            [
             0.6666666666666666,
             "#ed7953"
            ],
            [
             0.7777777777777778,
             "#fb9f3a"
            ],
            [
             0.8888888888888888,
             "#fdca26"
            ],
            [
             1,
             "#f0f921"
            ]
           ]
          },
          "colorway": [
           "#636efa",
           "#EF553B",
           "#00cc96",
           "#ab63fa",
           "#FFA15A",
           "#19d3f3",
           "#FF6692",
           "#B6E880",
           "#FF97FF",
           "#FECB52"
          ],
          "font": {
           "color": "#2a3f5f"
          },
          "geo": {
           "bgcolor": "white",
           "lakecolor": "white",
           "landcolor": "#E5ECF6",
           "showlakes": true,
           "showland": true,
           "subunitcolor": "white"
          },
          "hoverlabel": {
           "align": "left"
          },
          "hovermode": "closest",
          "mapbox": {
           "style": "light"
          },
          "paper_bgcolor": "white",
          "plot_bgcolor": "#E5ECF6",
          "polar": {
           "angularaxis": {
            "gridcolor": "white",
            "linecolor": "white",
            "ticks": ""
           },
           "bgcolor": "#E5ECF6",
           "radialaxis": {
            "gridcolor": "white",
            "linecolor": "white",
            "ticks": ""
           }
          },
          "scene": {
           "xaxis": {
            "backgroundcolor": "#E5ECF6",
            "gridcolor": "white",
            "gridwidth": 2,
            "linecolor": "white",
            "showbackground": true,
            "ticks": "",
            "zerolinecolor": "white"
           },
           "yaxis": {
            "backgroundcolor": "#E5ECF6",
            "gridcolor": "white",
            "gridwidth": 2,
            "linecolor": "white",
            "showbackground": true,
            "ticks": "",
            "zerolinecolor": "white"
           },
           "zaxis": {
            "backgroundcolor": "#E5ECF6",
            "gridcolor": "white",
            "gridwidth": 2,
            "linecolor": "white",
            "showbackground": true,
            "ticks": "",
            "zerolinecolor": "white"
           }
          },
          "shapedefaults": {
           "line": {
            "color": "#2a3f5f"
           }
          },
          "ternary": {
           "aaxis": {
            "gridcolor": "white",
            "linecolor": "white",
            "ticks": ""
           },
           "baxis": {
            "gridcolor": "white",
            "linecolor": "white",
            "ticks": ""
           },
           "bgcolor": "#E5ECF6",
           "caxis": {
            "gridcolor": "white",
            "linecolor": "white",
            "ticks": ""
           }
          },
          "title": {
           "x": 0.05
          },
          "xaxis": {
           "automargin": true,
           "gridcolor": "white",
           "linecolor": "white",
           "ticks": "",
           "title": {
            "standoff": 15
           },
           "zerolinecolor": "white",
           "zerolinewidth": 2
          },
          "yaxis": {
           "automargin": true,
           "gridcolor": "white",
           "linecolor": "white",
           "ticks": "",
           "title": {
            "standoff": 15
           },
           "zerolinecolor": "white",
           "zerolinewidth": 2
          }
         }
        },
        "xaxis": {
         "dtick": 1,
         "gridwidth": 2,
         "showticklabels": false,
         "tick0": -0.5,
         "ticks": "",
         "zeroline": false
        },
        "yaxis": {
         "autorange": "reversed",
         "dtick": 1,
         "gridwidth": 2,
         "showticklabels": false,
         "tick0": 0.5,
         "ticks": "",
         "zeroline": false
        }
       }
      },
      "text/html": [
       "<div>                            <div id=\"50579bfe-1888-445f-b02c-e3f726b2e5c4\" class=\"plotly-graph-div\" style=\"height:290px; width:100%;\"></div>            <script type=\"text/javascript\">                require([\"plotly\"], function(Plotly) {                    window.PLOTLYENV=window.PLOTLYENV || {};                                    if (document.getElementById(\"50579bfe-1888-445f-b02c-e3f726b2e5c4\")) {                    Plotly.newPlot(                        \"50579bfe-1888-445f-b02c-e3f726b2e5c4\",                        [{\"colorscale\":[[0,\"#00083e\"],[0.5,\"#ededee\"],[1,\"#ffffff\"]],\"hoverinfo\":\"none\",\"opacity\":0.75,\"showscale\":false,\"type\":\"heatmap\",\"z\":[[0,0,0,0,0,0],[0.5,0.5,0.5,0.5,0.5,0.5],[1,1,1,1,1,1],[0.5,0.5,0.5,0.5,0.5,0.5],[1,1,1,1,1,1],[0.5,0.5,0.5,0.5,0.5,0.5],[1,1,1,1,1,1],[0.5,0.5,0.5,0.5,0.5,0.5]]}],                        {\"annotations\":[{\"align\":\"left\",\"font\":{\"color\":\"#ffffff\"},\"showarrow\":false,\"text\":\"<b>Model</b>\",\"x\":-0.45,\"xanchor\":\"left\",\"xref\":\"x\",\"y\":0,\"yref\":\"y\"},{\"align\":\"left\",\"font\":{\"color\":\"#ffffff\"},\"showarrow\":false,\"text\":\"<b>Accuracy_score</b>\",\"x\":0.55,\"xanchor\":\"left\",\"xref\":\"x\",\"y\":0,\"yref\":\"y\"},{\"align\":\"left\",\"font\":{\"color\":\"#ffffff\"},\"showarrow\":false,\"text\":\"<b>Recall_score</b>\",\"x\":1.55,\"xanchor\":\"left\",\"xref\":\"x\",\"y\":0,\"yref\":\"y\"},{\"align\":\"left\",\"font\":{\"color\":\"#ffffff\"},\"showarrow\":false,\"text\":\"<b>Precision</b>\",\"x\":2.55,\"xanchor\":\"left\",\"xref\":\"x\",\"y\":0,\"yref\":\"y\"},{\"align\":\"left\",\"font\":{\"color\":\"#ffffff\"},\"showarrow\":false,\"text\":\"<b>f1_score</b>\",\"x\":3.55,\"xanchor\":\"left\",\"xref\":\"x\",\"y\":0,\"yref\":\"y\"},{\"align\":\"left\",\"font\":{\"color\":\"#ffffff\"},\"showarrow\":false,\"text\":\"<b>ROC_score</b>\",\"x\":4.55,\"xanchor\":\"left\",\"xref\":\"x\",\"y\":0,\"yref\":\"y\"},{\"align\":\"left\",\"font\":{\"color\":\"#000000\"},\"showarrow\":false,\"text\":\"Logistic Regression\",\"x\":-0.45,\"xanchor\":\"left\",\"xref\":\"x\",\"y\":1,\"yref\":\"y\"},{\"align\":\"left\",\"font\":{\"color\":\"#000000\"},\"showarrow\":false,\"text\":\"0.8623\",\"x\":0.55,\"xanchor\":\"left\",\"xref\":\"x\",\"y\":1,\"yref\":\"y\"},{\"align\":\"left\",\"font\":{\"color\":\"#000000\"},\"showarrow\":false,\"text\":\"0.8621\",\"x\":1.55,\"xanchor\":\"left\",\"xref\":\"x\",\"y\":1,\"yref\":\"y\"},{\"align\":\"left\",\"font\":{\"color\":\"#000000\"},\"showarrow\":false,\"text\":\"0.8632\",\"x\":2.55,\"xanchor\":\"left\",\"xref\":\"x\",\"y\":1,\"yref\":\"y\"},{\"align\":\"left\",\"font\":{\"color\":\"#000000\"},\"showarrow\":false,\"text\":\"0.8627\",\"x\":3.55,\"xanchor\":\"left\",\"xref\":\"x\",\"y\":1,\"yref\":\"y\"},{\"align\":\"left\",\"font\":{\"color\":\"#000000\"},\"showarrow\":false,\"text\":\"0.8623\",\"x\":4.55,\"xanchor\":\"left\",\"xref\":\"x\",\"y\":1,\"yref\":\"y\"},{\"align\":\"left\",\"font\":{\"color\":\"#000000\"},\"showarrow\":false,\"text\":\"Decision Tree\",\"x\":-0.45,\"xanchor\":\"left\",\"xref\":\"x\",\"y\":2,\"yref\":\"y\"},{\"align\":\"left\",\"font\":{\"color\":\"#000000\"},\"showarrow\":false,\"text\":\"0.848\",\"x\":0.55,\"xanchor\":\"left\",\"xref\":\"x\",\"y\":2,\"yref\":\"y\"},{\"align\":\"left\",\"font\":{\"color\":\"#000000\"},\"showarrow\":false,\"text\":\"0.8788\",\"x\":1.55,\"xanchor\":\"left\",\"xref\":\"x\",\"y\":2,\"yref\":\"y\"},{\"align\":\"left\",\"font\":{\"color\":\"#000000\"},\"showarrow\":false,\"text\":\"0.8286\",\"x\":2.55,\"xanchor\":\"left\",\"xref\":\"x\",\"y\":2,\"yref\":\"y\"},{\"align\":\"left\",\"font\":{\"color\":\"#000000\"},\"showarrow\":false,\"text\":\"0.8529\",\"x\":3.55,\"xanchor\":\"left\",\"xref\":\"x\",\"y\":2,\"yref\":\"y\"},{\"align\":\"left\",\"font\":{\"color\":\"#000000\"},\"showarrow\":false,\"text\":\"0.8479\",\"x\":4.55,\"xanchor\":\"left\",\"xref\":\"x\",\"y\":2,\"yref\":\"y\"},{\"align\":\"left\",\"font\":{\"color\":\"#000000\"},\"showarrow\":false,\"text\":\"KNN Classifier\",\"x\":-0.45,\"xanchor\":\"left\",\"xref\":\"x\",\"y\":3,\"yref\":\"y\"},{\"align\":\"left\",\"font\":{\"color\":\"#000000\"},\"showarrow\":false,\"text\":\"0.8271\",\"x\":0.55,\"xanchor\":\"left\",\"xref\":\"x\",\"y\":3,\"yref\":\"y\"},{\"align\":\"left\",\"font\":{\"color\":\"#000000\"},\"showarrow\":false,\"text\":\"0.8494\",\"x\":1.55,\"xanchor\":\"left\",\"xref\":\"x\",\"y\":3,\"yref\":\"y\"},{\"align\":\"left\",\"font\":{\"color\":\"#000000\"},\"showarrow\":false,\"text\":\"0.814\",\"x\":2.55,\"xanchor\":\"left\",\"xref\":\"x\",\"y\":3,\"yref\":\"y\"},{\"align\":\"left\",\"font\":{\"color\":\"#000000\"},\"showarrow\":false,\"text\":\"0.8313\",\"x\":3.55,\"xanchor\":\"left\",\"xref\":\"x\",\"y\":3,\"yref\":\"y\"},{\"align\":\"left\",\"font\":{\"color\":\"#000000\"},\"showarrow\":false,\"text\":\"0.827\",\"x\":4.55,\"xanchor\":\"left\",\"xref\":\"x\",\"y\":3,\"yref\":\"y\"},{\"align\":\"left\",\"font\":{\"color\":\"#000000\"},\"showarrow\":false,\"text\":\"Random Forest Classifier\",\"x\":-0.45,\"xanchor\":\"left\",\"xref\":\"x\",\"y\":4,\"yref\":\"y\"},{\"align\":\"left\",\"font\":{\"color\":\"#000000\"},\"showarrow\":false,\"text\":\"0.8537\",\"x\":0.55,\"xanchor\":\"left\",\"xref\":\"x\",\"y\":4,\"yref\":\"y\"},{\"align\":\"left\",\"font\":{\"color\":\"#000000\"},\"showarrow\":false,\"text\":\"0.8937\",\"x\":1.55,\"xanchor\":\"left\",\"xref\":\"x\",\"y\":4,\"yref\":\"y\"},{\"align\":\"left\",\"font\":{\"color\":\"#000000\"},\"showarrow\":false,\"text\":\"0.8282\",\"x\":2.55,\"xanchor\":\"left\",\"xref\":\"x\",\"y\":4,\"yref\":\"y\"},{\"align\":\"left\",\"font\":{\"color\":\"#000000\"},\"showarrow\":false,\"text\":\"0.8597\",\"x\":3.55,\"xanchor\":\"left\",\"xref\":\"x\",\"y\":4,\"yref\":\"y\"},{\"align\":\"left\",\"font\":{\"color\":\"#000000\"},\"showarrow\":false,\"text\":\"0.8536\",\"x\":4.55,\"xanchor\":\"left\",\"xref\":\"x\",\"y\":4,\"yref\":\"y\"},{\"align\":\"left\",\"font\":{\"color\":\"#000000\"},\"showarrow\":false,\"text\":\"Gaussian Naive Bayes\",\"x\":-0.45,\"xanchor\":\"left\",\"xref\":\"x\",\"y\":5,\"yref\":\"y\"},{\"align\":\"left\",\"font\":{\"color\":\"#000000\"},\"showarrow\":false,\"text\":\"0.8286\",\"x\":0.55,\"xanchor\":\"left\",\"xref\":\"x\",\"y\":5,\"yref\":\"y\"},{\"align\":\"left\",\"font\":{\"color\":\"#000000\"},\"showarrow\":false,\"text\":\"0.7694\",\"x\":1.55,\"xanchor\":\"left\",\"xref\":\"x\",\"y\":5,\"yref\":\"y\"},{\"align\":\"left\",\"font\":{\"color\":\"#000000\"},\"showarrow\":false,\"text\":\"0.8738\",\"x\":2.55,\"xanchor\":\"left\",\"xref\":\"x\",\"y\":5,\"yref\":\"y\"},{\"align\":\"left\",\"font\":{\"color\":\"#000000\"},\"showarrow\":false,\"text\":\"0.8183\",\"x\":3.55,\"xanchor\":\"left\",\"xref\":\"x\",\"y\":5,\"yref\":\"y\"},{\"align\":\"left\",\"font\":{\"color\":\"#000000\"},\"showarrow\":false,\"text\":\"0.8288\",\"x\":4.55,\"xanchor\":\"left\",\"xref\":\"x\",\"y\":5,\"yref\":\"y\"},{\"align\":\"left\",\"font\":{\"color\":\"#000000\"},\"showarrow\":false,\"text\":\"SVM Classifier Linear\",\"x\":-0.45,\"xanchor\":\"left\",\"xref\":\"x\",\"y\":6,\"yref\":\"y\"},{\"align\":\"left\",\"font\":{\"color\":\"#000000\"},\"showarrow\":false,\"text\":\"0.8667\",\"x\":0.55,\"xanchor\":\"left\",\"xref\":\"x\",\"y\":6,\"yref\":\"y\"},{\"align\":\"left\",\"font\":{\"color\":\"#000000\"},\"showarrow\":false,\"text\":\"0.8823\",\"x\":1.55,\"xanchor\":\"left\",\"xref\":\"x\",\"y\":6,\"yref\":\"y\"},{\"align\":\"left\",\"font\":{\"color\":\"#000000\"},\"showarrow\":false,\"text\":\"0.8564\",\"x\":2.55,\"xanchor\":\"left\",\"xref\":\"x\",\"y\":6,\"yref\":\"y\"},{\"align\":\"left\",\"font\":{\"color\":\"#000000\"},\"showarrow\":false,\"text\":\"0.8691\",\"x\":3.55,\"xanchor\":\"left\",\"xref\":\"x\",\"y\":6,\"yref\":\"y\"},{\"align\":\"left\",\"font\":{\"color\":\"#000000\"},\"showarrow\":false,\"text\":\"0.8667\",\"x\":4.55,\"xanchor\":\"left\",\"xref\":\"x\",\"y\":6,\"yref\":\"y\"},{\"align\":\"left\",\"font\":{\"color\":\"#000000\"},\"showarrow\":false,\"text\":\"ANN\",\"x\":-0.45,\"xanchor\":\"left\",\"xref\":\"x\",\"y\":7,\"yref\":\"y\"},{\"align\":\"left\",\"font\":{\"color\":\"#000000\"},\"showarrow\":false,\"text\":\"0.859\",\"x\":0.55,\"xanchor\":\"left\",\"xref\":\"x\",\"y\":7,\"yref\":\"y\"},{\"align\":\"left\",\"font\":{\"color\":\"#000000\"},\"showarrow\":false,\"text\":\"0.9016\",\"x\":1.55,\"xanchor\":\"left\",\"xref\":\"x\",\"y\":7,\"yref\":\"y\"},{\"align\":\"left\",\"font\":{\"color\":\"#000000\"},\"showarrow\":false,\"text\":\"0.8315\",\"x\":2.55,\"xanchor\":\"left\",\"xref\":\"x\",\"y\":7,\"yref\":\"y\"},{\"align\":\"left\",\"font\":{\"color\":\"#000000\"},\"showarrow\":false,\"text\":\"0.8651\",\"x\":3.55,\"xanchor\":\"left\",\"xref\":\"x\",\"y\":7,\"yref\":\"y\"},{\"align\":\"left\",\"font\":{\"color\":\"#000000\"},\"showarrow\":false,\"text\":\"0.8589\",\"x\":4.55,\"xanchor\":\"left\",\"xref\":\"x\",\"y\":7,\"yref\":\"y\"}],\"height\":290,\"margin\":{\"b\":0,\"l\":0,\"r\":0,\"t\":0},\"template\":{\"data\":{\"bar\":[{\"error_x\":{\"color\":\"#2a3f5f\"},\"error_y\":{\"color\":\"#2a3f5f\"},\"marker\":{\"line\":{\"color\":\"#E5ECF6\",\"width\":0.5},\"pattern\":{\"fillmode\":\"overlay\",\"size\":10,\"solidity\":0.2}},\"type\":\"bar\"}],\"barpolar\":[{\"marker\":{\"line\":{\"color\":\"#E5ECF6\",\"width\":0.5},\"pattern\":{\"fillmode\":\"overlay\",\"size\":10,\"solidity\":0.2}},\"type\":\"barpolar\"}],\"carpet\":[{\"aaxis\":{\"endlinecolor\":\"#2a3f5f\",\"gridcolor\":\"white\",\"linecolor\":\"white\",\"minorgridcolor\":\"white\",\"startlinecolor\":\"#2a3f5f\"},\"baxis\":{\"endlinecolor\":\"#2a3f5f\",\"gridcolor\":\"white\",\"linecolor\":\"white\",\"minorgridcolor\":\"white\",\"startlinecolor\":\"#2a3f5f\"},\"type\":\"carpet\"}],\"choropleth\":[{\"colorbar\":{\"outlinewidth\":0,\"ticks\":\"\"},\"type\":\"choropleth\"}],\"contour\":[{\"colorbar\":{\"outlinewidth\":0,\"ticks\":\"\"},\"colorscale\":[[0.0,\"#0d0887\"],[0.1111111111111111,\"#46039f\"],[0.2222222222222222,\"#7201a8\"],[0.3333333333333333,\"#9c179e\"],[0.4444444444444444,\"#bd3786\"],[0.5555555555555556,\"#d8576b\"],[0.6666666666666666,\"#ed7953\"],[0.7777777777777778,\"#fb9f3a\"],[0.8888888888888888,\"#fdca26\"],[1.0,\"#f0f921\"]],\"type\":\"contour\"}],\"contourcarpet\":[{\"colorbar\":{\"outlinewidth\":0,\"ticks\":\"\"},\"type\":\"contourcarpet\"}],\"heatmap\":[{\"colorbar\":{\"outlinewidth\":0,\"ticks\":\"\"},\"colorscale\":[[0.0,\"#0d0887\"],[0.1111111111111111,\"#46039f\"],[0.2222222222222222,\"#7201a8\"],[0.3333333333333333,\"#9c179e\"],[0.4444444444444444,\"#bd3786\"],[0.5555555555555556,\"#d8576b\"],[0.6666666666666666,\"#ed7953\"],[0.7777777777777778,\"#fb9f3a\"],[0.8888888888888888,\"#fdca26\"],[1.0,\"#f0f921\"]],\"type\":\"heatmap\"}],\"heatmapgl\":[{\"colorbar\":{\"outlinewidth\":0,\"ticks\":\"\"},\"colorscale\":[[0.0,\"#0d0887\"],[0.1111111111111111,\"#46039f\"],[0.2222222222222222,\"#7201a8\"],[0.3333333333333333,\"#9c179e\"],[0.4444444444444444,\"#bd3786\"],[0.5555555555555556,\"#d8576b\"],[0.6666666666666666,\"#ed7953\"],[0.7777777777777778,\"#fb9f3a\"],[0.8888888888888888,\"#fdca26\"],[1.0,\"#f0f921\"]],\"type\":\"heatmapgl\"}],\"histogram\":[{\"marker\":{\"pattern\":{\"fillmode\":\"overlay\",\"size\":10,\"solidity\":0.2}},\"type\":\"histogram\"}],\"histogram2d\":[{\"colorbar\":{\"outlinewidth\":0,\"ticks\":\"\"},\"colorscale\":[[0.0,\"#0d0887\"],[0.1111111111111111,\"#46039f\"],[0.2222222222222222,\"#7201a8\"],[0.3333333333333333,\"#9c179e\"],[0.4444444444444444,\"#bd3786\"],[0.5555555555555556,\"#d8576b\"],[0.6666666666666666,\"#ed7953\"],[0.7777777777777778,\"#fb9f3a\"],[0.8888888888888888,\"#fdca26\"],[1.0,\"#f0f921\"]],\"type\":\"histogram2d\"}],\"histogram2dcontour\":[{\"colorbar\":{\"outlinewidth\":0,\"ticks\":\"\"},\"colorscale\":[[0.0,\"#0d0887\"],[0.1111111111111111,\"#46039f\"],[0.2222222222222222,\"#7201a8\"],[0.3333333333333333,\"#9c179e\"],[0.4444444444444444,\"#bd3786\"],[0.5555555555555556,\"#d8576b\"],[0.6666666666666666,\"#ed7953\"],[0.7777777777777778,\"#fb9f3a\"],[0.8888888888888888,\"#fdca26\"],[1.0,\"#f0f921\"]],\"type\":\"histogram2dcontour\"}],\"mesh3d\":[{\"colorbar\":{\"outlinewidth\":0,\"ticks\":\"\"},\"type\":\"mesh3d\"}],\"parcoords\":[{\"line\":{\"colorbar\":{\"outlinewidth\":0,\"ticks\":\"\"}},\"type\":\"parcoords\"}],\"pie\":[{\"automargin\":true,\"type\":\"pie\"}],\"scatter\":[{\"marker\":{\"colorbar\":{\"outlinewidth\":0,\"ticks\":\"\"}},\"type\":\"scatter\"}],\"scatter3d\":[{\"line\":{\"colorbar\":{\"outlinewidth\":0,\"ticks\":\"\"}},\"marker\":{\"colorbar\":{\"outlinewidth\":0,\"ticks\":\"\"}},\"type\":\"scatter3d\"}],\"scattercarpet\":[{\"marker\":{\"colorbar\":{\"outlinewidth\":0,\"ticks\":\"\"}},\"type\":\"scattercarpet\"}],\"scattergeo\":[{\"marker\":{\"colorbar\":{\"outlinewidth\":0,\"ticks\":\"\"}},\"type\":\"scattergeo\"}],\"scattergl\":[{\"marker\":{\"colorbar\":{\"outlinewidth\":0,\"ticks\":\"\"}},\"type\":\"scattergl\"}],\"scattermapbox\":[{\"marker\":{\"colorbar\":{\"outlinewidth\":0,\"ticks\":\"\"}},\"type\":\"scattermapbox\"}],\"scatterpolar\":[{\"marker\":{\"colorbar\":{\"outlinewidth\":0,\"ticks\":\"\"}},\"type\":\"scatterpolar\"}],\"scatterpolargl\":[{\"marker\":{\"colorbar\":{\"outlinewidth\":0,\"ticks\":\"\"}},\"type\":\"scatterpolargl\"}],\"scatterternary\":[{\"marker\":{\"colorbar\":{\"outlinewidth\":0,\"ticks\":\"\"}},\"type\":\"scatterternary\"}],\"surface\":[{\"colorbar\":{\"outlinewidth\":0,\"ticks\":\"\"},\"colorscale\":[[0.0,\"#0d0887\"],[0.1111111111111111,\"#46039f\"],[0.2222222222222222,\"#7201a8\"],[0.3333333333333333,\"#9c179e\"],[0.4444444444444444,\"#bd3786\"],[0.5555555555555556,\"#d8576b\"],[0.6666666666666666,\"#ed7953\"],[0.7777777777777778,\"#fb9f3a\"],[0.8888888888888888,\"#fdca26\"],[1.0,\"#f0f921\"]],\"type\":\"surface\"}],\"table\":[{\"cells\":{\"fill\":{\"color\":\"#EBF0F8\"},\"line\":{\"color\":\"white\"}},\"header\":{\"fill\":{\"color\":\"#C8D4E3\"},\"line\":{\"color\":\"white\"}},\"type\":\"table\"}]},\"layout\":{\"annotationdefaults\":{\"arrowcolor\":\"#2a3f5f\",\"arrowhead\":0,\"arrowwidth\":1},\"autotypenumbers\":\"strict\",\"coloraxis\":{\"colorbar\":{\"outlinewidth\":0,\"ticks\":\"\"}},\"colorscale\":{\"diverging\":[[0,\"#8e0152\"],[0.1,\"#c51b7d\"],[0.2,\"#de77ae\"],[0.3,\"#f1b6da\"],[0.4,\"#fde0ef\"],[0.5,\"#f7f7f7\"],[0.6,\"#e6f5d0\"],[0.7,\"#b8e186\"],[0.8,\"#7fbc41\"],[0.9,\"#4d9221\"],[1,\"#276419\"]],\"sequential\":[[0.0,\"#0d0887\"],[0.1111111111111111,\"#46039f\"],[0.2222222222222222,\"#7201a8\"],[0.3333333333333333,\"#9c179e\"],[0.4444444444444444,\"#bd3786\"],[0.5555555555555556,\"#d8576b\"],[0.6666666666666666,\"#ed7953\"],[0.7777777777777778,\"#fb9f3a\"],[0.8888888888888888,\"#fdca26\"],[1.0,\"#f0f921\"]],\"sequentialminus\":[[0.0,\"#0d0887\"],[0.1111111111111111,\"#46039f\"],[0.2222222222222222,\"#7201a8\"],[0.3333333333333333,\"#9c179e\"],[0.4444444444444444,\"#bd3786\"],[0.5555555555555556,\"#d8576b\"],[0.6666666666666666,\"#ed7953\"],[0.7777777777777778,\"#fb9f3a\"],[0.8888888888888888,\"#fdca26\"],[1.0,\"#f0f921\"]]},\"colorway\":[\"#636efa\",\"#EF553B\",\"#00cc96\",\"#ab63fa\",\"#FFA15A\",\"#19d3f3\",\"#FF6692\",\"#B6E880\",\"#FF97FF\",\"#FECB52\"],\"font\":{\"color\":\"#2a3f5f\"},\"geo\":{\"bgcolor\":\"white\",\"lakecolor\":\"white\",\"landcolor\":\"#E5ECF6\",\"showlakes\":true,\"showland\":true,\"subunitcolor\":\"white\"},\"hoverlabel\":{\"align\":\"left\"},\"hovermode\":\"closest\",\"mapbox\":{\"style\":\"light\"},\"paper_bgcolor\":\"white\",\"plot_bgcolor\":\"#E5ECF6\",\"polar\":{\"angularaxis\":{\"gridcolor\":\"white\",\"linecolor\":\"white\",\"ticks\":\"\"},\"bgcolor\":\"#E5ECF6\",\"radialaxis\":{\"gridcolor\":\"white\",\"linecolor\":\"white\",\"ticks\":\"\"}},\"scene\":{\"xaxis\":{\"backgroundcolor\":\"#E5ECF6\",\"gridcolor\":\"white\",\"gridwidth\":2,\"linecolor\":\"white\",\"showbackground\":true,\"ticks\":\"\",\"zerolinecolor\":\"white\"},\"yaxis\":{\"backgroundcolor\":\"#E5ECF6\",\"gridcolor\":\"white\",\"gridwidth\":2,\"linecolor\":\"white\",\"showbackground\":true,\"ticks\":\"\",\"zerolinecolor\":\"white\"},\"zaxis\":{\"backgroundcolor\":\"#E5ECF6\",\"gridcolor\":\"white\",\"gridwidth\":2,\"linecolor\":\"white\",\"showbackground\":true,\"ticks\":\"\",\"zerolinecolor\":\"white\"}},\"shapedefaults\":{\"line\":{\"color\":\"#2a3f5f\"}},\"ternary\":{\"aaxis\":{\"gridcolor\":\"white\",\"linecolor\":\"white\",\"ticks\":\"\"},\"baxis\":{\"gridcolor\":\"white\",\"linecolor\":\"white\",\"ticks\":\"\"},\"bgcolor\":\"#E5ECF6\",\"caxis\":{\"gridcolor\":\"white\",\"linecolor\":\"white\",\"ticks\":\"\"}},\"title\":{\"x\":0.05},\"xaxis\":{\"automargin\":true,\"gridcolor\":\"white\",\"linecolor\":\"white\",\"ticks\":\"\",\"title\":{\"standoff\":15},\"zerolinecolor\":\"white\",\"zerolinewidth\":2},\"yaxis\":{\"automargin\":true,\"gridcolor\":\"white\",\"linecolor\":\"white\",\"ticks\":\"\",\"title\":{\"standoff\":15},\"zerolinecolor\":\"white\",\"zerolinewidth\":2}}},\"xaxis\":{\"dtick\":1,\"gridwidth\":2,\"showticklabels\":false,\"tick0\":-0.5,\"ticks\":\"\",\"zeroline\":false},\"yaxis\":{\"autorange\":\"reversed\",\"dtick\":1,\"gridwidth\":2,\"showticklabels\":false,\"tick0\":0.5,\"ticks\":\"\",\"zeroline\":false}},                        {\"responsive\": true}                    ).then(function(){\n",
       "                            \n",
       "var gd = document.getElementById('50579bfe-1888-445f-b02c-e3f726b2e5c4');\n",
       "var x = new MutationObserver(function (mutations, observer) {{\n",
       "        var display = window.getComputedStyle(gd).display;\n",
       "        if (!display || display === 'none') {{\n",
       "            console.log([gd, 'removed!']);\n",
       "            Plotly.purge(gd);\n",
       "            observer.disconnect();\n",
       "        }}\n",
       "}});\n",
       "\n",
       "// Listen for the removal of the full notebook cells\n",
       "var notebookContainer = gd.closest('#notebook-container');\n",
       "if (notebookContainer) {{\n",
       "    x.observe(notebookContainer, {childList: true});\n",
       "}}\n",
       "\n",
       "// Listen for the clearing of the current output cell\n",
       "var outputEl = gd.closest('.output');\n",
       "if (outputEl) {{\n",
       "    x.observe(outputEl, {childList: true});\n",
       "}}\n",
       "\n",
       "                        })                };                });            </script>        </div>"
      ]
     },
     "metadata": {},
     "output_type": "display_data"
    }
   ],
   "source": [
    "def model_report(accuracy,recall,precision,f1score,name,ROC) :\n",
    "    \n",
    "    df = pd.DataFrame({\"Model\"           : [name],\n",
    "                       \"Accuracy_score\"  : [accuracy],\n",
    "                       \"Recall_score\"    : [recall],\n",
    "                       \"Precision\"       : [precision],\n",
    "                       \"f1_score\"        : [f1score],\n",
    "                       \"ROC_score\"       : [ROC]\n",
    "                       \n",
    "                      })\n",
    "    return df\n",
    "\n",
    "#outputs for every model\n",
    "model1 = model_report(accuracy_lr,recall_lr,precision_lr,f1_score_lr,\n",
    "                      \"Logistic Regression\",ROC_lr)\n",
    "\n",
    "model2 = model_report(accuracy_dt,recall_dt,precision_dt,f1_score_dt,\n",
    "                       \"Decision Tree\",ROC_dt)\n",
    "\n",
    "model3 = model_report(accuracy_knn,recall_knn,precision_knn,f1_score_knn,\n",
    "                      \"KNN Classifier\",ROC_knn)\n",
    "\n",
    "model4 = model_report(accuracy_rf,recall_rf,precision_rf,f1_score_rf,\n",
    "                      \"Random Forest Classifier\",ROC_rf)\n",
    "\n",
    "model5 = model_report(accuracy_nb,recall_nb,precision_nb,f1_score_nb,\n",
    "                      \"Gaussian Naive Bayes\",ROC_nb)\n",
    "\n",
    "model6 = model_report(accuracy_sv,recall_sv,precision_sv,f1_score_sv,\n",
    "                      \"SVM Classifier Linear\",ROC_sv)\n",
    "\n",
    "model7=model_report(accuracy_ann,recall_ann,precision_ann,f1_score_ann,\n",
    "                      \"ANN\",ROC_ann)\n",
    "\n",
    "#concat all models\n",
    "model_performances = pd.concat([model1, model2, model3, model4, model5, model6, model7],axis = 0).reset_index()\n",
    "\n",
    "model_performances = model_performances.drop(columns = \"index\",axis =1)\n",
    "\n",
    "table  = ff.create_table(np.round(model_performances,4))\n",
    "\n",
    "py.iplot(table)"
   ]
  },
  {
   "cell_type": "markdown",
   "id": "b83c922b",
   "metadata": {},
   "source": [
    "# Evaluation\n",
    "\n",
    "The supervised algorithms used are Logistic Regression, Decision Tree, K-NearestNeighbour (KNN), Random Forest, Gaussian Naive Bayes, Support Vector Machine (SVM), and Artificial Neural network (ANN) algorithms to fit the test and train models.\n",
    "\n",
    "### Accuracy\n",
    "Accuracy is the most intuitive performance measure and it is simply a ratio of correctly predicted observation to the total observations.\n",
    "\n",
    "### Precision\n",
    "Precision is the ratio of correctly predicted positive observations to the total predicted positive observations.\n",
    "\n",
    "### Recall\n",
    "Recall is the ratio of correctly predicted positive observations to the all observations in actual class\n",
    "\n",
    "### F1-score\n",
    "F1 Score is the weighted average of Precision and Recall. Therefore, this score takes both false positives and false negatives into account.\n",
    "\n",
    "### Precision or Recall?\n",
    "From the point of view, the recall score is more important than Precision score. This is because in this project, the False Negtive meaning that the recipient who predicted not died after died actually they died. The Recall score formula is TP/(TP + FN), so the smallest of FN, the highest of Recall score. "
   ]
  },
  {
   "cell_type": "markdown",
   "id": "64f94983",
   "metadata": {},
   "source": [
    "# Model Deployment\n",
    "\n",
    "### 6.1 Conclusion\n",
    "As a result, it was shown that Artificial Neural Network is the best algorithm to evaluate whether the recipeint after vaccine will died or not, as its Recall Score (0.9016) is the highest among the other algorithms. Therefore, it will be chosen for implementation.\n",
    "\n"
   ]
  },
  {
   "cell_type": "markdown",
   "id": "34c9d458",
   "metadata": {},
   "source": [
    "# Prediction using random forest algorithm"
   ]
  },
  {
   "attachments": {},
   "cell_type": "markdown",
   "id": "c39abfbe",
   "metadata": {},
   "source": [
    "Below is the example\n",
    "\n",
    "Male\n",
    "\n",
    "Adult\n",
    "\n",
    "Vaccine: Pfizer\n",
    "\n",
    "Recovered Status: Yes\n",
    "\n",
    "Current Illness: Hypertension, Diabetes\n",
    "\n",
    "Symptom: Headahce, Pyrexia, Injection side affect\n"
   ]
  },
  {
   "cell_type": "code",
   "execution_count": 111,
   "id": "bd9390fe",
   "metadata": {},
   "outputs": [],
   "source": [
    "row = [1, 0, 0, 1, 1, 1, 1, 1, 0, 0, 0, 0, 0, 0, 1, 0, 1, 0, 0, 0, 1, 0, 0, 1, 1, 0, 0, 0, 0  ]"
   ]
  },
  {
   "cell_type": "code",
   "execution_count": 114,
   "id": "c71d7411",
   "metadata": {},
   "outputs": [
    {
     "name": "stdout",
     "output_type": "stream",
     "text": [
      "Predicted: [0]\n"
     ]
    },
    {
     "name": "stderr",
     "output_type": "stream",
     "text": [
      "C:\\Users\\user\\anaconda3\\lib\\site-packages\\keras\\engine\\sequential.py:450: UserWarning:\n",
      "\n",
      "`model.predict_classes()` is deprecated and will be removed after 2021-01-01. Please use instead:* `np.argmax(model.predict(x), axis=-1)`,   if your model does multi-class classification   (e.g. if it uses a `softmax` last-layer activation).* `(model.predict(x) > 0.5).astype(\"int32\")`,   if your model does binary classification   (e.g. if it uses a `sigmoid` last-layer activation).\n",
      "\n"
     ]
    }
   ],
   "source": [
    "from numpy import asarray\n",
    "newX = asarray([row])\n",
    "yhat = model.predict_classes(newX)\n",
    "print('Predicted: %s' % yhat[0])"
   ]
  }
 ],
 "metadata": {
  "kernelspec": {
   "display_name": "Python 3",
   "language": "python",
   "name": "python3"
  },
  "language_info": {
   "codemirror_mode": {
    "name": "ipython",
    "version": 3
   },
   "file_extension": ".py",
   "mimetype": "text/x-python",
   "name": "python",
   "nbconvert_exporter": "python",
   "pygments_lexer": "ipython3",
   "version": "3.8.8"
  }
 },
 "nbformat": 4,
 "nbformat_minor": 5
}
